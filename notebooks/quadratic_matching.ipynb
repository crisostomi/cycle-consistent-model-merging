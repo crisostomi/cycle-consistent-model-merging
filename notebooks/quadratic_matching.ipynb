{
 "cells": [
  {
   "cell_type": "markdown",
   "metadata": {},
   "source": [
    "## Imports"
   ]
  },
  {
   "cell_type": "code",
   "execution_count": 43,
   "metadata": {},
   "outputs": [],
   "source": [
    "import copy\n",
    "import itertools\n",
    "import logging\n",
    "import math\n",
    "from functools import partial\n",
    "from pathlib import Path\n",
    "from typing import Dict\n",
    "import json\n",
    "\n",
    "import hydra\n",
    "import matplotlib\n",
    "import matplotlib.colors as colors\n",
    "import matplotlib.pyplot as plt\n",
    "import numpy as np\n",
    "import omegaconf\n",
    "import pytorch_lightning\n",
    "import seaborn as sns\n",
    "import torch  # noqa\n",
    "import wandb\n",
    "from hydra.utils import instantiate\n",
    "from matplotlib import tri\n",
    "from matplotlib.offsetbox import AnnotationBbox, OffsetImage\n",
    "from omegaconf import DictConfig\n",
    "from pytorch_lightning import LightningModule\n",
    "from scipy.stats import qmc\n",
    "from torch.utils.data import DataLoader, Subset, SubsetRandomSampler\n",
    "from tqdm import tqdm\n",
    "\n",
    "from nn_core.callbacks import NNTemplateCore\n",
    "from nn_core.common import PROJECT_ROOT\n",
    "from nn_core.common.utils import seed_index_everything\n",
    "from nn_core.model_logging import NNLogger\n",
    "\n",
    "import ccmm  # noqa\n",
    "from ccmm.matching.utils import (\n",
    "    apply_permutation_to_statedict,\n",
    "    get_all_symbols_combinations,\n",
    "    load_permutations,\n",
    "    perm_indices_to_perm_matrix,\n",
    "    plot_permutation_history_animation,\n",
    "    restore_original_weights,\n",
    ")\n",
    "from ccmm.utils.utils import (\n",
    "    fuse_batch_norm_into_conv,\n",
    "    get_interpolated_loss_acc_curves,\n",
    "    l2_norm_models,\n",
    "    linear_interpolate,\n",
    "    load_model_from_info,\n",
    "    map_model_seed_to_symbol,\n",
    "    normalize_unit_norm,\n",
    "    project_onto,\n",
    "    save_factored_permutations,\n",
    "    vector_to_state_dict,\n",
    ")"
   ]
  },
  {
   "cell_type": "code",
   "execution_count": 44,
   "metadata": {},
   "outputs": [
    {
     "data": {
      "text/plain": [
       "{'light red': '#c05761',\n",
       " 'green': '#2a9d8f',\n",
       " 'yellow': '#e9c46a',\n",
       " 'dark blue': '#264653',\n",
       " 'red': '#941c2f',\n",
       " 'orange': '#e76f51',\n",
       " 'violet': '#734f5a',\n",
       " 'light orange': '#f4a261'}"
      ]
     },
     "execution_count": 44,
     "metadata": {},
     "output_type": "execute_result"
    }
   ],
   "source": [
    "plt.rcParams.update(\n",
    "    {\n",
    "        \"text.usetex\": True,\n",
    "        \"font.family\": \"serif\",\n",
    "    }\n",
    ")\n",
    "sns.set_context(\"talk\")\n",
    "\n",
    "cmap_name = \"coolwarm_r\"\n",
    "\n",
    "from ccmm.utils.plot import Palette\n",
    "\n",
    "palette = Palette(f\"{PROJECT_ROOT}/misc/palette2.json\")\n",
    "palette"
   ]
  },
  {
   "cell_type": "code",
   "execution_count": 45,
   "metadata": {},
   "outputs": [],
   "source": [
    "logging.getLogger(\"lightning.pytorch\").setLevel(logging.WARNING)\n",
    "logging.getLogger(\"torch\").setLevel(logging.WARNING)\n",
    "logging.getLogger(\"pytorch_lightning.accelerators.cuda\").setLevel(logging.WARNING)\n",
    "pylogger = logging.getLogger(__name__)"
   ]
  },
  {
   "cell_type": "markdown",
   "metadata": {},
   "source": [
    "## Configuration"
   ]
  },
  {
   "cell_type": "code",
   "execution_count": 46,
   "metadata": {},
   "outputs": [
    {
     "name": "stdout",
     "output_type": "stream",
     "text": [
      "The autoreload extension is already loaded. To reload it, use:\n",
      "  %reload_ext autoreload\n"
     ]
    },
    {
     "data": {
      "text/plain": [
       "hydra.initialize()"
      ]
     },
     "execution_count": 46,
     "metadata": {},
     "output_type": "execute_result"
    }
   ],
   "source": [
    "%load_ext autoreload\n",
    "%autoreload 2\n",
    "\n",
    "import hydra\n",
    "from hydra import initialize, compose\n",
    "from typing import Dict, List\n",
    "\n",
    "hydra.core.global_hydra.GlobalHydra.instance().clear()\n",
    "initialize(version_base=None, config_path=str(\"../conf\"), job_name=\"matching\")"
   ]
  },
  {
   "cell_type": "code",
   "execution_count": 47,
   "metadata": {},
   "outputs": [],
   "source": [
    "cfg = compose(config_name=\"matching\", overrides=[\"model=mlp\", \"dataset=emnist\"])"
   ]
  },
  {
   "cell_type": "code",
   "execution_count": 48,
   "metadata": {},
   "outputs": [
    {
     "data": {
      "text/html": [
       "<pre style=\"white-space:pre;overflow-x:auto;line-height:normal;font-family:Menlo,'DejaVu Sans Mono',consolas,'Courier New',monospace\"><span style=\"color: #7fbfbf; text-decoration-color: #7fbfbf\">2025-01-03 08:28:48 </span><span style=\"color: #000080; text-decoration-color: #000080\">INFO    </span> Global seed set to <span style=\"color: #008080; text-decoration-color: #008080; font-weight: bold\">1273642419</span>                      <a href=\"file:///home/donato/miniconda3/envs/ccmm/lib/python3.9/site-packages/pytorch_lightning/utilities/seed.py\" target=\"_blank\"><span style=\"color: #7f7f7f; text-decoration-color: #7f7f7f\">pytorch_lightning.utilities.seed</span></a><span style=\"color: #7f7f7f; text-decoration-color: #7f7f7f\">:</span><a href=\"file:///home/donato/miniconda3/envs/ccmm/lib/python3.9/site-packages/pytorch_lightning/utilities/seed.py#71\" target=\"_blank\"><span style=\"color: #7f7f7f; text-decoration-color: #7f7f7f\">71</span></a>\n",
       "</pre>\n"
      ],
      "text/plain": [
       "\u001b[2;36m2025-01-03 08:28:48\u001b[0m\u001b[2;36m \u001b[0m\u001b[34mINFO    \u001b[0m Global seed set to \u001b[1;36m1273642419\u001b[0m                      \u001b]8;id=418697;file:///home/donato/miniconda3/envs/ccmm/lib/python3.9/site-packages/pytorch_lightning/utilities/seed.py\u001b\\\u001b[2mpytorch_lightning.utilities.seed\u001b[0m\u001b]8;;\u001b\\\u001b[2m:\u001b[0m\u001b]8;id=267232;file:///home/donato/miniconda3/envs/ccmm/lib/python3.9/site-packages/pytorch_lightning/utilities/seed.py#71\u001b\\\u001b[2m71\u001b[0m\u001b]8;;\u001b\\\n"
      ]
     },
     "metadata": {},
     "output_type": "display_data"
    },
    {
     "data": {
      "text/html": [
       "<pre style=\"white-space:pre;overflow-x:auto;line-height:normal;font-family:Menlo,'DejaVu Sans Mono',consolas,'Courier New',monospace\"><span style=\"color: #7fbfbf; text-decoration-color: #7fbfbf\">                    </span><span style=\"color: #000080; text-decoration-color: #000080\">INFO    </span> Setting seed <span style=\"color: #008080; text-decoration-color: #008080; font-weight: bold\">1273642419</span> from seeds<span style=\"font-weight: bold\">[</span><span style=\"color: #008080; text-decoration-color: #008080; font-weight: bold\">1</span><span style=\"font-weight: bold\">]</span>                         <a href=\"file:///home/donato/miniconda3/envs/ccmm/lib/python3.9/site-packages/nn_core/common/utils.py\" target=\"_blank\"><span style=\"color: #7f7f7f; text-decoration-color: #7f7f7f\">nn_core.common.utils</span></a><span style=\"color: #7f7f7f; text-decoration-color: #7f7f7f\">:</span><a href=\"file:///home/donato/miniconda3/envs/ccmm/lib/python3.9/site-packages/nn_core/common/utils.py#107\" target=\"_blank\"><span style=\"color: #7f7f7f; text-decoration-color: #7f7f7f\">107</span></a>\n",
       "</pre>\n"
      ],
      "text/plain": [
       "\u001b[2;36m                   \u001b[0m\u001b[2;36m \u001b[0m\u001b[34mINFO    \u001b[0m Setting seed \u001b[1;36m1273642419\u001b[0m from seeds\u001b[1m[\u001b[0m\u001b[1;36m1\u001b[0m\u001b[1m]\u001b[0m                         \u001b]8;id=874177;file:///home/donato/miniconda3/envs/ccmm/lib/python3.9/site-packages/nn_core/common/utils.py\u001b\\\u001b[2mnn_core.common.utils\u001b[0m\u001b]8;;\u001b\\\u001b[2m:\u001b[0m\u001b]8;id=339757;file:///home/donato/miniconda3/envs/ccmm/lib/python3.9/site-packages/nn_core/common/utils.py#107\u001b\\\u001b[2m107\u001b[0m\u001b]8;;\u001b\\\n"
      ]
     },
     "metadata": {},
     "output_type": "display_data"
    },
    {
     "data": {
      "text/plain": [
       "1273642419"
      ]
     },
     "execution_count": 48,
     "metadata": {},
     "output_type": "execute_result"
    }
   ],
   "source": [
    "core_cfg = cfg  # NOQA\n",
    "cfg = cfg.matching\n",
    "\n",
    "seed_index_everything(cfg)"
   ]
  },
  {
   "cell_type": "markdown",
   "metadata": {},
   "source": [
    "## Hyperparameters"
   ]
  },
  {
   "cell_type": "code",
   "execution_count": 49,
   "metadata": {},
   "outputs": [],
   "source": [
    "num_test_samples = 5000\n",
    "num_train_samples = 10000"
   ]
  },
  {
   "cell_type": "markdown",
   "metadata": {},
   "source": [
    "## Load dataset"
   ]
  },
  {
   "cell_type": "code",
   "execution_count": 50,
   "metadata": {},
   "outputs": [
    {
     "name": "stdout",
     "output_type": "stream",
     "text": [
      "/media/donato/Extra-storage/Code/model-merging/cycle-consistent-model-merging/data/EMNIST/raw/emnist-letters-train-images-idx3-ubyte /media/donato/Extra-storage/Code/model-merging/cycle-consistent-model-merging/data/EMNIST/raw/emnist-letters-train-labels-idx1-ubyte\n",
      "/media/donato/Extra-storage/Code/model-merging/cycle-consistent-model-merging/data/EMNIST/raw/emnist-letters-test-images-idx3-ubyte /media/donato/Extra-storage/Code/model-merging/cycle-consistent-model-merging/data/EMNIST/raw/emnist-letters-test-labels-idx1-ubyte\n"
     ]
    }
   ],
   "source": [
    "transform = instantiate(core_cfg.dataset.test.transform)\n",
    "\n",
    "train_dataset = instantiate(core_cfg.dataset.train, transform=transform)\n",
    "test_dataset = instantiate(core_cfg.dataset.test, transform=transform)\n",
    "\n",
    "train_subset = Subset(train_dataset, list(range(num_train_samples)))\n",
    "train_loader = DataLoader(train_subset, batch_size=5000, num_workers=cfg.num_workers)\n",
    "\n",
    "test_subset = Subset(test_dataset, list(range(num_test_samples)))\n",
    "\n",
    "test_loader = DataLoader(test_subset, batch_size=1000, num_workers=cfg.num_workers)"
   ]
  },
  {
   "cell_type": "code",
   "execution_count": 51,
   "metadata": {},
   "outputs": [
    {
     "name": "stderr",
     "output_type": "stream",
     "text": [
      "/home/donato/miniconda3/envs/ccmm/lib/python3.9/site-packages/pytorch_lightning/trainer/connectors/accelerator_connector.py:447: LightningDeprecationWarning: Setting `Trainer(gpus=1)` is deprecated in v1.7 and will be removed in v2.0. Please use `Trainer(accelerator='gpu', devices=1)` instead.\n",
      "  rank_zero_deprecation(\n"
     ]
    },
    {
     "data": {
      "text/html": [
       "<pre style=\"white-space:pre;overflow-x:auto;line-height:normal;font-family:Menlo,'DejaVu Sans Mono',consolas,'Courier New',monospace\"><span style=\"color: #7fbfbf; text-decoration-color: #7fbfbf\">                    </span><span style=\"color: #000080; text-decoration-color: #000080\">INFO    </span> GPU available: <span style=\"color: #00ff00; text-decoration-color: #00ff00; font-style: italic\">True</span> <span style=\"font-weight: bold\">(</span>cuda<span style=\"font-weight: bold\">)</span>, used: <span style=\"color: #00ff00; text-decoration-color: #00ff00; font-style: italic\">True</span>      <a href=\"file:///home/donato/miniconda3/envs/ccmm/lib/python3.9/site-packages/pytorch_lightning/trainer/trainer.py\" target=\"_blank\"><span style=\"color: #7f7f7f; text-decoration-color: #7f7f7f\">pytorch_lightning.utilities.rank_zero</span></a><span style=\"color: #7f7f7f; text-decoration-color: #7f7f7f\">:</span><a href=\"file:///home/donato/miniconda3/envs/ccmm/lib/python3.9/site-packages/pytorch_lightning/trainer/trainer.py#1751\" target=\"_blank\"><span style=\"color: #7f7f7f; text-decoration-color: #7f7f7f\">1751</span></a>\n",
       "</pre>\n"
      ],
      "text/plain": [
       "\u001b[2;36m                   \u001b[0m\u001b[2;36m \u001b[0m\u001b[34mINFO    \u001b[0m GPU available: \u001b[3;92mTrue\u001b[0m \u001b[1m(\u001b[0mcuda\u001b[1m)\u001b[0m, used: \u001b[3;92mTrue\u001b[0m      \u001b]8;id=174676;file:///home/donato/miniconda3/envs/ccmm/lib/python3.9/site-packages/pytorch_lightning/trainer/trainer.py\u001b\\\u001b[2mpytorch_lightning.utilities.rank_zero\u001b[0m\u001b]8;;\u001b\\\u001b[2m:\u001b[0m\u001b]8;id=790783;file:///home/donato/miniconda3/envs/ccmm/lib/python3.9/site-packages/pytorch_lightning/trainer/trainer.py#1751\u001b\\\u001b[2m1751\u001b[0m\u001b]8;;\u001b\\\n"
      ]
     },
     "metadata": {},
     "output_type": "display_data"
    },
    {
     "data": {
      "text/html": [
       "<pre style=\"white-space:pre;overflow-x:auto;line-height:normal;font-family:Menlo,'DejaVu Sans Mono',consolas,'Courier New',monospace\"><span style=\"color: #7fbfbf; text-decoration-color: #7fbfbf\">                    </span><span style=\"color: #000080; text-decoration-color: #000080\">INFO    </span> TPU available: <span style=\"color: #ff0000; text-decoration-color: #ff0000; font-style: italic\">False</span>, using: <span style=\"color: #008080; text-decoration-color: #008080; font-weight: bold\">0</span> TPU cores    <a href=\"file:///home/donato/miniconda3/envs/ccmm/lib/python3.9/site-packages/pytorch_lightning/trainer/trainer.py\" target=\"_blank\"><span style=\"color: #7f7f7f; text-decoration-color: #7f7f7f\">pytorch_lightning.utilities.rank_zero</span></a><span style=\"color: #7f7f7f; text-decoration-color: #7f7f7f\">:</span><a href=\"file:///home/donato/miniconda3/envs/ccmm/lib/python3.9/site-packages/pytorch_lightning/trainer/trainer.py#1754\" target=\"_blank\"><span style=\"color: #7f7f7f; text-decoration-color: #7f7f7f\">1754</span></a>\n",
       "</pre>\n"
      ],
      "text/plain": [
       "\u001b[2;36m                   \u001b[0m\u001b[2;36m \u001b[0m\u001b[34mINFO    \u001b[0m TPU available: \u001b[3;91mFalse\u001b[0m, using: \u001b[1;36m0\u001b[0m TPU cores    \u001b]8;id=447211;file:///home/donato/miniconda3/envs/ccmm/lib/python3.9/site-packages/pytorch_lightning/trainer/trainer.py\u001b\\\u001b[2mpytorch_lightning.utilities.rank_zero\u001b[0m\u001b]8;;\u001b\\\u001b[2m:\u001b[0m\u001b]8;id=530377;file:///home/donato/miniconda3/envs/ccmm/lib/python3.9/site-packages/pytorch_lightning/trainer/trainer.py#1754\u001b\\\u001b[2m1754\u001b[0m\u001b]8;;\u001b\\\n"
      ]
     },
     "metadata": {},
     "output_type": "display_data"
    },
    {
     "data": {
      "text/html": [
       "<pre style=\"white-space:pre;overflow-x:auto;line-height:normal;font-family:Menlo,'DejaVu Sans Mono',consolas,'Courier New',monospace\"><span style=\"color: #7fbfbf; text-decoration-color: #7fbfbf\">                    </span><span style=\"color: #000080; text-decoration-color: #000080\">INFO    </span> IPU available: <span style=\"color: #ff0000; text-decoration-color: #ff0000; font-style: italic\">False</span>, using: <span style=\"color: #008080; text-decoration-color: #008080; font-weight: bold\">0</span> IPUs         <a href=\"file:///home/donato/miniconda3/envs/ccmm/lib/python3.9/site-packages/pytorch_lightning/trainer/trainer.py\" target=\"_blank\"><span style=\"color: #7f7f7f; text-decoration-color: #7f7f7f\">pytorch_lightning.utilities.rank_zero</span></a><span style=\"color: #7f7f7f; text-decoration-color: #7f7f7f\">:</span><a href=\"file:///home/donato/miniconda3/envs/ccmm/lib/python3.9/site-packages/pytorch_lightning/trainer/trainer.py#1757\" target=\"_blank\"><span style=\"color: #7f7f7f; text-decoration-color: #7f7f7f\">1757</span></a>\n",
       "</pre>\n"
      ],
      "text/plain": [
       "\u001b[2;36m                   \u001b[0m\u001b[2;36m \u001b[0m\u001b[34mINFO    \u001b[0m IPU available: \u001b[3;91mFalse\u001b[0m, using: \u001b[1;36m0\u001b[0m IPUs         \u001b]8;id=143249;file:///home/donato/miniconda3/envs/ccmm/lib/python3.9/site-packages/pytorch_lightning/trainer/trainer.py\u001b\\\u001b[2mpytorch_lightning.utilities.rank_zero\u001b[0m\u001b]8;;\u001b\\\u001b[2m:\u001b[0m\u001b]8;id=263840;file:///home/donato/miniconda3/envs/ccmm/lib/python3.9/site-packages/pytorch_lightning/trainer/trainer.py#1757\u001b\\\u001b[2m1757\u001b[0m\u001b]8;;\u001b\\\n"
      ]
     },
     "metadata": {},
     "output_type": "display_data"
    },
    {
     "data": {
      "text/html": [
       "<pre style=\"white-space:pre;overflow-x:auto;line-height:normal;font-family:Menlo,'DejaVu Sans Mono',consolas,'Courier New',monospace\"><span style=\"color: #7fbfbf; text-decoration-color: #7fbfbf\">                    </span><span style=\"color: #000080; text-decoration-color: #000080\">INFO    </span> HPU available: <span style=\"color: #ff0000; text-decoration-color: #ff0000; font-style: italic\">False</span>, using: <span style=\"color: #008080; text-decoration-color: #008080; font-weight: bold\">0</span> HPUs         <a href=\"file:///home/donato/miniconda3/envs/ccmm/lib/python3.9/site-packages/pytorch_lightning/trainer/trainer.py\" target=\"_blank\"><span style=\"color: #7f7f7f; text-decoration-color: #7f7f7f\">pytorch_lightning.utilities.rank_zero</span></a><span style=\"color: #7f7f7f; text-decoration-color: #7f7f7f\">:</span><a href=\"file:///home/donato/miniconda3/envs/ccmm/lib/python3.9/site-packages/pytorch_lightning/trainer/trainer.py#1760\" target=\"_blank\"><span style=\"color: #7f7f7f; text-decoration-color: #7f7f7f\">1760</span></a>\n",
       "</pre>\n"
      ],
      "text/plain": [
       "\u001b[2;36m                   \u001b[0m\u001b[2;36m \u001b[0m\u001b[34mINFO    \u001b[0m HPU available: \u001b[3;91mFalse\u001b[0m, using: \u001b[1;36m0\u001b[0m HPUs         \u001b]8;id=768303;file:///home/donato/miniconda3/envs/ccmm/lib/python3.9/site-packages/pytorch_lightning/trainer/trainer.py\u001b\\\u001b[2mpytorch_lightning.utilities.rank_zero\u001b[0m\u001b]8;;\u001b\\\u001b[2m:\u001b[0m\u001b]8;id=365854;file:///home/donato/miniconda3/envs/ccmm/lib/python3.9/site-packages/pytorch_lightning/trainer/trainer.py#1760\u001b\\\u001b[2m1760\u001b[0m\u001b]8;;\u001b\\\n"
      ]
     },
     "metadata": {},
     "output_type": "display_data"
    }
   ],
   "source": [
    "trainer = instantiate(cfg.trainer, enable_progress_bar=False, enable_model_summary=False)"
   ]
  },
  {
   "cell_type": "markdown",
   "metadata": {},
   "source": [
    "## Load models"
   ]
  },
  {
   "cell_type": "code",
   "execution_count": 52,
   "metadata": {},
   "outputs": [
    {
     "data": {
      "text/html": [
       "Finishing last run (ID:75sc6hk9) before initializing another..."
      ],
      "text/plain": [
       "<IPython.core.display.HTML object>"
      ]
     },
     "metadata": {},
     "output_type": "display_data"
    },
    {
     "data": {
      "text/html": [
       "<style>\n",
       "    table.wandb td:nth-child(1) { padding: 0 10px; text-align: left ; width: auto;} td:nth-child(2) {text-align: left ; width: 100%}\n",
       "    .wandb-row { display: flex; flex-direction: row; flex-wrap: wrap; justify-content: flex-start; width: 100% }\n",
       "    .wandb-col { display: flex; flex-direction: column; flex-basis: 100%; flex: 1; padding: 10px; }\n",
       "    </style>\n",
       "<div class=\"wandb-row\"><div class=\"wandb-col\"><h3>Run history:</h3><br/><table class=\"wandb\"><tr><td>merging_time</td><td>▁</td></tr></table><br/></div><div class=\"wandb-col\"><h3>Run summary:</h3><br/><table class=\"wandb\"><tr><td>merging_time</td><td>2.28722</td></tr></table><br/></div></div>"
      ],
      "text/plain": [
       "<IPython.core.display.HTML object>"
      ]
     },
     "metadata": {},
     "output_type": "display_data"
    },
    {
     "data": {
      "text/html": [
       " View run <strong style=\"color:#cdcd00\">jolly-butterfly-3616</strong> at: <a href='https://wandb.ai/gladia/cycle-consistent-model-merging/runs/75sc6hk9' target=\"_blank\">https://wandb.ai/gladia/cycle-consistent-model-merging/runs/75sc6hk9</a><br/> View project at: <a href='https://wandb.ai/gladia/cycle-consistent-model-merging' target=\"_blank\">https://wandb.ai/gladia/cycle-consistent-model-merging</a><br/>Synced 7 W&B file(s), 0 media file(s), 0 artifact file(s) and 0 other file(s)"
      ],
      "text/plain": [
       "<IPython.core.display.HTML object>"
      ]
     },
     "metadata": {},
     "output_type": "display_data"
    },
    {
     "data": {
      "text/html": [
       "Find logs at: <code>./wandb/run-20250103_082720-75sc6hk9/logs</code>"
      ],
      "text/plain": [
       "<IPython.core.display.HTML object>"
      ]
     },
     "metadata": {},
     "output_type": "display_data"
    },
    {
     "data": {
      "text/html": [
       "Successfully finished last run (ID:75sc6hk9). Initializing new run:<br/>"
      ],
      "text/plain": [
       "<IPython.core.display.HTML object>"
      ]
     },
     "metadata": {},
     "output_type": "display_data"
    },
    {
     "data": {
      "text/html": [
       "wandb version 0.19.1 is available!  To upgrade, please run:\n",
       " $ pip install wandb --upgrade"
      ],
      "text/plain": [
       "<IPython.core.display.HTML object>"
      ]
     },
     "metadata": {},
     "output_type": "display_data"
    },
    {
     "data": {
      "text/html": [
       "Tracking run with wandb version 0.16.6"
      ],
      "text/plain": [
       "<IPython.core.display.HTML object>"
      ]
     },
     "metadata": {},
     "output_type": "display_data"
    },
    {
     "data": {
      "text/html": [
       "Run data is saved locally in <code>/media/donato/Extra-storage/Code/model-merging/cycle-consistent-model-merging/notebooks/wandb/run-20250103_082848-gf4ah6z1</code>"
      ],
      "text/plain": [
       "<IPython.core.display.HTML object>"
      ]
     },
     "metadata": {},
     "output_type": "display_data"
    },
    {
     "data": {
      "text/html": [
       "Syncing run <strong><a href='https://wandb.ai/gladia/cycle-consistent-model-merging/runs/gf4ah6z1' target=\"_blank\">fancy-water-3617</a></strong> to <a href='https://wandb.ai/gladia/cycle-consistent-model-merging' target=\"_blank\">Weights & Biases</a> (<a href='https://wandb.me/run' target=\"_blank\">docs</a>)<br/>"
      ],
      "text/plain": [
       "<IPython.core.display.HTML object>"
      ]
     },
     "metadata": {},
     "output_type": "display_data"
    },
    {
     "data": {
      "text/html": [
       " View project at <a href='https://wandb.ai/gladia/cycle-consistent-model-merging' target=\"_blank\">https://wandb.ai/gladia/cycle-consistent-model-merging</a>"
      ],
      "text/plain": [
       "<IPython.core.display.HTML object>"
      ]
     },
     "metadata": {},
     "output_type": "display_data"
    },
    {
     "data": {
      "text/html": [
       " View run at <a href='https://wandb.ai/gladia/cycle-consistent-model-merging/runs/gf4ah6z1' target=\"_blank\">https://wandb.ai/gladia/cycle-consistent-model-merging/runs/gf4ah6z1</a>"
      ],
      "text/plain": [
       "<IPython.core.display.HTML object>"
      ]
     },
     "metadata": {},
     "output_type": "display_data"
    },
    {
     "data": {
      "text/html": [
       "<pre style=\"white-space:pre;overflow-x:auto;line-height:normal;font-family:Menlo,'DejaVu Sans Mono',consolas,'Courier New',monospace\"><span style=\"color: #7fbfbf; text-decoration-color: #7fbfbf\">2025-01-03 08:28:55 </span><span style=\"color: #000080; text-decoration-color: #000080\">INFO    </span> Trying to load                                                    <a href=\"file:///media/donato/Extra-storage/Code/model-merging/cycle-consistent-model-merging/src/ccmm/utils/utils.py\" target=\"_blank\"><span style=\"color: #7f7f7f; text-decoration-color: #7f7f7f\">ccmm.utils.utils</span></a><span style=\"color: #7f7f7f; text-decoration-color: #7f7f7f\">:</span><a href=\"file:///media/donato/Extra-storage/Code/model-merging/cycle-consistent-model-merging/src/ccmm/utils/utils.py#264\" target=\"_blank\"><span style=\"color: #7f7f7f; text-decoration-color: #7f7f7f\">264</span></a>\n",
       "<span style=\"color: #7fbfbf; text-decoration-color: #7fbfbf\">                    </span>         gladia/cycle-consistent-model-merging/EMNIST_MLP_1:latest         <span style=\"color: #7f7f7f; text-decoration-color: #7f7f7f\">                    </span>\n",
       "</pre>\n"
      ],
      "text/plain": [
       "\u001b[2;36m2025-01-03 08:28:55\u001b[0m\u001b[2;36m \u001b[0m\u001b[34mINFO    \u001b[0m Trying to load                                                    \u001b]8;id=203790;file:///media/donato/Extra-storage/Code/model-merging/cycle-consistent-model-merging/src/ccmm/utils/utils.py\u001b\\\u001b[2mccmm.utils.utils\u001b[0m\u001b]8;;\u001b\\\u001b[2m:\u001b[0m\u001b]8;id=464800;file:///media/donato/Extra-storage/Code/model-merging/cycle-consistent-model-merging/src/ccmm/utils/utils.py#264\u001b\\\u001b[2m264\u001b[0m\u001b]8;;\u001b\\\n",
       "\u001b[2;36m                    \u001b[0m         gladia/cycle-consistent-model-merging/EMNIST_MLP_1:latest         \u001b[2m                    \u001b[0m\n"
      ]
     },
     "metadata": {},
     "output_type": "display_data"
    },
    {
     "name": "stderr",
     "output_type": "stream",
     "text": [
      "\u001b[34m\u001b[1mwandb\u001b[0m:   1 of 1 files downloaded.  \n"
     ]
    },
    {
     "data": {
      "text/html": [
       "<pre style=\"white-space:pre;overflow-x:auto;line-height:normal;font-family:Menlo,'DejaVu Sans Mono',consolas,'Courier New',monospace\"><span style=\"color: #7fbfbf; text-decoration-color: #7fbfbf\">2025-01-03 08:28:56 </span><span style=\"color: #000080; text-decoration-color: #000080\">INFO    </span> Trying to load                                                    <a href=\"file:///media/donato/Extra-storage/Code/model-merging/cycle-consistent-model-merging/src/ccmm/utils/utils.py\" target=\"_blank\"><span style=\"color: #7f7f7f; text-decoration-color: #7f7f7f\">ccmm.utils.utils</span></a><span style=\"color: #7f7f7f; text-decoration-color: #7f7f7f\">:</span><a href=\"file:///media/donato/Extra-storage/Code/model-merging/cycle-consistent-model-merging/src/ccmm/utils/utils.py#264\" target=\"_blank\"><span style=\"color: #7f7f7f; text-decoration-color: #7f7f7f\">264</span></a>\n",
       "<span style=\"color: #7fbfbf; text-decoration-color: #7fbfbf\">                    </span>         gladia/cycle-consistent-model-merging/EMNIST_MLP_2:latest         <span style=\"color: #7f7f7f; text-decoration-color: #7f7f7f\">                    </span>\n",
       "</pre>\n"
      ],
      "text/plain": [
       "\u001b[2;36m2025-01-03 08:28:56\u001b[0m\u001b[2;36m \u001b[0m\u001b[34mINFO    \u001b[0m Trying to load                                                    \u001b]8;id=44469;file:///media/donato/Extra-storage/Code/model-merging/cycle-consistent-model-merging/src/ccmm/utils/utils.py\u001b\\\u001b[2mccmm.utils.utils\u001b[0m\u001b]8;;\u001b\\\u001b[2m:\u001b[0m\u001b]8;id=758767;file:///media/donato/Extra-storage/Code/model-merging/cycle-consistent-model-merging/src/ccmm/utils/utils.py#264\u001b\\\u001b[2m264\u001b[0m\u001b]8;;\u001b\\\n",
       "\u001b[2;36m                    \u001b[0m         gladia/cycle-consistent-model-merging/EMNIST_MLP_2:latest         \u001b[2m                    \u001b[0m\n"
      ]
     },
     "metadata": {},
     "output_type": "display_data"
    },
    {
     "name": "stderr",
     "output_type": "stream",
     "text": [
      "\u001b[34m\u001b[1mwandb\u001b[0m:   1 of 1 files downloaded.  \n"
     ]
    },
    {
     "data": {
      "text/html": [
       "<pre style=\"white-space:pre;overflow-x:auto;line-height:normal;font-family:Menlo,'DejaVu Sans Mono',consolas,'Courier New',monospace\"><span style=\"color: #7fbfbf; text-decoration-color: #7fbfbf\">2025-01-03 08:28:58 </span><span style=\"color: #000080; text-decoration-color: #000080\">INFO    </span> Using <span style=\"color: #008080; text-decoration-color: #008080; font-weight: bold\">2</span> models with architecture MLP                                       <a href=\"file:///tmp/ipykernel_11089/4100191972.py\" target=\"_blank\"><span style=\"color: #7f7f7f; text-decoration-color: #7f7f7f\">__main__</span></a><span style=\"color: #7f7f7f; text-decoration-color: #7f7f7f\">:</span><a href=\"file:///tmp/ipykernel_11089/4100191972.py#20\" target=\"_blank\"><span style=\"color: #7f7f7f; text-decoration-color: #7f7f7f\">20</span></a>\n",
       "</pre>\n"
      ],
      "text/plain": [
       "\u001b[2;36m2025-01-03 08:28:58\u001b[0m\u001b[2;36m \u001b[0m\u001b[34mINFO    \u001b[0m Using \u001b[1;36m2\u001b[0m models with architecture MLP                                       \u001b]8;id=140771;file:///tmp/ipykernel_11089/4100191972.py\u001b\\\u001b[2m__main__\u001b[0m\u001b]8;;\u001b\\\u001b[2m:\u001b[0m\u001b]8;id=576061;file:///tmp/ipykernel_11089/4100191972.py#20\u001b\\\u001b[2m20\u001b[0m\u001b]8;;\u001b\\\n"
      ]
     },
     "metadata": {},
     "output_type": "display_data"
    }
   ],
   "source": [
    "from ccmm.utils.utils import load_model_from_artifact\n",
    "\n",
    "run = wandb.init(project=core_cfg.core.project_name, entity=core_cfg.core.entity, job_type=\"matching\")\n",
    "\n",
    "# {a: 1, b: 2, c: 3, ..}\n",
    "symbols_to_seed: Dict[int, str] = {map_model_seed_to_symbol(seed): seed for seed in cfg.model_seeds}\n",
    "\n",
    "artifact_path = (\n",
    "    lambda seed: f\"{core_cfg.core.entity}/{core_cfg.core.project_name}/{core_cfg.dataset.name}_{core_cfg.model.model_identifier}_{seed}:latest\"\n",
    ")\n",
    "\n",
    "# {a: model_a, b: model_b, c: model_c, ..}\n",
    "models: Dict[str, LightningModule] = {\n",
    "    map_model_seed_to_symbol(seed): load_model_from_artifact(run, artifact_path(seed)) for seed in cfg.model_seeds\n",
    "}\n",
    "model_orig_weights = {symbol: copy.deepcopy(model.model.state_dict()) for symbol, model in models.items()}\n",
    "\n",
    "num_models = len(models)\n",
    "\n",
    "pylogger.info(f\"Using {num_models} models with architecture {core_cfg.model.model_identifier}\")"
   ]
  },
  {
   "cell_type": "markdown",
   "metadata": {},
   "source": [
    "## Match models"
   ]
  },
  {
   "cell_type": "code",
   "execution_count": 53,
   "metadata": {},
   "outputs": [],
   "source": [
    "# always permute the model having larger character order, i.e. c -> b, b -> a and so on ...\n",
    "from ccmm.matching.matcher import GitRebasinMatcher\n",
    "from ccmm.matching.utils import get_inverse_permutations\n",
    "\n",
    "symbols = set(symbols_to_seed.keys())\n",
    "sorted_symbols = sorted(symbols, reverse=False)\n",
    "fixed_symbol, permutee_symbol = \"a\", \"b\"\n",
    "fixed_model, permutee_model = models[fixed_symbol].cpu(), models[permutee_symbol].cpu()"
   ]
  },
  {
   "cell_type": "code",
   "execution_count": 54,
   "metadata": {},
   "outputs": [],
   "source": [
    "from ccmm.matching.permutation_spec import MLPPermutationSpecBuilder, CNNPermutationSpecBuilder\n",
    "\n",
    "permutation_spec_builder = MLPPermutationSpecBuilder(num_hidden_layers=4)\n",
    "# permutation_spec_builder = CNNPermutationSpecBuilder()\n",
    "permutation_spec = permutation_spec_builder.create_permutation_spec()\n",
    "\n",
    "ref_model = list(models.values())[0]\n",
    "assert set(permutation_spec.layer_and_axes_to_perm.keys()) == set(ref_model.model.state_dict().keys())"
   ]
  },
  {
   "cell_type": "markdown",
   "metadata": {},
   "source": [
    "### Naive"
   ]
  },
  {
   "cell_type": "code",
   "execution_count": 55,
   "metadata": {},
   "outputs": [],
   "source": [
    "restore_original_weights(models, model_orig_weights)"
   ]
  },
  {
   "cell_type": "code",
   "execution_count": 56,
   "metadata": {},
   "outputs": [],
   "source": [
    "from ccmm.matching.matcher import DummyMatcher\n",
    "\n",
    "matcher = DummyMatcher(name=\"naive\", permutation_spec=permutation_spec)"
   ]
  },
  {
   "cell_type": "code",
   "execution_count": 57,
   "metadata": {},
   "outputs": [],
   "source": [
    "# dicts for permutations and permuted params, D[a][b] refers to the permutation/params to map b -> a\n",
    "naive_permutations = {symb: {other_symb: None for other_symb in symbols.difference(symb)} for symb in symbols}\n",
    "\n",
    "naive_permutations[fixed_symbol][permutee_symbol], perm_history = matcher(\n",
    "    fixed=fixed_model.model, permutee=permutee_model.model\n",
    ")\n",
    "\n",
    "naive_permutations[permutee_symbol][fixed_symbol] = get_inverse_permutations(\n",
    "    naive_permutations[fixed_symbol][permutee_symbol]\n",
    ")"
   ]
  },
  {
   "cell_type": "code",
   "execution_count": 58,
   "metadata": {},
   "outputs": [
    {
     "data": {
      "text/html": [
       "<pre style=\"white-space:pre;overflow-x:auto;line-height:normal;font-family:Menlo,'DejaVu Sans Mono',consolas,'Courier New',monospace\"><span style=\"color: #7fbfbf; text-decoration-color: #7fbfbf\">                    </span><span style=\"color: #000080; text-decoration-color: #000080\">INFO    </span> Permuting model b into a.                                                   <a href=\"file:///tmp/ipykernel_11089/3939703209.py\" target=\"_blank\"><span style=\"color: #7f7f7f; text-decoration-color: #7f7f7f\">__main__</span></a><span style=\"color: #7f7f7f; text-decoration-color: #7f7f7f\">:</span><a href=\"file:///tmp/ipykernel_11089/3939703209.py#7\" target=\"_blank\"><span style=\"color: #7f7f7f; text-decoration-color: #7f7f7f\">7</span></a>\n",
       "</pre>\n"
      ],
      "text/plain": [
       "\u001b[2;36m                   \u001b[0m\u001b[2;36m \u001b[0m\u001b[34mINFO    \u001b[0m Permuting model b into a.                                                   \u001b]8;id=131413;file:///tmp/ipykernel_11089/3939703209.py\u001b\\\u001b[2m__main__\u001b[0m\u001b]8;;\u001b\\\u001b[2m:\u001b[0m\u001b]8;id=654578;file:///tmp/ipykernel_11089/3939703209.py#7\u001b\\\u001b[2m7\u001b[0m\u001b]8;;\u001b\\\n"
      ]
     },
     "metadata": {},
     "output_type": "display_data"
    }
   ],
   "source": [
    "from scripts.evaluate_matched_models import evaluate_pair_of_models\n",
    "\n",
    "restore_original_weights(models, model_orig_weights)\n",
    "\n",
    "updated_params = {fixed_symbol: {permutee_symbol: None}}\n",
    "\n",
    "pylogger.info(f\"Permuting model {permutee_symbol} into {fixed_symbol}.\")\n",
    "\n",
    "# perms[a, b] maps b -> a\n",
    "updated_params[fixed_symbol][permutee_symbol] = apply_permutation_to_statedict(\n",
    "    permutation_spec, naive_permutations[fixed_symbol][permutee_symbol], models[permutee_symbol].model.state_dict()\n",
    ")\n",
    "restore_original_weights(models, model_orig_weights)\n",
    "\n",
    "lambdas = [0.0, 0.5, 1]  # np.linspace(0, 1, num=4)"
   ]
  },
  {
   "cell_type": "code",
   "execution_count": 59,
   "metadata": {},
   "outputs": [
    {
     "name": "stderr",
     "output_type": "stream",
     "text": [
      "/home/donato/miniconda3/envs/ccmm/lib/python3.9/site-packages/pytorch_lightning/trainer/connectors/accelerator_connector.py:447: LightningDeprecationWarning: Setting `Trainer(gpus=1)` is deprecated in v1.7 and will be removed in v2.0. Please use `Trainer(accelerator='gpu', devices=1)` instead.\n",
      "  rank_zero_deprecation(\n"
     ]
    },
    {
     "data": {
      "text/html": [
       "<pre style=\"white-space:pre;overflow-x:auto;line-height:normal;font-family:Menlo,'DejaVu Sans Mono',consolas,'Courier New',monospace\"><span style=\"color: #7fbfbf; text-decoration-color: #7fbfbf\">                    </span><span style=\"color: #000080; text-decoration-color: #000080\">INFO    </span> GPU available: <span style=\"color: #00ff00; text-decoration-color: #00ff00; font-style: italic\">True</span> <span style=\"font-weight: bold\">(</span>cuda<span style=\"font-weight: bold\">)</span>, used: <span style=\"color: #00ff00; text-decoration-color: #00ff00; font-style: italic\">True</span>      <a href=\"file:///home/donato/miniconda3/envs/ccmm/lib/python3.9/site-packages/pytorch_lightning/trainer/trainer.py\" target=\"_blank\"><span style=\"color: #7f7f7f; text-decoration-color: #7f7f7f\">pytorch_lightning.utilities.rank_zero</span></a><span style=\"color: #7f7f7f; text-decoration-color: #7f7f7f\">:</span><a href=\"file:///home/donato/miniconda3/envs/ccmm/lib/python3.9/site-packages/pytorch_lightning/trainer/trainer.py#1751\" target=\"_blank\"><span style=\"color: #7f7f7f; text-decoration-color: #7f7f7f\">1751</span></a>\n",
       "</pre>\n"
      ],
      "text/plain": [
       "\u001b[2;36m                   \u001b[0m\u001b[2;36m \u001b[0m\u001b[34mINFO    \u001b[0m GPU available: \u001b[3;92mTrue\u001b[0m \u001b[1m(\u001b[0mcuda\u001b[1m)\u001b[0m, used: \u001b[3;92mTrue\u001b[0m      \u001b]8;id=77612;file:///home/donato/miniconda3/envs/ccmm/lib/python3.9/site-packages/pytorch_lightning/trainer/trainer.py\u001b\\\u001b[2mpytorch_lightning.utilities.rank_zero\u001b[0m\u001b]8;;\u001b\\\u001b[2m:\u001b[0m\u001b]8;id=645076;file:///home/donato/miniconda3/envs/ccmm/lib/python3.9/site-packages/pytorch_lightning/trainer/trainer.py#1751\u001b\\\u001b[2m1751\u001b[0m\u001b]8;;\u001b\\\n"
      ]
     },
     "metadata": {},
     "output_type": "display_data"
    },
    {
     "data": {
      "text/html": [
       "<pre style=\"white-space:pre;overflow-x:auto;line-height:normal;font-family:Menlo,'DejaVu Sans Mono',consolas,'Courier New',monospace\"><span style=\"color: #7fbfbf; text-decoration-color: #7fbfbf\">                    </span><span style=\"color: #000080; text-decoration-color: #000080\">INFO    </span> TPU available: <span style=\"color: #ff0000; text-decoration-color: #ff0000; font-style: italic\">False</span>, using: <span style=\"color: #008080; text-decoration-color: #008080; font-weight: bold\">0</span> TPU cores    <a href=\"file:///home/donato/miniconda3/envs/ccmm/lib/python3.9/site-packages/pytorch_lightning/trainer/trainer.py\" target=\"_blank\"><span style=\"color: #7f7f7f; text-decoration-color: #7f7f7f\">pytorch_lightning.utilities.rank_zero</span></a><span style=\"color: #7f7f7f; text-decoration-color: #7f7f7f\">:</span><a href=\"file:///home/donato/miniconda3/envs/ccmm/lib/python3.9/site-packages/pytorch_lightning/trainer/trainer.py#1754\" target=\"_blank\"><span style=\"color: #7f7f7f; text-decoration-color: #7f7f7f\">1754</span></a>\n",
       "</pre>\n"
      ],
      "text/plain": [
       "\u001b[2;36m                   \u001b[0m\u001b[2;36m \u001b[0m\u001b[34mINFO    \u001b[0m TPU available: \u001b[3;91mFalse\u001b[0m, using: \u001b[1;36m0\u001b[0m TPU cores    \u001b]8;id=197043;file:///home/donato/miniconda3/envs/ccmm/lib/python3.9/site-packages/pytorch_lightning/trainer/trainer.py\u001b\\\u001b[2mpytorch_lightning.utilities.rank_zero\u001b[0m\u001b]8;;\u001b\\\u001b[2m:\u001b[0m\u001b]8;id=679197;file:///home/donato/miniconda3/envs/ccmm/lib/python3.9/site-packages/pytorch_lightning/trainer/trainer.py#1754\u001b\\\u001b[2m1754\u001b[0m\u001b]8;;\u001b\\\n"
      ]
     },
     "metadata": {},
     "output_type": "display_data"
    },
    {
     "data": {
      "text/html": [
       "<pre style=\"white-space:pre;overflow-x:auto;line-height:normal;font-family:Menlo,'DejaVu Sans Mono',consolas,'Courier New',monospace\"><span style=\"color: #7fbfbf; text-decoration-color: #7fbfbf\">                    </span><span style=\"color: #000080; text-decoration-color: #000080\">INFO    </span> IPU available: <span style=\"color: #ff0000; text-decoration-color: #ff0000; font-style: italic\">False</span>, using: <span style=\"color: #008080; text-decoration-color: #008080; font-weight: bold\">0</span> IPUs         <a href=\"file:///home/donato/miniconda3/envs/ccmm/lib/python3.9/site-packages/pytorch_lightning/trainer/trainer.py\" target=\"_blank\"><span style=\"color: #7f7f7f; text-decoration-color: #7f7f7f\">pytorch_lightning.utilities.rank_zero</span></a><span style=\"color: #7f7f7f; text-decoration-color: #7f7f7f\">:</span><a href=\"file:///home/donato/miniconda3/envs/ccmm/lib/python3.9/site-packages/pytorch_lightning/trainer/trainer.py#1757\" target=\"_blank\"><span style=\"color: #7f7f7f; text-decoration-color: #7f7f7f\">1757</span></a>\n",
       "</pre>\n"
      ],
      "text/plain": [
       "\u001b[2;36m                   \u001b[0m\u001b[2;36m \u001b[0m\u001b[34mINFO    \u001b[0m IPU available: \u001b[3;91mFalse\u001b[0m, using: \u001b[1;36m0\u001b[0m IPUs         \u001b]8;id=426806;file:///home/donato/miniconda3/envs/ccmm/lib/python3.9/site-packages/pytorch_lightning/trainer/trainer.py\u001b\\\u001b[2mpytorch_lightning.utilities.rank_zero\u001b[0m\u001b]8;;\u001b\\\u001b[2m:\u001b[0m\u001b]8;id=325846;file:///home/donato/miniconda3/envs/ccmm/lib/python3.9/site-packages/pytorch_lightning/trainer/trainer.py#1757\u001b\\\u001b[2m1757\u001b[0m\u001b]8;;\u001b\\\n"
      ]
     },
     "metadata": {},
     "output_type": "display_data"
    },
    {
     "data": {
      "text/html": [
       "<pre style=\"white-space:pre;overflow-x:auto;line-height:normal;font-family:Menlo,'DejaVu Sans Mono',consolas,'Courier New',monospace\"><span style=\"color: #7fbfbf; text-decoration-color: #7fbfbf\">                    </span><span style=\"color: #000080; text-decoration-color: #000080\">INFO    </span> HPU available: <span style=\"color: #ff0000; text-decoration-color: #ff0000; font-style: italic\">False</span>, using: <span style=\"color: #008080; text-decoration-color: #008080; font-weight: bold\">0</span> HPUs         <a href=\"file:///home/donato/miniconda3/envs/ccmm/lib/python3.9/site-packages/pytorch_lightning/trainer/trainer.py\" target=\"_blank\"><span style=\"color: #7f7f7f; text-decoration-color: #7f7f7f\">pytorch_lightning.utilities.rank_zero</span></a><span style=\"color: #7f7f7f; text-decoration-color: #7f7f7f\">:</span><a href=\"file:///home/donato/miniconda3/envs/ccmm/lib/python3.9/site-packages/pytorch_lightning/trainer/trainer.py#1760\" target=\"_blank\"><span style=\"color: #7f7f7f; text-decoration-color: #7f7f7f\">1760</span></a>\n",
       "</pre>\n"
      ],
      "text/plain": [
       "\u001b[2;36m                   \u001b[0m\u001b[2;36m \u001b[0m\u001b[34mINFO    \u001b[0m HPU available: \u001b[3;91mFalse\u001b[0m, using: \u001b[1;36m0\u001b[0m HPUs         \u001b]8;id=17192;file:///home/donato/miniconda3/envs/ccmm/lib/python3.9/site-packages/pytorch_lightning/trainer/trainer.py\u001b\\\u001b[2mpytorch_lightning.utilities.rank_zero\u001b[0m\u001b]8;;\u001b\\\u001b[2m:\u001b[0m\u001b]8;id=489511;file:///home/donato/miniconda3/envs/ccmm/lib/python3.9/site-packages/pytorch_lightning/trainer/trainer.py#1760\u001b\\\u001b[2m1760\u001b[0m\u001b]8;;\u001b\\\n"
      ]
     },
     "metadata": {},
     "output_type": "display_data"
    },
    {
     "name": "stderr",
     "output_type": "stream",
     "text": [
      "  0%|          | 0/3 [00:00<?, ?it/s]"
     ]
    },
    {
     "data": {
      "text/html": [
       "<pre style=\"white-space:pre;overflow-x:auto;line-height:normal;font-family:Menlo,'DejaVu Sans Mono',consolas,'Courier New',monospace\"><span style=\"color: #7fbfbf; text-decoration-color: #7fbfbf\">                    </span><span style=\"color: #000080; text-decoration-color: #000080\">INFO    </span> Evaluating interpolated model with lambda: <span style=\"color: #008080; text-decoration-color: #008080; font-weight: bold\">0.0</span>                    <a href=\"file:///media/donato/Extra-storage/Code/model-merging/cycle-consistent-model-merging/src/ccmm/utils/utils.py\" target=\"_blank\"><span style=\"color: #7f7f7f; text-decoration-color: #7f7f7f\">ccmm.utils.utils</span></a><span style=\"color: #7f7f7f; text-decoration-color: #7f7f7f\">:</span><a href=\"file:///media/donato/Extra-storage/Code/model-merging/cycle-consistent-model-merging/src/ccmm/utils/utils.py#168\" target=\"_blank\"><span style=\"color: #7f7f7f; text-decoration-color: #7f7f7f\">168</span></a>\n",
       "</pre>\n"
      ],
      "text/plain": [
       "\u001b[2;36m                   \u001b[0m\u001b[2;36m \u001b[0m\u001b[34mINFO    \u001b[0m Evaluating interpolated model with lambda: \u001b[1;36m0.0\u001b[0m                    \u001b]8;id=437703;file:///media/donato/Extra-storage/Code/model-merging/cycle-consistent-model-merging/src/ccmm/utils/utils.py\u001b\\\u001b[2mccmm.utils.utils\u001b[0m\u001b]8;;\u001b\\\u001b[2m:\u001b[0m\u001b]8;id=955597;file:///media/donato/Extra-storage/Code/model-merging/cycle-consistent-model-merging/src/ccmm/utils/utils.py#168\u001b\\\u001b[2m168\u001b[0m\u001b]8;;\u001b\\\n"
      ]
     },
     "metadata": {},
     "output_type": "display_data"
    },
    {
     "data": {
      "text/html": [
       "<pre style=\"white-space:pre;overflow-x:auto;line-height:normal;font-family:Menlo,'DejaVu Sans Mono',consolas,'Courier New',monospace\">┏━━━━━━━━━━━━━━━━━━━━━━━━━━━┳━━━━━━━━━━━━━━━━━━━━━━━━━━━┓\n",
       "┃<span style=\"font-weight: bold\">        Test metric        </span>┃<span style=\"font-weight: bold\">       DataLoader 0        </span>┃\n",
       "┡━━━━━━━━━━━━━━━━━━━━━━━━━━━╇━━━━━━━━━━━━━━━━━━━━━━━━━━━┩\n",
       "│<span style=\"color: #008080; text-decoration-color: #008080\">         acc/test          </span>│<span style=\"color: #800080; text-decoration-color: #800080\">    0.9811000227928162     </span>│\n",
       "│<span style=\"color: #008080; text-decoration-color: #008080\">         loss/test         </span>│<span style=\"color: #800080; text-decoration-color: #800080\">    0.04600973054766655    </span>│\n",
       "└───────────────────────────┴───────────────────────────┘\n",
       "</pre>\n"
      ],
      "text/plain": [
       "┏━━━━━━━━━━━━━━━━━━━━━━━━━━━┳━━━━━━━━━━━━━━━━━━━━━━━━━━━┓\n",
       "┃\u001b[1m \u001b[0m\u001b[1m       Test metric       \u001b[0m\u001b[1m \u001b[0m┃\u001b[1m \u001b[0m\u001b[1m      DataLoader 0       \u001b[0m\u001b[1m \u001b[0m┃\n",
       "┡━━━━━━━━━━━━━━━━━━━━━━━━━━━╇━━━━━━━━━━━━━━━━━━━━━━━━━━━┩\n",
       "│\u001b[36m \u001b[0m\u001b[36m        acc/test         \u001b[0m\u001b[36m \u001b[0m│\u001b[35m \u001b[0m\u001b[35m   0.9811000227928162    \u001b[0m\u001b[35m \u001b[0m│\n",
       "│\u001b[36m \u001b[0m\u001b[36m        loss/test        \u001b[0m\u001b[36m \u001b[0m│\u001b[35m \u001b[0m\u001b[35m   0.04600973054766655   \u001b[0m\u001b[35m \u001b[0m│\n",
       "└───────────────────────────┴───────────────────────────┘\n"
      ]
     },
     "metadata": {},
     "output_type": "display_data"
    },
    {
     "data": {
      "text/html": [
       "<pre style=\"white-space:pre;overflow-x:auto;line-height:normal;font-family:Menlo,'DejaVu Sans Mono',consolas,'Courier New',monospace\">┏━━━━━━━━━━━━━━━━━━━━━━━━━━━┳━━━━━━━━━━━━━━━━━━━━━━━━━━━┓\n",
       "┃<span style=\"font-weight: bold\">        Test metric        </span>┃<span style=\"font-weight: bold\">       DataLoader 0        </span>┃\n",
       "┡━━━━━━━━━━━━━━━━━━━━━━━━━━━╇━━━━━━━━━━━━━━━━━━━━━━━━━━━┩\n",
       "│<span style=\"color: #008080; text-decoration-color: #008080\">         acc/test          </span>│<span style=\"color: #800080; text-decoration-color: #800080\">    0.9308000206947327     </span>│\n",
       "│<span style=\"color: #008080; text-decoration-color: #008080\">         loss/test         </span>│<span style=\"color: #800080; text-decoration-color: #800080\">    0.42840489745140076    </span>│\n",
       "└───────────────────────────┴───────────────────────────┘\n",
       "</pre>\n"
      ],
      "text/plain": [
       "┏━━━━━━━━━━━━━━━━━━━━━━━━━━━┳━━━━━━━━━━━━━━━━━━━━━━━━━━━┓\n",
       "┃\u001b[1m \u001b[0m\u001b[1m       Test metric       \u001b[0m\u001b[1m \u001b[0m┃\u001b[1m \u001b[0m\u001b[1m      DataLoader 0       \u001b[0m\u001b[1m \u001b[0m┃\n",
       "┡━━━━━━━━━━━━━━━━━━━━━━━━━━━╇━━━━━━━━━━━━━━━━━━━━━━━━━━━┩\n",
       "│\u001b[36m \u001b[0m\u001b[36m        acc/test         \u001b[0m\u001b[36m \u001b[0m│\u001b[35m \u001b[0m\u001b[35m   0.9308000206947327    \u001b[0m\u001b[35m \u001b[0m│\n",
       "│\u001b[36m \u001b[0m\u001b[36m        loss/test        \u001b[0m\u001b[36m \u001b[0m│\u001b[35m \u001b[0m\u001b[35m   0.42840489745140076   \u001b[0m\u001b[35m \u001b[0m│\n",
       "└───────────────────────────┴───────────────────────────┘\n"
      ]
     },
     "metadata": {},
     "output_type": "display_data"
    },
    {
     "name": "stderr",
     "output_type": "stream",
     "text": [
      " 33%|███▎      | 1/3 [00:01<00:03,  1.81s/it]"
     ]
    },
    {
     "data": {
      "text/html": [
       "<pre style=\"white-space:pre;overflow-x:auto;line-height:normal;font-family:Menlo,'DejaVu Sans Mono',consolas,'Courier New',monospace\"><span style=\"color: #7fbfbf; text-decoration-color: #7fbfbf\">2025-01-03 08:29:00 </span><span style=\"color: #000080; text-decoration-color: #000080\">INFO    </span> Evaluating interpolated model with lambda: <span style=\"color: #008080; text-decoration-color: #008080; font-weight: bold\">0.5</span>                    <a href=\"file:///media/donato/Extra-storage/Code/model-merging/cycle-consistent-model-merging/src/ccmm/utils/utils.py\" target=\"_blank\"><span style=\"color: #7f7f7f; text-decoration-color: #7f7f7f\">ccmm.utils.utils</span></a><span style=\"color: #7f7f7f; text-decoration-color: #7f7f7f\">:</span><a href=\"file:///media/donato/Extra-storage/Code/model-merging/cycle-consistent-model-merging/src/ccmm/utils/utils.py#168\" target=\"_blank\"><span style=\"color: #7f7f7f; text-decoration-color: #7f7f7f\">168</span></a>\n",
       "</pre>\n"
      ],
      "text/plain": [
       "\u001b[2;36m2025-01-03 08:29:00\u001b[0m\u001b[2;36m \u001b[0m\u001b[34mINFO    \u001b[0m Evaluating interpolated model with lambda: \u001b[1;36m0.5\u001b[0m                    \u001b]8;id=886107;file:///media/donato/Extra-storage/Code/model-merging/cycle-consistent-model-merging/src/ccmm/utils/utils.py\u001b\\\u001b[2mccmm.utils.utils\u001b[0m\u001b]8;;\u001b\\\u001b[2m:\u001b[0m\u001b]8;id=319001;file:///media/donato/Extra-storage/Code/model-merging/cycle-consistent-model-merging/src/ccmm/utils/utils.py#168\u001b\\\u001b[2m168\u001b[0m\u001b]8;;\u001b\\\n"
      ]
     },
     "metadata": {},
     "output_type": "display_data"
    },
    {
     "data": {
      "text/html": [
       "<pre style=\"white-space:pre;overflow-x:auto;line-height:normal;font-family:Menlo,'DejaVu Sans Mono',consolas,'Courier New',monospace\">┏━━━━━━━━━━━━━━━━━━━━━━━━━━━┳━━━━━━━━━━━━━━━━━━━━━━━━━━━┓\n",
       "┃<span style=\"font-weight: bold\">        Test metric        </span>┃<span style=\"font-weight: bold\">       DataLoader 0        </span>┃\n",
       "┡━━━━━━━━━━━━━━━━━━━━━━━━━━━╇━━━━━━━━━━━━━━━━━━━━━━━━━━━┩\n",
       "│<span style=\"color: #008080; text-decoration-color: #008080\">         acc/test          </span>│<span style=\"color: #800080; text-decoration-color: #800080\">    0.21060000360012054    </span>│\n",
       "│<span style=\"color: #008080; text-decoration-color: #008080\">         loss/test         </span>│<span style=\"color: #800080; text-decoration-color: #800080\">     3.092921018600464     </span>│\n",
       "└───────────────────────────┴───────────────────────────┘\n",
       "</pre>\n"
      ],
      "text/plain": [
       "┏━━━━━━━━━━━━━━━━━━━━━━━━━━━┳━━━━━━━━━━━━━━━━━━━━━━━━━━━┓\n",
       "┃\u001b[1m \u001b[0m\u001b[1m       Test metric       \u001b[0m\u001b[1m \u001b[0m┃\u001b[1m \u001b[0m\u001b[1m      DataLoader 0       \u001b[0m\u001b[1m \u001b[0m┃\n",
       "┡━━━━━━━━━━━━━━━━━━━━━━━━━━━╇━━━━━━━━━━━━━━━━━━━━━━━━━━━┩\n",
       "│\u001b[36m \u001b[0m\u001b[36m        acc/test         \u001b[0m\u001b[36m \u001b[0m│\u001b[35m \u001b[0m\u001b[35m   0.21060000360012054   \u001b[0m\u001b[35m \u001b[0m│\n",
       "│\u001b[36m \u001b[0m\u001b[36m        loss/test        \u001b[0m\u001b[36m \u001b[0m│\u001b[35m \u001b[0m\u001b[35m    3.092921018600464    \u001b[0m\u001b[35m \u001b[0m│\n",
       "└───────────────────────────┴───────────────────────────┘\n"
      ]
     },
     "metadata": {},
     "output_type": "display_data"
    },
    {
     "data": {
      "text/html": [
       "<pre style=\"white-space:pre;overflow-x:auto;line-height:normal;font-family:Menlo,'DejaVu Sans Mono',consolas,'Courier New',monospace\">┏━━━━━━━━━━━━━━━━━━━━━━━━━━━┳━━━━━━━━━━━━━━━━━━━━━━━━━━━┓\n",
       "┃<span style=\"font-weight: bold\">        Test metric        </span>┃<span style=\"font-weight: bold\">       DataLoader 0        </span>┃\n",
       "┡━━━━━━━━━━━━━━━━━━━━━━━━━━━╇━━━━━━━━━━━━━━━━━━━━━━━━━━━┩\n",
       "│<span style=\"color: #008080; text-decoration-color: #008080\">         acc/test          </span>│<span style=\"color: #800080; text-decoration-color: #800080\">    0.2443999946117401     </span>│\n",
       "│<span style=\"color: #008080; text-decoration-color: #008080\">         loss/test         </span>│<span style=\"color: #800080; text-decoration-color: #800080\">    3.0487773418426514     </span>│\n",
       "└───────────────────────────┴───────────────────────────┘\n",
       "</pre>\n"
      ],
      "text/plain": [
       "┏━━━━━━━━━━━━━━━━━━━━━━━━━━━┳━━━━━━━━━━━━━━━━━━━━━━━━━━━┓\n",
       "┃\u001b[1m \u001b[0m\u001b[1m       Test metric       \u001b[0m\u001b[1m \u001b[0m┃\u001b[1m \u001b[0m\u001b[1m      DataLoader 0       \u001b[0m\u001b[1m \u001b[0m┃\n",
       "┡━━━━━━━━━━━━━━━━━━━━━━━━━━━╇━━━━━━━━━━━━━━━━━━━━━━━━━━━┩\n",
       "│\u001b[36m \u001b[0m\u001b[36m        acc/test         \u001b[0m\u001b[36m \u001b[0m│\u001b[35m \u001b[0m\u001b[35m   0.2443999946117401    \u001b[0m\u001b[35m \u001b[0m│\n",
       "│\u001b[36m \u001b[0m\u001b[36m        loss/test        \u001b[0m\u001b[36m \u001b[0m│\u001b[35m \u001b[0m\u001b[35m   3.0487773418426514    \u001b[0m\u001b[35m \u001b[0m│\n",
       "└───────────────────────────┴───────────────────────────┘\n"
      ]
     },
     "metadata": {},
     "output_type": "display_data"
    },
    {
     "name": "stderr",
     "output_type": "stream",
     "text": [
      " 67%|██████▋   | 2/3 [00:03<00:01,  1.81s/it]"
     ]
    },
    {
     "data": {
      "text/html": [
       "<pre style=\"white-space:pre;overflow-x:auto;line-height:normal;font-family:Menlo,'DejaVu Sans Mono',consolas,'Courier New',monospace\"><span style=\"color: #7fbfbf; text-decoration-color: #7fbfbf\">2025-01-03 08:29:02 </span><span style=\"color: #000080; text-decoration-color: #000080\">INFO    </span> Evaluating interpolated model with lambda: <span style=\"color: #008080; text-decoration-color: #008080; font-weight: bold\">1</span>                      <a href=\"file:///media/donato/Extra-storage/Code/model-merging/cycle-consistent-model-merging/src/ccmm/utils/utils.py\" target=\"_blank\"><span style=\"color: #7f7f7f; text-decoration-color: #7f7f7f\">ccmm.utils.utils</span></a><span style=\"color: #7f7f7f; text-decoration-color: #7f7f7f\">:</span><a href=\"file:///media/donato/Extra-storage/Code/model-merging/cycle-consistent-model-merging/src/ccmm/utils/utils.py#168\" target=\"_blank\"><span style=\"color: #7f7f7f; text-decoration-color: #7f7f7f\">168</span></a>\n",
       "</pre>\n"
      ],
      "text/plain": [
       "\u001b[2;36m2025-01-03 08:29:02\u001b[0m\u001b[2;36m \u001b[0m\u001b[34mINFO    \u001b[0m Evaluating interpolated model with lambda: \u001b[1;36m1\u001b[0m                      \u001b]8;id=532951;file:///media/donato/Extra-storage/Code/model-merging/cycle-consistent-model-merging/src/ccmm/utils/utils.py\u001b\\\u001b[2mccmm.utils.utils\u001b[0m\u001b]8;;\u001b\\\u001b[2m:\u001b[0m\u001b]8;id=653817;file:///media/donato/Extra-storage/Code/model-merging/cycle-consistent-model-merging/src/ccmm/utils/utils.py#168\u001b\\\u001b[2m168\u001b[0m\u001b]8;;\u001b\\\n"
      ]
     },
     "metadata": {},
     "output_type": "display_data"
    },
    {
     "data": {
      "text/html": [
       "<pre style=\"white-space:pre;overflow-x:auto;line-height:normal;font-family:Menlo,'DejaVu Sans Mono',consolas,'Courier New',monospace\">┏━━━━━━━━━━━━━━━━━━━━━━━━━━━┳━━━━━━━━━━━━━━━━━━━━━━━━━━━┓\n",
       "┃<span style=\"font-weight: bold\">        Test metric        </span>┃<span style=\"font-weight: bold\">       DataLoader 0        </span>┃\n",
       "┡━━━━━━━━━━━━━━━━━━━━━━━━━━━╇━━━━━━━━━━━━━━━━━━━━━━━━━━━┩\n",
       "│<span style=\"color: #008080; text-decoration-color: #008080\">         acc/test          </span>│<span style=\"color: #800080; text-decoration-color: #800080\">    0.9769999980926514     </span>│\n",
       "│<span style=\"color: #008080; text-decoration-color: #008080\">         loss/test         </span>│<span style=\"color: #800080; text-decoration-color: #800080\">    0.05489429831504822    </span>│\n",
       "└───────────────────────────┴───────────────────────────┘\n",
       "</pre>\n"
      ],
      "text/plain": [
       "┏━━━━━━━━━━━━━━━━━━━━━━━━━━━┳━━━━━━━━━━━━━━━━━━━━━━━━━━━┓\n",
       "┃\u001b[1m \u001b[0m\u001b[1m       Test metric       \u001b[0m\u001b[1m \u001b[0m┃\u001b[1m \u001b[0m\u001b[1m      DataLoader 0       \u001b[0m\u001b[1m \u001b[0m┃\n",
       "┡━━━━━━━━━━━━━━━━━━━━━━━━━━━╇━━━━━━━━━━━━━━━━━━━━━━━━━━━┩\n",
       "│\u001b[36m \u001b[0m\u001b[36m        acc/test         \u001b[0m\u001b[36m \u001b[0m│\u001b[35m \u001b[0m\u001b[35m   0.9769999980926514    \u001b[0m\u001b[35m \u001b[0m│\n",
       "│\u001b[36m \u001b[0m\u001b[36m        loss/test        \u001b[0m\u001b[36m \u001b[0m│\u001b[35m \u001b[0m\u001b[35m   0.05489429831504822   \u001b[0m\u001b[35m \u001b[0m│\n",
       "└───────────────────────────┴───────────────────────────┘\n"
      ]
     },
     "metadata": {},
     "output_type": "display_data"
    },
    {
     "data": {
      "text/html": [
       "<pre style=\"white-space:pre;overflow-x:auto;line-height:normal;font-family:Menlo,'DejaVu Sans Mono',consolas,'Courier New',monospace\">┏━━━━━━━━━━━━━━━━━━━━━━━━━━━┳━━━━━━━━━━━━━━━━━━━━━━━━━━━┓\n",
       "┃<span style=\"font-weight: bold\">        Test metric        </span>┃<span style=\"font-weight: bold\">       DataLoader 0        </span>┃\n",
       "┡━━━━━━━━━━━━━━━━━━━━━━━━━━━╇━━━━━━━━━━━━━━━━━━━━━━━━━━━┩\n",
       "│<span style=\"color: #008080; text-decoration-color: #008080\">         acc/test          </span>│<span style=\"color: #800080; text-decoration-color: #800080\">    0.9241999983787537     </span>│\n",
       "│<span style=\"color: #008080; text-decoration-color: #008080\">         loss/test         </span>│<span style=\"color: #800080; text-decoration-color: #800080\">    0.49278753995895386    </span>│\n",
       "└───────────────────────────┴───────────────────────────┘\n",
       "</pre>\n"
      ],
      "text/plain": [
       "┏━━━━━━━━━━━━━━━━━━━━━━━━━━━┳━━━━━━━━━━━━━━━━━━━━━━━━━━━┓\n",
       "┃\u001b[1m \u001b[0m\u001b[1m       Test metric       \u001b[0m\u001b[1m \u001b[0m┃\u001b[1m \u001b[0m\u001b[1m      DataLoader 0       \u001b[0m\u001b[1m \u001b[0m┃\n",
       "┡━━━━━━━━━━━━━━━━━━━━━━━━━━━╇━━━━━━━━━━━━━━━━━━━━━━━━━━━┩\n",
       "│\u001b[36m \u001b[0m\u001b[36m        acc/test         \u001b[0m\u001b[36m \u001b[0m│\u001b[35m \u001b[0m\u001b[35m   0.9241999983787537    \u001b[0m\u001b[35m \u001b[0m│\n",
       "│\u001b[36m \u001b[0m\u001b[36m        loss/test        \u001b[0m\u001b[36m \u001b[0m│\u001b[35m \u001b[0m\u001b[35m   0.49278753995895386   \u001b[0m\u001b[35m \u001b[0m│\n",
       "└───────────────────────────┴───────────────────────────┘\n"
      ]
     },
     "metadata": {},
     "output_type": "display_data"
    },
    {
     "name": "stderr",
     "output_type": "stream",
     "text": [
      "100%|██████████| 3/3 [00:05<00:00,  1.80s/it]\n"
     ]
    }
   ],
   "source": [
    "naive_results = evaluate_pair_of_models(\n",
    "    models,\n",
    "    fixed_symbol,\n",
    "    permutee_symbol,\n",
    "    updated_params,\n",
    "    train_loader,\n",
    "    test_loader,\n",
    "    lambdas,\n",
    "    core_cfg,\n",
    ")"
   ]
  },
  {
   "cell_type": "markdown",
   "metadata": {},
   "source": [
    "### Git Re-Basin"
   ]
  },
  {
   "cell_type": "code",
   "execution_count": 60,
   "metadata": {},
   "outputs": [],
   "source": [
    "restore_original_weights(models, model_orig_weights)"
   ]
  },
  {
   "cell_type": "code",
   "execution_count": 61,
   "metadata": {},
   "outputs": [
    {
     "name": "stderr",
     "output_type": "stream",
     "text": [
      "Weight matching:   0%|          | 0/100 [00:00<?, ?it/s]"
     ]
    },
    {
     "data": {
      "text/html": [
       "<pre style=\"white-space:pre;overflow-x:auto;line-height:normal;font-family:Menlo,'DejaVu Sans Mono',consolas,'Courier New',monospace\"><span style=\"color: #7fbfbf; text-decoration-color: #7fbfbf\">2025-01-03 08:29:04 </span><span style=\"color: #000080; text-decoration-color: #000080\">INFO    </span> Iteration <span style=\"color: #008080; text-decoration-color: #008080; font-weight: bold\">0</span>, Permutation P_0: <span style=\"color: #008080; text-decoration-color: #008080; font-weight: bold\">921.8171997070312</span>      <a href=\"file:///media/donato/Extra-storage/Code/model-merging/cycle-consistent-model-merging/src/ccmm/matching/weight_matching.py\" target=\"_blank\"><span style=\"color: #7f7f7f; text-decoration-color: #7f7f7f\">ccmm.matching.weight_matching</span></a><span style=\"color: #7f7f7f; text-decoration-color: #7f7f7f\">:</span><a href=\"file:///media/donato/Extra-storage/Code/model-merging/cycle-consistent-model-merging/src/ccmm/matching/weight_matching.py#176\" target=\"_blank\"><span style=\"color: #7f7f7f; text-decoration-color: #7f7f7f\">176</span></a>\n",
       "</pre>\n"
      ],
      "text/plain": [
       "\u001b[2;36m2025-01-03 08:29:04\u001b[0m\u001b[2;36m \u001b[0m\u001b[34mINFO    \u001b[0m Iteration \u001b[1;36m0\u001b[0m, Permutation P_0: \u001b[1;36m921.8171997070312\u001b[0m      \u001b]8;id=210054;file:///media/donato/Extra-storage/Code/model-merging/cycle-consistent-model-merging/src/ccmm/matching/weight_matching.py\u001b\\\u001b[2mccmm.matching.weight_matching\u001b[0m\u001b]8;;\u001b\\\u001b[2m:\u001b[0m\u001b]8;id=849849;file:///media/donato/Extra-storage/Code/model-merging/cycle-consistent-model-merging/src/ccmm/matching/weight_matching.py#176\u001b\\\u001b[2m176\u001b[0m\u001b]8;;\u001b\\\n"
      ]
     },
     "metadata": {},
     "output_type": "display_data"
    },
    {
     "data": {
      "text/html": [
       "<pre style=\"white-space:pre;overflow-x:auto;line-height:normal;font-family:Menlo,'DejaVu Sans Mono',consolas,'Courier New',monospace\"><span style=\"color: #7fbfbf; text-decoration-color: #7fbfbf\">                    </span><span style=\"color: #000080; text-decoration-color: #000080\">INFO    </span> Iteration <span style=\"color: #008080; text-decoration-color: #008080; font-weight: bold\">0</span>, Permutation P_1: <span style=\"color: #008080; text-decoration-color: #008080; font-weight: bold\">345.47674560546875</span>     <a href=\"file:///media/donato/Extra-storage/Code/model-merging/cycle-consistent-model-merging/src/ccmm/matching/weight_matching.py\" target=\"_blank\"><span style=\"color: #7f7f7f; text-decoration-color: #7f7f7f\">ccmm.matching.weight_matching</span></a><span style=\"color: #7f7f7f; text-decoration-color: #7f7f7f\">:</span><a href=\"file:///media/donato/Extra-storage/Code/model-merging/cycle-consistent-model-merging/src/ccmm/matching/weight_matching.py#176\" target=\"_blank\"><span style=\"color: #7f7f7f; text-decoration-color: #7f7f7f\">176</span></a>\n",
       "</pre>\n"
      ],
      "text/plain": [
       "\u001b[2;36m                   \u001b[0m\u001b[2;36m \u001b[0m\u001b[34mINFO    \u001b[0m Iteration \u001b[1;36m0\u001b[0m, Permutation P_1: \u001b[1;36m345.47674560546875\u001b[0m     \u001b]8;id=617293;file:///media/donato/Extra-storage/Code/model-merging/cycle-consistent-model-merging/src/ccmm/matching/weight_matching.py\u001b\\\u001b[2mccmm.matching.weight_matching\u001b[0m\u001b]8;;\u001b\\\u001b[2m:\u001b[0m\u001b]8;id=537542;file:///media/donato/Extra-storage/Code/model-merging/cycle-consistent-model-merging/src/ccmm/matching/weight_matching.py#176\u001b\\\u001b[2m176\u001b[0m\u001b]8;;\u001b\\\n"
      ]
     },
     "metadata": {},
     "output_type": "display_data"
    },
    {
     "data": {
      "text/html": [
       "<pre style=\"white-space:pre;overflow-x:auto;line-height:normal;font-family:Menlo,'DejaVu Sans Mono',consolas,'Courier New',monospace\"><span style=\"color: #7fbfbf; text-decoration-color: #7fbfbf\">                    </span><span style=\"color: #000080; text-decoration-color: #000080\">INFO    </span> Iteration <span style=\"color: #008080; text-decoration-color: #008080; font-weight: bold\">0</span>, Permutation P_2: <span style=\"color: #008080; text-decoration-color: #008080; font-weight: bold\">167.64512634277344</span>     <a href=\"file:///media/donato/Extra-storage/Code/model-merging/cycle-consistent-model-merging/src/ccmm/matching/weight_matching.py\" target=\"_blank\"><span style=\"color: #7f7f7f; text-decoration-color: #7f7f7f\">ccmm.matching.weight_matching</span></a><span style=\"color: #7f7f7f; text-decoration-color: #7f7f7f\">:</span><a href=\"file:///media/donato/Extra-storage/Code/model-merging/cycle-consistent-model-merging/src/ccmm/matching/weight_matching.py#176\" target=\"_blank\"><span style=\"color: #7f7f7f; text-decoration-color: #7f7f7f\">176</span></a>\n",
       "</pre>\n"
      ],
      "text/plain": [
       "\u001b[2;36m                   \u001b[0m\u001b[2;36m \u001b[0m\u001b[34mINFO    \u001b[0m Iteration \u001b[1;36m0\u001b[0m, Permutation P_2: \u001b[1;36m167.64512634277344\u001b[0m     \u001b]8;id=5815;file:///media/donato/Extra-storage/Code/model-merging/cycle-consistent-model-merging/src/ccmm/matching/weight_matching.py\u001b\\\u001b[2mccmm.matching.weight_matching\u001b[0m\u001b]8;;\u001b\\\u001b[2m:\u001b[0m\u001b]8;id=881666;file:///media/donato/Extra-storage/Code/model-merging/cycle-consistent-model-merging/src/ccmm/matching/weight_matching.py#176\u001b\\\u001b[2m176\u001b[0m\u001b]8;;\u001b\\\n"
      ]
     },
     "metadata": {},
     "output_type": "display_data"
    },
    {
     "data": {
      "text/html": [
       "<pre style=\"white-space:pre;overflow-x:auto;line-height:normal;font-family:Menlo,'DejaVu Sans Mono',consolas,'Courier New',monospace\"><span style=\"color: #7fbfbf; text-decoration-color: #7fbfbf\">                    </span><span style=\"color: #000080; text-decoration-color: #000080\">INFO    </span> Iteration <span style=\"color: #008080; text-decoration-color: #008080; font-weight: bold\">0</span>, Permutation P_3: <span style=\"color: #008080; text-decoration-color: #008080; font-weight: bold\">66.29916381835938</span>      <a href=\"file:///media/donato/Extra-storage/Code/model-merging/cycle-consistent-model-merging/src/ccmm/matching/weight_matching.py\" target=\"_blank\"><span style=\"color: #7f7f7f; text-decoration-color: #7f7f7f\">ccmm.matching.weight_matching</span></a><span style=\"color: #7f7f7f; text-decoration-color: #7f7f7f\">:</span><a href=\"file:///media/donato/Extra-storage/Code/model-merging/cycle-consistent-model-merging/src/ccmm/matching/weight_matching.py#176\" target=\"_blank\"><span style=\"color: #7f7f7f; text-decoration-color: #7f7f7f\">176</span></a>\n",
       "</pre>\n"
      ],
      "text/plain": [
       "\u001b[2;36m                   \u001b[0m\u001b[2;36m \u001b[0m\u001b[34mINFO    \u001b[0m Iteration \u001b[1;36m0\u001b[0m, Permutation P_3: \u001b[1;36m66.29916381835938\u001b[0m      \u001b]8;id=625239;file:///media/donato/Extra-storage/Code/model-merging/cycle-consistent-model-merging/src/ccmm/matching/weight_matching.py\u001b\\\u001b[2mccmm.matching.weight_matching\u001b[0m\u001b]8;;\u001b\\\u001b[2m:\u001b[0m\u001b]8;id=909407;file:///media/donato/Extra-storage/Code/model-merging/cycle-consistent-model-merging/src/ccmm/matching/weight_matching.py#176\u001b\\\u001b[2m176\u001b[0m\u001b]8;;\u001b\\\n"
      ]
     },
     "metadata": {},
     "output_type": "display_data"
    },
    {
     "name": "stderr",
     "output_type": "stream",
     "text": [
      "Weight matching:   1%|          | 1/100 [00:00<00:10,  9.25it/s]"
     ]
    },
    {
     "data": {
      "text/html": [
       "<pre style=\"white-space:pre;overflow-x:auto;line-height:normal;font-family:Menlo,'DejaVu Sans Mono',consolas,'Courier New',monospace\"><span style=\"color: #7fbfbf; text-decoration-color: #7fbfbf\">                    </span><span style=\"color: #000080; text-decoration-color: #000080\">INFO    </span> Iteration <span style=\"color: #008080; text-decoration-color: #008080; font-weight: bold\">1</span>, Permutation P_1: <span style=\"color: #008080; text-decoration-color: #008080; font-weight: bold\">26.18511962890625</span>      <a href=\"file:///media/donato/Extra-storage/Code/model-merging/cycle-consistent-model-merging/src/ccmm/matching/weight_matching.py\" target=\"_blank\"><span style=\"color: #7f7f7f; text-decoration-color: #7f7f7f\">ccmm.matching.weight_matching</span></a><span style=\"color: #7f7f7f; text-decoration-color: #7f7f7f\">:</span><a href=\"file:///media/donato/Extra-storage/Code/model-merging/cycle-consistent-model-merging/src/ccmm/matching/weight_matching.py#176\" target=\"_blank\"><span style=\"color: #7f7f7f; text-decoration-color: #7f7f7f\">176</span></a>\n",
       "</pre>\n"
      ],
      "text/plain": [
       "\u001b[2;36m                   \u001b[0m\u001b[2;36m \u001b[0m\u001b[34mINFO    \u001b[0m Iteration \u001b[1;36m1\u001b[0m, Permutation P_1: \u001b[1;36m26.18511962890625\u001b[0m      \u001b]8;id=20475;file:///media/donato/Extra-storage/Code/model-merging/cycle-consistent-model-merging/src/ccmm/matching/weight_matching.py\u001b\\\u001b[2mccmm.matching.weight_matching\u001b[0m\u001b]8;;\u001b\\\u001b[2m:\u001b[0m\u001b]8;id=562503;file:///media/donato/Extra-storage/Code/model-merging/cycle-consistent-model-merging/src/ccmm/matching/weight_matching.py#176\u001b\\\u001b[2m176\u001b[0m\u001b]8;;\u001b\\\n"
      ]
     },
     "metadata": {},
     "output_type": "display_data"
    },
    {
     "data": {
      "text/html": [
       "<pre style=\"white-space:pre;overflow-x:auto;line-height:normal;font-family:Menlo,'DejaVu Sans Mono',consolas,'Courier New',monospace\"><span style=\"color: #7fbfbf; text-decoration-color: #7fbfbf\">                    </span><span style=\"color: #000080; text-decoration-color: #000080\">INFO    </span> Iteration <span style=\"color: #008080; text-decoration-color: #008080; font-weight: bold\">1</span>, Permutation P_3: <span style=\"color: #008080; text-decoration-color: #008080; font-weight: bold\">0.0</span>                    <a href=\"file:///media/donato/Extra-storage/Code/model-merging/cycle-consistent-model-merging/src/ccmm/matching/weight_matching.py\" target=\"_blank\"><span style=\"color: #7f7f7f; text-decoration-color: #7f7f7f\">ccmm.matching.weight_matching</span></a><span style=\"color: #7f7f7f; text-decoration-color: #7f7f7f\">:</span><a href=\"file:///media/donato/Extra-storage/Code/model-merging/cycle-consistent-model-merging/src/ccmm/matching/weight_matching.py#176\" target=\"_blank\"><span style=\"color: #7f7f7f; text-decoration-color: #7f7f7f\">176</span></a>\n",
       "</pre>\n"
      ],
      "text/plain": [
       "\u001b[2;36m                   \u001b[0m\u001b[2;36m \u001b[0m\u001b[34mINFO    \u001b[0m Iteration \u001b[1;36m1\u001b[0m, Permutation P_3: \u001b[1;36m0.0\u001b[0m                    \u001b]8;id=618131;file:///media/donato/Extra-storage/Code/model-merging/cycle-consistent-model-merging/src/ccmm/matching/weight_matching.py\u001b\\\u001b[2mccmm.matching.weight_matching\u001b[0m\u001b]8;;\u001b\\\u001b[2m:\u001b[0m\u001b]8;id=932536;file:///media/donato/Extra-storage/Code/model-merging/cycle-consistent-model-merging/src/ccmm/matching/weight_matching.py#176\u001b\\\u001b[2m176\u001b[0m\u001b]8;;\u001b\\\n"
      ]
     },
     "metadata": {},
     "output_type": "display_data"
    },
    {
     "data": {
      "text/html": [
       "<pre style=\"white-space:pre;overflow-x:auto;line-height:normal;font-family:Menlo,'DejaVu Sans Mono',consolas,'Courier New',monospace\"><span style=\"color: #7fbfbf; text-decoration-color: #7fbfbf\">                    </span><span style=\"color: #000080; text-decoration-color: #000080\">INFO    </span> Iteration <span style=\"color: #008080; text-decoration-color: #008080; font-weight: bold\">1</span>, Permutation P_2: <span style=\"color: #008080; text-decoration-color: #008080; font-weight: bold\">34.1943359375</span>          <a href=\"file:///media/donato/Extra-storage/Code/model-merging/cycle-consistent-model-merging/src/ccmm/matching/weight_matching.py\" target=\"_blank\"><span style=\"color: #7f7f7f; text-decoration-color: #7f7f7f\">ccmm.matching.weight_matching</span></a><span style=\"color: #7f7f7f; text-decoration-color: #7f7f7f\">:</span><a href=\"file:///media/donato/Extra-storage/Code/model-merging/cycle-consistent-model-merging/src/ccmm/matching/weight_matching.py#176\" target=\"_blank\"><span style=\"color: #7f7f7f; text-decoration-color: #7f7f7f\">176</span></a>\n",
       "</pre>\n"
      ],
      "text/plain": [
       "\u001b[2;36m                   \u001b[0m\u001b[2;36m \u001b[0m\u001b[34mINFO    \u001b[0m Iteration \u001b[1;36m1\u001b[0m, Permutation P_2: \u001b[1;36m34.1943359375\u001b[0m          \u001b]8;id=830357;file:///media/donato/Extra-storage/Code/model-merging/cycle-consistent-model-merging/src/ccmm/matching/weight_matching.py\u001b\\\u001b[2mccmm.matching.weight_matching\u001b[0m\u001b]8;;\u001b\\\u001b[2m:\u001b[0m\u001b]8;id=256791;file:///media/donato/Extra-storage/Code/model-merging/cycle-consistent-model-merging/src/ccmm/matching/weight_matching.py#176\u001b\\\u001b[2m176\u001b[0m\u001b]8;;\u001b\\\n"
      ]
     },
     "metadata": {},
     "output_type": "display_data"
    },
    {
     "data": {
      "text/html": [
       "<pre style=\"white-space:pre;overflow-x:auto;line-height:normal;font-family:Menlo,'DejaVu Sans Mono',consolas,'Courier New',monospace\"><span style=\"color: #7fbfbf; text-decoration-color: #7fbfbf\">                    </span><span style=\"color: #000080; text-decoration-color: #000080\">INFO    </span> Iteration <span style=\"color: #008080; text-decoration-color: #008080; font-weight: bold\">1</span>, Permutation P_0: <span style=\"color: #008080; text-decoration-color: #008080; font-weight: bold\">11.6881103515625</span>       <a href=\"file:///media/donato/Extra-storage/Code/model-merging/cycle-consistent-model-merging/src/ccmm/matching/weight_matching.py\" target=\"_blank\"><span style=\"color: #7f7f7f; text-decoration-color: #7f7f7f\">ccmm.matching.weight_matching</span></a><span style=\"color: #7f7f7f; text-decoration-color: #7f7f7f\">:</span><a href=\"file:///media/donato/Extra-storage/Code/model-merging/cycle-consistent-model-merging/src/ccmm/matching/weight_matching.py#176\" target=\"_blank\"><span style=\"color: #7f7f7f; text-decoration-color: #7f7f7f\">176</span></a>\n",
       "</pre>\n"
      ],
      "text/plain": [
       "\u001b[2;36m                   \u001b[0m\u001b[2;36m \u001b[0m\u001b[34mINFO    \u001b[0m Iteration \u001b[1;36m1\u001b[0m, Permutation P_0: \u001b[1;36m11.6881103515625\u001b[0m       \u001b]8;id=784556;file:///media/donato/Extra-storage/Code/model-merging/cycle-consistent-model-merging/src/ccmm/matching/weight_matching.py\u001b\\\u001b[2mccmm.matching.weight_matching\u001b[0m\u001b]8;;\u001b\\\u001b[2m:\u001b[0m\u001b]8;id=212665;file:///media/donato/Extra-storage/Code/model-merging/cycle-consistent-model-merging/src/ccmm/matching/weight_matching.py#176\u001b\\\u001b[2m176\u001b[0m\u001b]8;;\u001b\\\n"
      ]
     },
     "metadata": {},
     "output_type": "display_data"
    },
    {
     "data": {
      "text/html": [
       "<pre style=\"white-space:pre;overflow-x:auto;line-height:normal;font-family:Menlo,'DejaVu Sans Mono',consolas,'Courier New',monospace\"><span style=\"color: #7fbfbf; text-decoration-color: #7fbfbf\">                    </span><span style=\"color: #000080; text-decoration-color: #000080\">INFO    </span> Iteration <span style=\"color: #008080; text-decoration-color: #008080; font-weight: bold\">2</span>, Permutation P_2: <span style=\"color: #008080; text-decoration-color: #008080; font-weight: bold\">0.0</span>                    <a href=\"file:///media/donato/Extra-storage/Code/model-merging/cycle-consistent-model-merging/src/ccmm/matching/weight_matching.py\" target=\"_blank\"><span style=\"color: #7f7f7f; text-decoration-color: #7f7f7f\">ccmm.matching.weight_matching</span></a><span style=\"color: #7f7f7f; text-decoration-color: #7f7f7f\">:</span><a href=\"file:///media/donato/Extra-storage/Code/model-merging/cycle-consistent-model-merging/src/ccmm/matching/weight_matching.py#176\" target=\"_blank\"><span style=\"color: #7f7f7f; text-decoration-color: #7f7f7f\">176</span></a>\n",
       "</pre>\n"
      ],
      "text/plain": [
       "\u001b[2;36m                   \u001b[0m\u001b[2;36m \u001b[0m\u001b[34mINFO    \u001b[0m Iteration \u001b[1;36m2\u001b[0m, Permutation P_2: \u001b[1;36m0.0\u001b[0m                    \u001b]8;id=141310;file:///media/donato/Extra-storage/Code/model-merging/cycle-consistent-model-merging/src/ccmm/matching/weight_matching.py\u001b\\\u001b[2mccmm.matching.weight_matching\u001b[0m\u001b]8;;\u001b\\\u001b[2m:\u001b[0m\u001b]8;id=874377;file:///media/donato/Extra-storage/Code/model-merging/cycle-consistent-model-merging/src/ccmm/matching/weight_matching.py#176\u001b\\\u001b[2m176\u001b[0m\u001b]8;;\u001b\\\n"
      ]
     },
     "metadata": {},
     "output_type": "display_data"
    },
    {
     "data": {
      "text/html": [
       "<pre style=\"white-space:pre;overflow-x:auto;line-height:normal;font-family:Menlo,'DejaVu Sans Mono',consolas,'Courier New',monospace\"><span style=\"color: #7fbfbf; text-decoration-color: #7fbfbf\">                    </span><span style=\"color: #000080; text-decoration-color: #000080\">INFO    </span> Iteration <span style=\"color: #008080; text-decoration-color: #008080; font-weight: bold\">2</span>, Permutation P_1: <span style=\"color: #008080; text-decoration-color: #008080; font-weight: bold\">16.512451171875</span>        <a href=\"file:///media/donato/Extra-storage/Code/model-merging/cycle-consistent-model-merging/src/ccmm/matching/weight_matching.py\" target=\"_blank\"><span style=\"color: #7f7f7f; text-decoration-color: #7f7f7f\">ccmm.matching.weight_matching</span></a><span style=\"color: #7f7f7f; text-decoration-color: #7f7f7f\">:</span><a href=\"file:///media/donato/Extra-storage/Code/model-merging/cycle-consistent-model-merging/src/ccmm/matching/weight_matching.py#176\" target=\"_blank\"><span style=\"color: #7f7f7f; text-decoration-color: #7f7f7f\">176</span></a>\n",
       "</pre>\n"
      ],
      "text/plain": [
       "\u001b[2;36m                   \u001b[0m\u001b[2;36m \u001b[0m\u001b[34mINFO    \u001b[0m Iteration \u001b[1;36m2\u001b[0m, Permutation P_1: \u001b[1;36m16.512451171875\u001b[0m        \u001b]8;id=913541;file:///media/donato/Extra-storage/Code/model-merging/cycle-consistent-model-merging/src/ccmm/matching/weight_matching.py\u001b\\\u001b[2mccmm.matching.weight_matching\u001b[0m\u001b]8;;\u001b\\\u001b[2m:\u001b[0m\u001b]8;id=952440;file:///media/donato/Extra-storage/Code/model-merging/cycle-consistent-model-merging/src/ccmm/matching/weight_matching.py#176\u001b\\\u001b[2m176\u001b[0m\u001b]8;;\u001b\\\n"
      ]
     },
     "metadata": {},
     "output_type": "display_data"
    },
    {
     "data": {
      "text/html": [
       "<pre style=\"white-space:pre;overflow-x:auto;line-height:normal;font-family:Menlo,'DejaVu Sans Mono',consolas,'Courier New',monospace\"><span style=\"color: #7fbfbf; text-decoration-color: #7fbfbf\">                    </span><span style=\"color: #000080; text-decoration-color: #000080\">INFO    </span> Iteration <span style=\"color: #008080; text-decoration-color: #008080; font-weight: bold\">2</span>, Permutation P_0: <span style=\"color: #008080; text-decoration-color: #008080; font-weight: bold\">3.1800537109375</span>        <a href=\"file:///media/donato/Extra-storage/Code/model-merging/cycle-consistent-model-merging/src/ccmm/matching/weight_matching.py\" target=\"_blank\"><span style=\"color: #7f7f7f; text-decoration-color: #7f7f7f\">ccmm.matching.weight_matching</span></a><span style=\"color: #7f7f7f; text-decoration-color: #7f7f7f\">:</span><a href=\"file:///media/donato/Extra-storage/Code/model-merging/cycle-consistent-model-merging/src/ccmm/matching/weight_matching.py#176\" target=\"_blank\"><span style=\"color: #7f7f7f; text-decoration-color: #7f7f7f\">176</span></a>\n",
       "</pre>\n"
      ],
      "text/plain": [
       "\u001b[2;36m                   \u001b[0m\u001b[2;36m \u001b[0m\u001b[34mINFO    \u001b[0m Iteration \u001b[1;36m2\u001b[0m, Permutation P_0: \u001b[1;36m3.1800537109375\u001b[0m        \u001b]8;id=231799;file:///media/donato/Extra-storage/Code/model-merging/cycle-consistent-model-merging/src/ccmm/matching/weight_matching.py\u001b\\\u001b[2mccmm.matching.weight_matching\u001b[0m\u001b]8;;\u001b\\\u001b[2m:\u001b[0m\u001b]8;id=23196;file:///media/donato/Extra-storage/Code/model-merging/cycle-consistent-model-merging/src/ccmm/matching/weight_matching.py#176\u001b\\\u001b[2m176\u001b[0m\u001b]8;;\u001b\\\n"
      ]
     },
     "metadata": {},
     "output_type": "display_data"
    },
    {
     "data": {
      "text/html": [
       "<pre style=\"white-space:pre;overflow-x:auto;line-height:normal;font-family:Menlo,'DejaVu Sans Mono',consolas,'Courier New',monospace\"><span style=\"color: #7fbfbf; text-decoration-color: #7fbfbf\">                    </span><span style=\"color: #000080; text-decoration-color: #000080\">INFO    </span> Iteration <span style=\"color: #008080; text-decoration-color: #008080; font-weight: bold\">2</span>, Permutation P_3: <span style=\"color: #008080; text-decoration-color: #008080; font-weight: bold\">8.197586059570312</span>      <a href=\"file:///media/donato/Extra-storage/Code/model-merging/cycle-consistent-model-merging/src/ccmm/matching/weight_matching.py\" target=\"_blank\"><span style=\"color: #7f7f7f; text-decoration-color: #7f7f7f\">ccmm.matching.weight_matching</span></a><span style=\"color: #7f7f7f; text-decoration-color: #7f7f7f\">:</span><a href=\"file:///media/donato/Extra-storage/Code/model-merging/cycle-consistent-model-merging/src/ccmm/matching/weight_matching.py#176\" target=\"_blank\"><span style=\"color: #7f7f7f; text-decoration-color: #7f7f7f\">176</span></a>\n",
       "</pre>\n"
      ],
      "text/plain": [
       "\u001b[2;36m                   \u001b[0m\u001b[2;36m \u001b[0m\u001b[34mINFO    \u001b[0m Iteration \u001b[1;36m2\u001b[0m, Permutation P_3: \u001b[1;36m8.197586059570312\u001b[0m      \u001b]8;id=931608;file:///media/donato/Extra-storage/Code/model-merging/cycle-consistent-model-merging/src/ccmm/matching/weight_matching.py\u001b\\\u001b[2mccmm.matching.weight_matching\u001b[0m\u001b]8;;\u001b\\\u001b[2m:\u001b[0m\u001b]8;id=203076;file:///media/donato/Extra-storage/Code/model-merging/cycle-consistent-model-merging/src/ccmm/matching/weight_matching.py#176\u001b\\\u001b[2m176\u001b[0m\u001b]8;;\u001b\\\n"
      ]
     },
     "metadata": {},
     "output_type": "display_data"
    },
    {
     "name": "stderr",
     "output_type": "stream",
     "text": [
      "Weight matching:   3%|▎         | 3/100 [00:00<00:11,  8.61it/s]"
     ]
    },
    {
     "data": {
      "text/html": [
       "<pre style=\"white-space:pre;overflow-x:auto;line-height:normal;font-family:Menlo,'DejaVu Sans Mono',consolas,'Courier New',monospace\"><span style=\"color: #7fbfbf; text-decoration-color: #7fbfbf\">                    </span><span style=\"color: #000080; text-decoration-color: #000080\">INFO    </span> Iteration <span style=\"color: #008080; text-decoration-color: #008080; font-weight: bold\">3</span>, Permutation P_3: <span style=\"color: #008080; text-decoration-color: #008080; font-weight: bold\">0.0</span>                    <a href=\"file:///media/donato/Extra-storage/Code/model-merging/cycle-consistent-model-merging/src/ccmm/matching/weight_matching.py\" target=\"_blank\"><span style=\"color: #7f7f7f; text-decoration-color: #7f7f7f\">ccmm.matching.weight_matching</span></a><span style=\"color: #7f7f7f; text-decoration-color: #7f7f7f\">:</span><a href=\"file:///media/donato/Extra-storage/Code/model-merging/cycle-consistent-model-merging/src/ccmm/matching/weight_matching.py#176\" target=\"_blank\"><span style=\"color: #7f7f7f; text-decoration-color: #7f7f7f\">176</span></a>\n",
       "</pre>\n"
      ],
      "text/plain": [
       "\u001b[2;36m                   \u001b[0m\u001b[2;36m \u001b[0m\u001b[34mINFO    \u001b[0m Iteration \u001b[1;36m3\u001b[0m, Permutation P_3: \u001b[1;36m0.0\u001b[0m                    \u001b]8;id=142956;file:///media/donato/Extra-storage/Code/model-merging/cycle-consistent-model-merging/src/ccmm/matching/weight_matching.py\u001b\\\u001b[2mccmm.matching.weight_matching\u001b[0m\u001b]8;;\u001b\\\u001b[2m:\u001b[0m\u001b]8;id=5181;file:///media/donato/Extra-storage/Code/model-merging/cycle-consistent-model-merging/src/ccmm/matching/weight_matching.py#176\u001b\\\u001b[2m176\u001b[0m\u001b]8;;\u001b\\\n"
      ]
     },
     "metadata": {},
     "output_type": "display_data"
    },
    {
     "data": {
      "text/html": [
       "<pre style=\"white-space:pre;overflow-x:auto;line-height:normal;font-family:Menlo,'DejaVu Sans Mono',consolas,'Courier New',monospace\"><span style=\"color: #7fbfbf; text-decoration-color: #7fbfbf\">                    </span><span style=\"color: #000080; text-decoration-color: #000080\">INFO    </span> Iteration <span style=\"color: #008080; text-decoration-color: #008080; font-weight: bold\">3</span>, Permutation P_0: <span style=\"color: #008080; text-decoration-color: #008080; font-weight: bold\">0.0</span>                    <a href=\"file:///media/donato/Extra-storage/Code/model-merging/cycle-consistent-model-merging/src/ccmm/matching/weight_matching.py\" target=\"_blank\"><span style=\"color: #7f7f7f; text-decoration-color: #7f7f7f\">ccmm.matching.weight_matching</span></a><span style=\"color: #7f7f7f; text-decoration-color: #7f7f7f\">:</span><a href=\"file:///media/donato/Extra-storage/Code/model-merging/cycle-consistent-model-merging/src/ccmm/matching/weight_matching.py#176\" target=\"_blank\"><span style=\"color: #7f7f7f; text-decoration-color: #7f7f7f\">176</span></a>\n",
       "</pre>\n"
      ],
      "text/plain": [
       "\u001b[2;36m                   \u001b[0m\u001b[2;36m \u001b[0m\u001b[34mINFO    \u001b[0m Iteration \u001b[1;36m3\u001b[0m, Permutation P_0: \u001b[1;36m0.0\u001b[0m                    \u001b]8;id=485803;file:///media/donato/Extra-storage/Code/model-merging/cycle-consistent-model-merging/src/ccmm/matching/weight_matching.py\u001b\\\u001b[2mccmm.matching.weight_matching\u001b[0m\u001b]8;;\u001b\\\u001b[2m:\u001b[0m\u001b]8;id=237414;file:///media/donato/Extra-storage/Code/model-merging/cycle-consistent-model-merging/src/ccmm/matching/weight_matching.py#176\u001b\\\u001b[2m176\u001b[0m\u001b]8;;\u001b\\\n"
      ]
     },
     "metadata": {},
     "output_type": "display_data"
    },
    {
     "data": {
      "text/html": [
       "<pre style=\"white-space:pre;overflow-x:auto;line-height:normal;font-family:Menlo,'DejaVu Sans Mono',consolas,'Courier New',monospace\"><span style=\"color: #7fbfbf; text-decoration-color: #7fbfbf\">                    </span><span style=\"color: #000080; text-decoration-color: #000080\">INFO    </span> Iteration <span style=\"color: #008080; text-decoration-color: #008080; font-weight: bold\">3</span>, Permutation P_2: <span style=\"color: #008080; text-decoration-color: #008080; font-weight: bold\">11.58514404296875</span>      <a href=\"file:///media/donato/Extra-storage/Code/model-merging/cycle-consistent-model-merging/src/ccmm/matching/weight_matching.py\" target=\"_blank\"><span style=\"color: #7f7f7f; text-decoration-color: #7f7f7f\">ccmm.matching.weight_matching</span></a><span style=\"color: #7f7f7f; text-decoration-color: #7f7f7f\">:</span><a href=\"file:///media/donato/Extra-storage/Code/model-merging/cycle-consistent-model-merging/src/ccmm/matching/weight_matching.py#176\" target=\"_blank\"><span style=\"color: #7f7f7f; text-decoration-color: #7f7f7f\">176</span></a>\n",
       "</pre>\n"
      ],
      "text/plain": [
       "\u001b[2;36m                   \u001b[0m\u001b[2;36m \u001b[0m\u001b[34mINFO    \u001b[0m Iteration \u001b[1;36m3\u001b[0m, Permutation P_2: \u001b[1;36m11.58514404296875\u001b[0m      \u001b]8;id=720127;file:///media/donato/Extra-storage/Code/model-merging/cycle-consistent-model-merging/src/ccmm/matching/weight_matching.py\u001b\\\u001b[2mccmm.matching.weight_matching\u001b[0m\u001b]8;;\u001b\\\u001b[2m:\u001b[0m\u001b]8;id=104898;file:///media/donato/Extra-storage/Code/model-merging/cycle-consistent-model-merging/src/ccmm/matching/weight_matching.py#176\u001b\\\u001b[2m176\u001b[0m\u001b]8;;\u001b\\\n"
      ]
     },
     "metadata": {},
     "output_type": "display_data"
    },
    {
     "data": {
      "text/html": [
       "<pre style=\"white-space:pre;overflow-x:auto;line-height:normal;font-family:Menlo,'DejaVu Sans Mono',consolas,'Courier New',monospace\"><span style=\"color: #7fbfbf; text-decoration-color: #7fbfbf\">                    </span><span style=\"color: #000080; text-decoration-color: #000080\">INFO    </span> Iteration <span style=\"color: #008080; text-decoration-color: #008080; font-weight: bold\">3</span>, Permutation P_1: <span style=\"color: #008080; text-decoration-color: #008080; font-weight: bold\">4.557373046875</span>         <a href=\"file:///media/donato/Extra-storage/Code/model-merging/cycle-consistent-model-merging/src/ccmm/matching/weight_matching.py\" target=\"_blank\"><span style=\"color: #7f7f7f; text-decoration-color: #7f7f7f\">ccmm.matching.weight_matching</span></a><span style=\"color: #7f7f7f; text-decoration-color: #7f7f7f\">:</span><a href=\"file:///media/donato/Extra-storage/Code/model-merging/cycle-consistent-model-merging/src/ccmm/matching/weight_matching.py#176\" target=\"_blank\"><span style=\"color: #7f7f7f; text-decoration-color: #7f7f7f\">176</span></a>\n",
       "</pre>\n"
      ],
      "text/plain": [
       "\u001b[2;36m                   \u001b[0m\u001b[2;36m \u001b[0m\u001b[34mINFO    \u001b[0m Iteration \u001b[1;36m3\u001b[0m, Permutation P_1: \u001b[1;36m4.557373046875\u001b[0m         \u001b]8;id=961531;file:///media/donato/Extra-storage/Code/model-merging/cycle-consistent-model-merging/src/ccmm/matching/weight_matching.py\u001b\\\u001b[2mccmm.matching.weight_matching\u001b[0m\u001b]8;;\u001b\\\u001b[2m:\u001b[0m\u001b]8;id=331388;file:///media/donato/Extra-storage/Code/model-merging/cycle-consistent-model-merging/src/ccmm/matching/weight_matching.py#176\u001b\\\u001b[2m176\u001b[0m\u001b]8;;\u001b\\\n"
      ]
     },
     "metadata": {},
     "output_type": "display_data"
    },
    {
     "data": {
      "text/html": [
       "<pre style=\"white-space:pre;overflow-x:auto;line-height:normal;font-family:Menlo,'DejaVu Sans Mono',consolas,'Courier New',monospace\"><span style=\"color: #7fbfbf; text-decoration-color: #7fbfbf\">                    </span><span style=\"color: #000080; text-decoration-color: #000080\">INFO    </span> Iteration <span style=\"color: #008080; text-decoration-color: #008080; font-weight: bold\">4</span>, Permutation P_3: <span style=\"color: #008080; text-decoration-color: #008080; font-weight: bold\">3.5638885498046875</span>     <a href=\"file:///media/donato/Extra-storage/Code/model-merging/cycle-consistent-model-merging/src/ccmm/matching/weight_matching.py\" target=\"_blank\"><span style=\"color: #7f7f7f; text-decoration-color: #7f7f7f\">ccmm.matching.weight_matching</span></a><span style=\"color: #7f7f7f; text-decoration-color: #7f7f7f\">:</span><a href=\"file:///media/donato/Extra-storage/Code/model-merging/cycle-consistent-model-merging/src/ccmm/matching/weight_matching.py#176\" target=\"_blank\"><span style=\"color: #7f7f7f; text-decoration-color: #7f7f7f\">176</span></a>\n",
       "</pre>\n"
      ],
      "text/plain": [
       "\u001b[2;36m                   \u001b[0m\u001b[2;36m \u001b[0m\u001b[34mINFO    \u001b[0m Iteration \u001b[1;36m4\u001b[0m, Permutation P_3: \u001b[1;36m3.5638885498046875\u001b[0m     \u001b]8;id=284084;file:///media/donato/Extra-storage/Code/model-merging/cycle-consistent-model-merging/src/ccmm/matching/weight_matching.py\u001b\\\u001b[2mccmm.matching.weight_matching\u001b[0m\u001b]8;;\u001b\\\u001b[2m:\u001b[0m\u001b]8;id=6944;file:///media/donato/Extra-storage/Code/model-merging/cycle-consistent-model-merging/src/ccmm/matching/weight_matching.py#176\u001b\\\u001b[2m176\u001b[0m\u001b]8;;\u001b\\\n"
      ]
     },
     "metadata": {},
     "output_type": "display_data"
    },
    {
     "data": {
      "text/html": [
       "<pre style=\"white-space:pre;overflow-x:auto;line-height:normal;font-family:Menlo,'DejaVu Sans Mono',consolas,'Courier New',monospace\"><span style=\"color: #7fbfbf; text-decoration-color: #7fbfbf\">                    </span><span style=\"color: #000080; text-decoration-color: #000080\">INFO    </span> Iteration <span style=\"color: #008080; text-decoration-color: #008080; font-weight: bold\">4</span>, Permutation P_0: <span style=\"color: #008080; text-decoration-color: #008080; font-weight: bold\">1.0728759765625</span>        <a href=\"file:///media/donato/Extra-storage/Code/model-merging/cycle-consistent-model-merging/src/ccmm/matching/weight_matching.py\" target=\"_blank\"><span style=\"color: #7f7f7f; text-decoration-color: #7f7f7f\">ccmm.matching.weight_matching</span></a><span style=\"color: #7f7f7f; text-decoration-color: #7f7f7f\">:</span><a href=\"file:///media/donato/Extra-storage/Code/model-merging/cycle-consistent-model-merging/src/ccmm/matching/weight_matching.py#176\" target=\"_blank\"><span style=\"color: #7f7f7f; text-decoration-color: #7f7f7f\">176</span></a>\n",
       "</pre>\n"
      ],
      "text/plain": [
       "\u001b[2;36m                   \u001b[0m\u001b[2;36m \u001b[0m\u001b[34mINFO    \u001b[0m Iteration \u001b[1;36m4\u001b[0m, Permutation P_0: \u001b[1;36m1.0728759765625\u001b[0m        \u001b]8;id=598853;file:///media/donato/Extra-storage/Code/model-merging/cycle-consistent-model-merging/src/ccmm/matching/weight_matching.py\u001b\\\u001b[2mccmm.matching.weight_matching\u001b[0m\u001b]8;;\u001b\\\u001b[2m:\u001b[0m\u001b]8;id=563452;file:///media/donato/Extra-storage/Code/model-merging/cycle-consistent-model-merging/src/ccmm/matching/weight_matching.py#176\u001b\\\u001b[2m176\u001b[0m\u001b]8;;\u001b\\\n"
      ]
     },
     "metadata": {},
     "output_type": "display_data"
    },
    {
     "data": {
      "text/html": [
       "<pre style=\"white-space:pre;overflow-x:auto;line-height:normal;font-family:Menlo,'DejaVu Sans Mono',consolas,'Courier New',monospace\"><span style=\"color: #7fbfbf; text-decoration-color: #7fbfbf\">                    </span><span style=\"color: #000080; text-decoration-color: #000080\">INFO    </span> Iteration <span style=\"color: #008080; text-decoration-color: #008080; font-weight: bold\">4</span>, Permutation P_1: <span style=\"color: #008080; text-decoration-color: #008080; font-weight: bold\">0.73736572265625</span>       <a href=\"file:///media/donato/Extra-storage/Code/model-merging/cycle-consistent-model-merging/src/ccmm/matching/weight_matching.py\" target=\"_blank\"><span style=\"color: #7f7f7f; text-decoration-color: #7f7f7f\">ccmm.matching.weight_matching</span></a><span style=\"color: #7f7f7f; text-decoration-color: #7f7f7f\">:</span><a href=\"file:///media/donato/Extra-storage/Code/model-merging/cycle-consistent-model-merging/src/ccmm/matching/weight_matching.py#176\" target=\"_blank\"><span style=\"color: #7f7f7f; text-decoration-color: #7f7f7f\">176</span></a>\n",
       "</pre>\n"
      ],
      "text/plain": [
       "\u001b[2;36m                   \u001b[0m\u001b[2;36m \u001b[0m\u001b[34mINFO    \u001b[0m Iteration \u001b[1;36m4\u001b[0m, Permutation P_1: \u001b[1;36m0.73736572265625\u001b[0m       \u001b]8;id=2083;file:///media/donato/Extra-storage/Code/model-merging/cycle-consistent-model-merging/src/ccmm/matching/weight_matching.py\u001b\\\u001b[2mccmm.matching.weight_matching\u001b[0m\u001b]8;;\u001b\\\u001b[2m:\u001b[0m\u001b]8;id=704384;file:///media/donato/Extra-storage/Code/model-merging/cycle-consistent-model-merging/src/ccmm/matching/weight_matching.py#176\u001b\\\u001b[2m176\u001b[0m\u001b]8;;\u001b\\\n"
      ]
     },
     "metadata": {},
     "output_type": "display_data"
    },
    {
     "data": {
      "text/html": [
       "<pre style=\"white-space:pre;overflow-x:auto;line-height:normal;font-family:Menlo,'DejaVu Sans Mono',consolas,'Courier New',monospace\"><span style=\"color: #7fbfbf; text-decoration-color: #7fbfbf\">                    </span><span style=\"color: #000080; text-decoration-color: #000080\">INFO    </span> Iteration <span style=\"color: #008080; text-decoration-color: #008080; font-weight: bold\">4</span>, Permutation P_2: <span style=\"color: #008080; text-decoration-color: #008080; font-weight: bold\">5.370391845703125</span>      <a href=\"file:///media/donato/Extra-storage/Code/model-merging/cycle-consistent-model-merging/src/ccmm/matching/weight_matching.py\" target=\"_blank\"><span style=\"color: #7f7f7f; text-decoration-color: #7f7f7f\">ccmm.matching.weight_matching</span></a><span style=\"color: #7f7f7f; text-decoration-color: #7f7f7f\">:</span><a href=\"file:///media/donato/Extra-storage/Code/model-merging/cycle-consistent-model-merging/src/ccmm/matching/weight_matching.py#176\" target=\"_blank\"><span style=\"color: #7f7f7f; text-decoration-color: #7f7f7f\">176</span></a>\n",
       "</pre>\n"
      ],
      "text/plain": [
       "\u001b[2;36m                   \u001b[0m\u001b[2;36m \u001b[0m\u001b[34mINFO    \u001b[0m Iteration \u001b[1;36m4\u001b[0m, Permutation P_2: \u001b[1;36m5.370391845703125\u001b[0m      \u001b]8;id=433720;file:///media/donato/Extra-storage/Code/model-merging/cycle-consistent-model-merging/src/ccmm/matching/weight_matching.py\u001b\\\u001b[2mccmm.matching.weight_matching\u001b[0m\u001b]8;;\u001b\\\u001b[2m:\u001b[0m\u001b]8;id=179017;file:///media/donato/Extra-storage/Code/model-merging/cycle-consistent-model-merging/src/ccmm/matching/weight_matching.py#176\u001b\\\u001b[2m176\u001b[0m\u001b]8;;\u001b\\\n"
      ]
     },
     "metadata": {},
     "output_type": "display_data"
    },
    {
     "name": "stderr",
     "output_type": "stream",
     "text": [
      "Weight matching:   5%|▌         | 5/100 [00:00<00:10,  9.08it/s]"
     ]
    },
    {
     "data": {
      "text/html": [
       "<pre style=\"white-space:pre;overflow-x:auto;line-height:normal;font-family:Menlo,'DejaVu Sans Mono',consolas,'Courier New',monospace\"><span style=\"color: #7fbfbf; text-decoration-color: #7fbfbf\">                    </span><span style=\"color: #000080; text-decoration-color: #000080\">INFO    </span> Iteration <span style=\"color: #008080; text-decoration-color: #008080; font-weight: bold\">5</span>, Permutation P_0: <span style=\"color: #008080; text-decoration-color: #008080; font-weight: bold\">0.0975341796875</span>        <a href=\"file:///media/donato/Extra-storage/Code/model-merging/cycle-consistent-model-merging/src/ccmm/matching/weight_matching.py\" target=\"_blank\"><span style=\"color: #7f7f7f; text-decoration-color: #7f7f7f\">ccmm.matching.weight_matching</span></a><span style=\"color: #7f7f7f; text-decoration-color: #7f7f7f\">:</span><a href=\"file:///media/donato/Extra-storage/Code/model-merging/cycle-consistent-model-merging/src/ccmm/matching/weight_matching.py#176\" target=\"_blank\"><span style=\"color: #7f7f7f; text-decoration-color: #7f7f7f\">176</span></a>\n",
       "</pre>\n"
      ],
      "text/plain": [
       "\u001b[2;36m                   \u001b[0m\u001b[2;36m \u001b[0m\u001b[34mINFO    \u001b[0m Iteration \u001b[1;36m5\u001b[0m, Permutation P_0: \u001b[1;36m0.0975341796875\u001b[0m        \u001b]8;id=610784;file:///media/donato/Extra-storage/Code/model-merging/cycle-consistent-model-merging/src/ccmm/matching/weight_matching.py\u001b\\\u001b[2mccmm.matching.weight_matching\u001b[0m\u001b]8;;\u001b\\\u001b[2m:\u001b[0m\u001b]8;id=742796;file:///media/donato/Extra-storage/Code/model-merging/cycle-consistent-model-merging/src/ccmm/matching/weight_matching.py#176\u001b\\\u001b[2m176\u001b[0m\u001b]8;;\u001b\\\n"
      ]
     },
     "metadata": {},
     "output_type": "display_data"
    },
    {
     "data": {
      "text/html": [
       "<pre style=\"white-space:pre;overflow-x:auto;line-height:normal;font-family:Menlo,'DejaVu Sans Mono',consolas,'Courier New',monospace\"><span style=\"color: #7fbfbf; text-decoration-color: #7fbfbf\">                    </span><span style=\"color: #000080; text-decoration-color: #000080\">INFO    </span> Iteration <span style=\"color: #008080; text-decoration-color: #008080; font-weight: bold\">5</span>, Permutation P_3: <span style=\"color: #008080; text-decoration-color: #008080; font-weight: bold\">1.836029052734375</span>      <a href=\"file:///media/donato/Extra-storage/Code/model-merging/cycle-consistent-model-merging/src/ccmm/matching/weight_matching.py\" target=\"_blank\"><span style=\"color: #7f7f7f; text-decoration-color: #7f7f7f\">ccmm.matching.weight_matching</span></a><span style=\"color: #7f7f7f; text-decoration-color: #7f7f7f\">:</span><a href=\"file:///media/donato/Extra-storage/Code/model-merging/cycle-consistent-model-merging/src/ccmm/matching/weight_matching.py#176\" target=\"_blank\"><span style=\"color: #7f7f7f; text-decoration-color: #7f7f7f\">176</span></a>\n",
       "</pre>\n"
      ],
      "text/plain": [
       "\u001b[2;36m                   \u001b[0m\u001b[2;36m \u001b[0m\u001b[34mINFO    \u001b[0m Iteration \u001b[1;36m5\u001b[0m, Permutation P_3: \u001b[1;36m1.836029052734375\u001b[0m      \u001b]8;id=195342;file:///media/donato/Extra-storage/Code/model-merging/cycle-consistent-model-merging/src/ccmm/matching/weight_matching.py\u001b\\\u001b[2mccmm.matching.weight_matching\u001b[0m\u001b]8;;\u001b\\\u001b[2m:\u001b[0m\u001b]8;id=864405;file:///media/donato/Extra-storage/Code/model-merging/cycle-consistent-model-merging/src/ccmm/matching/weight_matching.py#176\u001b\\\u001b[2m176\u001b[0m\u001b]8;;\u001b\\\n"
      ]
     },
     "metadata": {},
     "output_type": "display_data"
    },
    {
     "data": {
      "text/html": [
       "<pre style=\"white-space:pre;overflow-x:auto;line-height:normal;font-family:Menlo,'DejaVu Sans Mono',consolas,'Courier New',monospace\"><span style=\"color: #7fbfbf; text-decoration-color: #7fbfbf\">                    </span><span style=\"color: #000080; text-decoration-color: #000080\">INFO    </span> Iteration <span style=\"color: #008080; text-decoration-color: #008080; font-weight: bold\">5</span>, Permutation P_2: <span style=\"color: #008080; text-decoration-color: #008080; font-weight: bold\">1.19451904296875</span>       <a href=\"file:///media/donato/Extra-storage/Code/model-merging/cycle-consistent-model-merging/src/ccmm/matching/weight_matching.py\" target=\"_blank\"><span style=\"color: #7f7f7f; text-decoration-color: #7f7f7f\">ccmm.matching.weight_matching</span></a><span style=\"color: #7f7f7f; text-decoration-color: #7f7f7f\">:</span><a href=\"file:///media/donato/Extra-storage/Code/model-merging/cycle-consistent-model-merging/src/ccmm/matching/weight_matching.py#176\" target=\"_blank\"><span style=\"color: #7f7f7f; text-decoration-color: #7f7f7f\">176</span></a>\n",
       "</pre>\n"
      ],
      "text/plain": [
       "\u001b[2;36m                   \u001b[0m\u001b[2;36m \u001b[0m\u001b[34mINFO    \u001b[0m Iteration \u001b[1;36m5\u001b[0m, Permutation P_2: \u001b[1;36m1.19451904296875\u001b[0m       \u001b]8;id=302080;file:///media/donato/Extra-storage/Code/model-merging/cycle-consistent-model-merging/src/ccmm/matching/weight_matching.py\u001b\\\u001b[2mccmm.matching.weight_matching\u001b[0m\u001b]8;;\u001b\\\u001b[2m:\u001b[0m\u001b]8;id=852104;file:///media/donato/Extra-storage/Code/model-merging/cycle-consistent-model-merging/src/ccmm/matching/weight_matching.py#176\u001b\\\u001b[2m176\u001b[0m\u001b]8;;\u001b\\\n"
      ]
     },
     "metadata": {},
     "output_type": "display_data"
    },
    {
     "data": {
      "text/html": [
       "<pre style=\"white-space:pre;overflow-x:auto;line-height:normal;font-family:Menlo,'DejaVu Sans Mono',consolas,'Courier New',monospace\"><span style=\"color: #7fbfbf; text-decoration-color: #7fbfbf\">                    </span><span style=\"color: #000080; text-decoration-color: #000080\">INFO    </span> Iteration <span style=\"color: #008080; text-decoration-color: #008080; font-weight: bold\">5</span>, Permutation P_1: <span style=\"color: #008080; text-decoration-color: #008080; font-weight: bold\">1.43701171875</span>          <a href=\"file:///media/donato/Extra-storage/Code/model-merging/cycle-consistent-model-merging/src/ccmm/matching/weight_matching.py\" target=\"_blank\"><span style=\"color: #7f7f7f; text-decoration-color: #7f7f7f\">ccmm.matching.weight_matching</span></a><span style=\"color: #7f7f7f; text-decoration-color: #7f7f7f\">:</span><a href=\"file:///media/donato/Extra-storage/Code/model-merging/cycle-consistent-model-merging/src/ccmm/matching/weight_matching.py#176\" target=\"_blank\"><span style=\"color: #7f7f7f; text-decoration-color: #7f7f7f\">176</span></a>\n",
       "</pre>\n"
      ],
      "text/plain": [
       "\u001b[2;36m                   \u001b[0m\u001b[2;36m \u001b[0m\u001b[34mINFO    \u001b[0m Iteration \u001b[1;36m5\u001b[0m, Permutation P_1: \u001b[1;36m1.43701171875\u001b[0m          \u001b]8;id=241544;file:///media/donato/Extra-storage/Code/model-merging/cycle-consistent-model-merging/src/ccmm/matching/weight_matching.py\u001b\\\u001b[2mccmm.matching.weight_matching\u001b[0m\u001b]8;;\u001b\\\u001b[2m:\u001b[0m\u001b]8;id=171986;file:///media/donato/Extra-storage/Code/model-merging/cycle-consistent-model-merging/src/ccmm/matching/weight_matching.py#176\u001b\\\u001b[2m176\u001b[0m\u001b]8;;\u001b\\\n"
      ]
     },
     "metadata": {},
     "output_type": "display_data"
    },
    {
     "name": "stderr",
     "output_type": "stream",
     "text": [
      "Weight matching:   6%|▌         | 6/100 [00:00<00:11,  7.94it/s]"
     ]
    },
    {
     "data": {
      "text/html": [
       "<pre style=\"white-space:pre;overflow-x:auto;line-height:normal;font-family:Menlo,'DejaVu Sans Mono',consolas,'Courier New',monospace\"><span style=\"color: #7fbfbf; text-decoration-color: #7fbfbf\">                    </span><span style=\"color: #000080; text-decoration-color: #000080\">INFO    </span> Iteration <span style=\"color: #008080; text-decoration-color: #008080; font-weight: bold\">6</span>, Permutation P_1: <span style=\"color: #008080; text-decoration-color: #008080; font-weight: bold\">0.0</span>                    <a href=\"file:///media/donato/Extra-storage/Code/model-merging/cycle-consistent-model-merging/src/ccmm/matching/weight_matching.py\" target=\"_blank\"><span style=\"color: #7f7f7f; text-decoration-color: #7f7f7f\">ccmm.matching.weight_matching</span></a><span style=\"color: #7f7f7f; text-decoration-color: #7f7f7f\">:</span><a href=\"file:///media/donato/Extra-storage/Code/model-merging/cycle-consistent-model-merging/src/ccmm/matching/weight_matching.py#176\" target=\"_blank\"><span style=\"color: #7f7f7f; text-decoration-color: #7f7f7f\">176</span></a>\n",
       "</pre>\n"
      ],
      "text/plain": [
       "\u001b[2;36m                   \u001b[0m\u001b[2;36m \u001b[0m\u001b[34mINFO    \u001b[0m Iteration \u001b[1;36m6\u001b[0m, Permutation P_1: \u001b[1;36m0.0\u001b[0m                    \u001b]8;id=699023;file:///media/donato/Extra-storage/Code/model-merging/cycle-consistent-model-merging/src/ccmm/matching/weight_matching.py\u001b\\\u001b[2mccmm.matching.weight_matching\u001b[0m\u001b]8;;\u001b\\\u001b[2m:\u001b[0m\u001b]8;id=437835;file:///media/donato/Extra-storage/Code/model-merging/cycle-consistent-model-merging/src/ccmm/matching/weight_matching.py#176\u001b\\\u001b[2m176\u001b[0m\u001b]8;;\u001b\\\n"
      ]
     },
     "metadata": {},
     "output_type": "display_data"
    },
    {
     "data": {
      "text/html": [
       "<pre style=\"white-space:pre;overflow-x:auto;line-height:normal;font-family:Menlo,'DejaVu Sans Mono',consolas,'Courier New',monospace\"><span style=\"color: #7fbfbf; text-decoration-color: #7fbfbf\">                    </span><span style=\"color: #000080; text-decoration-color: #000080\">INFO    </span> Iteration <span style=\"color: #008080; text-decoration-color: #008080; font-weight: bold\">6</span>, Permutation P_3: <span style=\"color: #008080; text-decoration-color: #008080; font-weight: bold\">0.6035614013671875</span>     <a href=\"file:///media/donato/Extra-storage/Code/model-merging/cycle-consistent-model-merging/src/ccmm/matching/weight_matching.py\" target=\"_blank\"><span style=\"color: #7f7f7f; text-decoration-color: #7f7f7f\">ccmm.matching.weight_matching</span></a><span style=\"color: #7f7f7f; text-decoration-color: #7f7f7f\">:</span><a href=\"file:///media/donato/Extra-storage/Code/model-merging/cycle-consistent-model-merging/src/ccmm/matching/weight_matching.py#176\" target=\"_blank\"><span style=\"color: #7f7f7f; text-decoration-color: #7f7f7f\">176</span></a>\n",
       "</pre>\n"
      ],
      "text/plain": [
       "\u001b[2;36m                   \u001b[0m\u001b[2;36m \u001b[0m\u001b[34mINFO    \u001b[0m Iteration \u001b[1;36m6\u001b[0m, Permutation P_3: \u001b[1;36m0.6035614013671875\u001b[0m     \u001b]8;id=97913;file:///media/donato/Extra-storage/Code/model-merging/cycle-consistent-model-merging/src/ccmm/matching/weight_matching.py\u001b\\\u001b[2mccmm.matching.weight_matching\u001b[0m\u001b]8;;\u001b\\\u001b[2m:\u001b[0m\u001b]8;id=644187;file:///media/donato/Extra-storage/Code/model-merging/cycle-consistent-model-merging/src/ccmm/matching/weight_matching.py#176\u001b\\\u001b[2m176\u001b[0m\u001b]8;;\u001b\\\n"
      ]
     },
     "metadata": {},
     "output_type": "display_data"
    },
    {
     "data": {
      "text/html": [
       "<pre style=\"white-space:pre;overflow-x:auto;line-height:normal;font-family:Menlo,'DejaVu Sans Mono',consolas,'Courier New',monospace\"><span style=\"color: #7fbfbf; text-decoration-color: #7fbfbf\">2025-01-03 08:29:05 </span><span style=\"color: #000080; text-decoration-color: #000080\">INFO    </span> Iteration <span style=\"color: #008080; text-decoration-color: #008080; font-weight: bold\">6</span>, Permutation P_0: <span style=\"color: #008080; text-decoration-color: #008080; font-weight: bold\">0.48681640625</span>          <a href=\"file:///media/donato/Extra-storage/Code/model-merging/cycle-consistent-model-merging/src/ccmm/matching/weight_matching.py\" target=\"_blank\"><span style=\"color: #7f7f7f; text-decoration-color: #7f7f7f\">ccmm.matching.weight_matching</span></a><span style=\"color: #7f7f7f; text-decoration-color: #7f7f7f\">:</span><a href=\"file:///media/donato/Extra-storage/Code/model-merging/cycle-consistent-model-merging/src/ccmm/matching/weight_matching.py#176\" target=\"_blank\"><span style=\"color: #7f7f7f; text-decoration-color: #7f7f7f\">176</span></a>\n",
       "</pre>\n"
      ],
      "text/plain": [
       "\u001b[2;36m2025-01-03 08:29:05\u001b[0m\u001b[2;36m \u001b[0m\u001b[34mINFO    \u001b[0m Iteration \u001b[1;36m6\u001b[0m, Permutation P_0: \u001b[1;36m0.48681640625\u001b[0m          \u001b]8;id=728695;file:///media/donato/Extra-storage/Code/model-merging/cycle-consistent-model-merging/src/ccmm/matching/weight_matching.py\u001b\\\u001b[2mccmm.matching.weight_matching\u001b[0m\u001b]8;;\u001b\\\u001b[2m:\u001b[0m\u001b]8;id=774009;file:///media/donato/Extra-storage/Code/model-merging/cycle-consistent-model-merging/src/ccmm/matching/weight_matching.py#176\u001b\\\u001b[2m176\u001b[0m\u001b]8;;\u001b\\\n"
      ]
     },
     "metadata": {},
     "output_type": "display_data"
    },
    {
     "data": {
      "text/html": [
       "<pre style=\"white-space:pre;overflow-x:auto;line-height:normal;font-family:Menlo,'DejaVu Sans Mono',consolas,'Courier New',monospace\"><span style=\"color: #7fbfbf; text-decoration-color: #7fbfbf\">                    </span><span style=\"color: #000080; text-decoration-color: #000080\">INFO    </span> Iteration <span style=\"color: #008080; text-decoration-color: #008080; font-weight: bold\">6</span>, Permutation P_2: <span style=\"color: #008080; text-decoration-color: #008080; font-weight: bold\">1.79888916015625</span>       <a href=\"file:///media/donato/Extra-storage/Code/model-merging/cycle-consistent-model-merging/src/ccmm/matching/weight_matching.py\" target=\"_blank\"><span style=\"color: #7f7f7f; text-decoration-color: #7f7f7f\">ccmm.matching.weight_matching</span></a><span style=\"color: #7f7f7f; text-decoration-color: #7f7f7f\">:</span><a href=\"file:///media/donato/Extra-storage/Code/model-merging/cycle-consistent-model-merging/src/ccmm/matching/weight_matching.py#176\" target=\"_blank\"><span style=\"color: #7f7f7f; text-decoration-color: #7f7f7f\">176</span></a>\n",
       "</pre>\n"
      ],
      "text/plain": [
       "\u001b[2;36m                   \u001b[0m\u001b[2;36m \u001b[0m\u001b[34mINFO    \u001b[0m Iteration \u001b[1;36m6\u001b[0m, Permutation P_2: \u001b[1;36m1.79888916015625\u001b[0m       \u001b]8;id=928666;file:///media/donato/Extra-storage/Code/model-merging/cycle-consistent-model-merging/src/ccmm/matching/weight_matching.py\u001b\\\u001b[2mccmm.matching.weight_matching\u001b[0m\u001b]8;;\u001b\\\u001b[2m:\u001b[0m\u001b]8;id=793861;file:///media/donato/Extra-storage/Code/model-merging/cycle-consistent-model-merging/src/ccmm/matching/weight_matching.py#176\u001b\\\u001b[2m176\u001b[0m\u001b]8;;\u001b\\\n"
      ]
     },
     "metadata": {},
     "output_type": "display_data"
    },
    {
     "data": {
      "text/html": [
       "<pre style=\"white-space:pre;overflow-x:auto;line-height:normal;font-family:Menlo,'DejaVu Sans Mono',consolas,'Courier New',monospace\"><span style=\"color: #7fbfbf; text-decoration-color: #7fbfbf\">                    </span><span style=\"color: #000080; text-decoration-color: #000080\">INFO    </span> Iteration <span style=\"color: #008080; text-decoration-color: #008080; font-weight: bold\">7</span>, Permutation P_3: <span style=\"color: #008080; text-decoration-color: #008080; font-weight: bold\">0.3785247802734375</span>     <a href=\"file:///media/donato/Extra-storage/Code/model-merging/cycle-consistent-model-merging/src/ccmm/matching/weight_matching.py\" target=\"_blank\"><span style=\"color: #7f7f7f; text-decoration-color: #7f7f7f\">ccmm.matching.weight_matching</span></a><span style=\"color: #7f7f7f; text-decoration-color: #7f7f7f\">:</span><a href=\"file:///media/donato/Extra-storage/Code/model-merging/cycle-consistent-model-merging/src/ccmm/matching/weight_matching.py#176\" target=\"_blank\"><span style=\"color: #7f7f7f; text-decoration-color: #7f7f7f\">176</span></a>\n",
       "</pre>\n"
      ],
      "text/plain": [
       "\u001b[2;36m                   \u001b[0m\u001b[2;36m \u001b[0m\u001b[34mINFO    \u001b[0m Iteration \u001b[1;36m7\u001b[0m, Permutation P_3: \u001b[1;36m0.3785247802734375\u001b[0m     \u001b]8;id=809612;file:///media/donato/Extra-storage/Code/model-merging/cycle-consistent-model-merging/src/ccmm/matching/weight_matching.py\u001b\\\u001b[2mccmm.matching.weight_matching\u001b[0m\u001b]8;;\u001b\\\u001b[2m:\u001b[0m\u001b]8;id=730127;file:///media/donato/Extra-storage/Code/model-merging/cycle-consistent-model-merging/src/ccmm/matching/weight_matching.py#176\u001b\\\u001b[2m176\u001b[0m\u001b]8;;\u001b\\\n"
      ]
     },
     "metadata": {},
     "output_type": "display_data"
    },
    {
     "data": {
      "text/html": [
       "<pre style=\"white-space:pre;overflow-x:auto;line-height:normal;font-family:Menlo,'DejaVu Sans Mono',consolas,'Courier New',monospace\"><span style=\"color: #7fbfbf; text-decoration-color: #7fbfbf\">                    </span><span style=\"color: #000080; text-decoration-color: #000080\">INFO    </span> Iteration <span style=\"color: #008080; text-decoration-color: #008080; font-weight: bold\">7</span>, Permutation P_1: <span style=\"color: #008080; text-decoration-color: #008080; font-weight: bold\">1.52642822265625</span>       <a href=\"file:///media/donato/Extra-storage/Code/model-merging/cycle-consistent-model-merging/src/ccmm/matching/weight_matching.py\" target=\"_blank\"><span style=\"color: #7f7f7f; text-decoration-color: #7f7f7f\">ccmm.matching.weight_matching</span></a><span style=\"color: #7f7f7f; text-decoration-color: #7f7f7f\">:</span><a href=\"file:///media/donato/Extra-storage/Code/model-merging/cycle-consistent-model-merging/src/ccmm/matching/weight_matching.py#176\" target=\"_blank\"><span style=\"color: #7f7f7f; text-decoration-color: #7f7f7f\">176</span></a>\n",
       "</pre>\n"
      ],
      "text/plain": [
       "\u001b[2;36m                   \u001b[0m\u001b[2;36m \u001b[0m\u001b[34mINFO    \u001b[0m Iteration \u001b[1;36m7\u001b[0m, Permutation P_1: \u001b[1;36m1.52642822265625\u001b[0m       \u001b]8;id=264348;file:///media/donato/Extra-storage/Code/model-merging/cycle-consistent-model-merging/src/ccmm/matching/weight_matching.py\u001b\\\u001b[2mccmm.matching.weight_matching\u001b[0m\u001b]8;;\u001b\\\u001b[2m:\u001b[0m\u001b]8;id=713679;file:///media/donato/Extra-storage/Code/model-merging/cycle-consistent-model-merging/src/ccmm/matching/weight_matching.py#176\u001b\\\u001b[2m176\u001b[0m\u001b]8;;\u001b\\\n"
      ]
     },
     "metadata": {},
     "output_type": "display_data"
    },
    {
     "data": {
      "text/html": [
       "<pre style=\"white-space:pre;overflow-x:auto;line-height:normal;font-family:Menlo,'DejaVu Sans Mono',consolas,'Courier New',monospace\"><span style=\"color: #7fbfbf; text-decoration-color: #7fbfbf\">                    </span><span style=\"color: #000080; text-decoration-color: #000080\">INFO    </span> Iteration <span style=\"color: #008080; text-decoration-color: #008080; font-weight: bold\">7</span>, Permutation P_2: <span style=\"color: #008080; text-decoration-color: #008080; font-weight: bold\">2.210479736328125</span>      <a href=\"file:///media/donato/Extra-storage/Code/model-merging/cycle-consistent-model-merging/src/ccmm/matching/weight_matching.py\" target=\"_blank\"><span style=\"color: #7f7f7f; text-decoration-color: #7f7f7f\">ccmm.matching.weight_matching</span></a><span style=\"color: #7f7f7f; text-decoration-color: #7f7f7f\">:</span><a href=\"file:///media/donato/Extra-storage/Code/model-merging/cycle-consistent-model-merging/src/ccmm/matching/weight_matching.py#176\" target=\"_blank\"><span style=\"color: #7f7f7f; text-decoration-color: #7f7f7f\">176</span></a>\n",
       "</pre>\n"
      ],
      "text/plain": [
       "\u001b[2;36m                   \u001b[0m\u001b[2;36m \u001b[0m\u001b[34mINFO    \u001b[0m Iteration \u001b[1;36m7\u001b[0m, Permutation P_2: \u001b[1;36m2.210479736328125\u001b[0m      \u001b]8;id=524800;file:///media/donato/Extra-storage/Code/model-merging/cycle-consistent-model-merging/src/ccmm/matching/weight_matching.py\u001b\\\u001b[2mccmm.matching.weight_matching\u001b[0m\u001b]8;;\u001b\\\u001b[2m:\u001b[0m\u001b]8;id=416475;file:///media/donato/Extra-storage/Code/model-merging/cycle-consistent-model-merging/src/ccmm/matching/weight_matching.py#176\u001b\\\u001b[2m176\u001b[0m\u001b]8;;\u001b\\\n"
      ]
     },
     "metadata": {},
     "output_type": "display_data"
    },
    {
     "data": {
      "text/html": [
       "<pre style=\"white-space:pre;overflow-x:auto;line-height:normal;font-family:Menlo,'DejaVu Sans Mono',consolas,'Courier New',monospace\"><span style=\"color: #7fbfbf; text-decoration-color: #7fbfbf\">                    </span><span style=\"color: #000080; text-decoration-color: #000080\">INFO    </span> Iteration <span style=\"color: #008080; text-decoration-color: #008080; font-weight: bold\">7</span>, Permutation P_0: <span style=\"color: #008080; text-decoration-color: #008080; font-weight: bold\">0.3829345703125</span>        <a href=\"file:///media/donato/Extra-storage/Code/model-merging/cycle-consistent-model-merging/src/ccmm/matching/weight_matching.py\" target=\"_blank\"><span style=\"color: #7f7f7f; text-decoration-color: #7f7f7f\">ccmm.matching.weight_matching</span></a><span style=\"color: #7f7f7f; text-decoration-color: #7f7f7f\">:</span><a href=\"file:///media/donato/Extra-storage/Code/model-merging/cycle-consistent-model-merging/src/ccmm/matching/weight_matching.py#176\" target=\"_blank\"><span style=\"color: #7f7f7f; text-decoration-color: #7f7f7f\">176</span></a>\n",
       "</pre>\n"
      ],
      "text/plain": [
       "\u001b[2;36m                   \u001b[0m\u001b[2;36m \u001b[0m\u001b[34mINFO    \u001b[0m Iteration \u001b[1;36m7\u001b[0m, Permutation P_0: \u001b[1;36m0.3829345703125\u001b[0m        \u001b]8;id=838380;file:///media/donato/Extra-storage/Code/model-merging/cycle-consistent-model-merging/src/ccmm/matching/weight_matching.py\u001b\\\u001b[2mccmm.matching.weight_matching\u001b[0m\u001b]8;;\u001b\\\u001b[2m:\u001b[0m\u001b]8;id=130841;file:///media/donato/Extra-storage/Code/model-merging/cycle-consistent-model-merging/src/ccmm/matching/weight_matching.py#176\u001b\\\u001b[2m176\u001b[0m\u001b]8;;\u001b\\\n"
      ]
     },
     "metadata": {},
     "output_type": "display_data"
    },
    {
     "name": "stderr",
     "output_type": "stream",
     "text": [
      "Weight matching:   8%|▊         | 8/100 [00:00<00:10,  8.94it/s]"
     ]
    },
    {
     "data": {
      "text/html": [
       "<pre style=\"white-space:pre;overflow-x:auto;line-height:normal;font-family:Menlo,'DejaVu Sans Mono',consolas,'Courier New',monospace\"><span style=\"color: #7fbfbf; text-decoration-color: #7fbfbf\">                    </span><span style=\"color: #000080; text-decoration-color: #000080\">INFO    </span> Iteration <span style=\"color: #008080; text-decoration-color: #008080; font-weight: bold\">8</span>, Permutation P_0: <span style=\"color: #008080; text-decoration-color: #008080; font-weight: bold\">0.0</span>                    <a href=\"file:///media/donato/Extra-storage/Code/model-merging/cycle-consistent-model-merging/src/ccmm/matching/weight_matching.py\" target=\"_blank\"><span style=\"color: #7f7f7f; text-decoration-color: #7f7f7f\">ccmm.matching.weight_matching</span></a><span style=\"color: #7f7f7f; text-decoration-color: #7f7f7f\">:</span><a href=\"file:///media/donato/Extra-storage/Code/model-merging/cycle-consistent-model-merging/src/ccmm/matching/weight_matching.py#176\" target=\"_blank\"><span style=\"color: #7f7f7f; text-decoration-color: #7f7f7f\">176</span></a>\n",
       "</pre>\n"
      ],
      "text/plain": [
       "\u001b[2;36m                   \u001b[0m\u001b[2;36m \u001b[0m\u001b[34mINFO    \u001b[0m Iteration \u001b[1;36m8\u001b[0m, Permutation P_0: \u001b[1;36m0.0\u001b[0m                    \u001b]8;id=253278;file:///media/donato/Extra-storage/Code/model-merging/cycle-consistent-model-merging/src/ccmm/matching/weight_matching.py\u001b\\\u001b[2mccmm.matching.weight_matching\u001b[0m\u001b]8;;\u001b\\\u001b[2m:\u001b[0m\u001b]8;id=773873;file:///media/donato/Extra-storage/Code/model-merging/cycle-consistent-model-merging/src/ccmm/matching/weight_matching.py#176\u001b\\\u001b[2m176\u001b[0m\u001b]8;;\u001b\\\n"
      ]
     },
     "metadata": {},
     "output_type": "display_data"
    },
    {
     "data": {
      "text/html": [
       "<pre style=\"white-space:pre;overflow-x:auto;line-height:normal;font-family:Menlo,'DejaVu Sans Mono',consolas,'Courier New',monospace\"><span style=\"color: #7fbfbf; text-decoration-color: #7fbfbf\">                    </span><span style=\"color: #000080; text-decoration-color: #000080\">INFO    </span> Iteration <span style=\"color: #008080; text-decoration-color: #008080; font-weight: bold\">8</span>, Permutation P_2: <span style=\"color: #008080; text-decoration-color: #008080; font-weight: bold\">0.0</span>                    <a href=\"file:///media/donato/Extra-storage/Code/model-merging/cycle-consistent-model-merging/src/ccmm/matching/weight_matching.py\" target=\"_blank\"><span style=\"color: #7f7f7f; text-decoration-color: #7f7f7f\">ccmm.matching.weight_matching</span></a><span style=\"color: #7f7f7f; text-decoration-color: #7f7f7f\">:</span><a href=\"file:///media/donato/Extra-storage/Code/model-merging/cycle-consistent-model-merging/src/ccmm/matching/weight_matching.py#176\" target=\"_blank\"><span style=\"color: #7f7f7f; text-decoration-color: #7f7f7f\">176</span></a>\n",
       "</pre>\n"
      ],
      "text/plain": [
       "\u001b[2;36m                   \u001b[0m\u001b[2;36m \u001b[0m\u001b[34mINFO    \u001b[0m Iteration \u001b[1;36m8\u001b[0m, Permutation P_2: \u001b[1;36m0.0\u001b[0m                    \u001b]8;id=108485;file:///media/donato/Extra-storage/Code/model-merging/cycle-consistent-model-merging/src/ccmm/matching/weight_matching.py\u001b\\\u001b[2mccmm.matching.weight_matching\u001b[0m\u001b]8;;\u001b\\\u001b[2m:\u001b[0m\u001b]8;id=434152;file:///media/donato/Extra-storage/Code/model-merging/cycle-consistent-model-merging/src/ccmm/matching/weight_matching.py#176\u001b\\\u001b[2m176\u001b[0m\u001b]8;;\u001b\\\n"
      ]
     },
     "metadata": {},
     "output_type": "display_data"
    },
    {
     "data": {
      "text/html": [
       "<pre style=\"white-space:pre;overflow-x:auto;line-height:normal;font-family:Menlo,'DejaVu Sans Mono',consolas,'Courier New',monospace\"><span style=\"color: #7fbfbf; text-decoration-color: #7fbfbf\">                    </span><span style=\"color: #000080; text-decoration-color: #000080\">INFO    </span> Iteration <span style=\"color: #008080; text-decoration-color: #008080; font-weight: bold\">8</span>, Permutation P_3: <span style=\"color: #008080; text-decoration-color: #008080; font-weight: bold\">0.4033660888671875</span>     <a href=\"file:///media/donato/Extra-storage/Code/model-merging/cycle-consistent-model-merging/src/ccmm/matching/weight_matching.py\" target=\"_blank\"><span style=\"color: #7f7f7f; text-decoration-color: #7f7f7f\">ccmm.matching.weight_matching</span></a><span style=\"color: #7f7f7f; text-decoration-color: #7f7f7f\">:</span><a href=\"file:///media/donato/Extra-storage/Code/model-merging/cycle-consistent-model-merging/src/ccmm/matching/weight_matching.py#176\" target=\"_blank\"><span style=\"color: #7f7f7f; text-decoration-color: #7f7f7f\">176</span></a>\n",
       "</pre>\n"
      ],
      "text/plain": [
       "\u001b[2;36m                   \u001b[0m\u001b[2;36m \u001b[0m\u001b[34mINFO    \u001b[0m Iteration \u001b[1;36m8\u001b[0m, Permutation P_3: \u001b[1;36m0.4033660888671875\u001b[0m     \u001b]8;id=177120;file:///media/donato/Extra-storage/Code/model-merging/cycle-consistent-model-merging/src/ccmm/matching/weight_matching.py\u001b\\\u001b[2mccmm.matching.weight_matching\u001b[0m\u001b]8;;\u001b\\\u001b[2m:\u001b[0m\u001b]8;id=431994;file:///media/donato/Extra-storage/Code/model-merging/cycle-consistent-model-merging/src/ccmm/matching/weight_matching.py#176\u001b\\\u001b[2m176\u001b[0m\u001b]8;;\u001b\\\n"
      ]
     },
     "metadata": {},
     "output_type": "display_data"
    },
    {
     "data": {
      "text/html": [
       "<pre style=\"white-space:pre;overflow-x:auto;line-height:normal;font-family:Menlo,'DejaVu Sans Mono',consolas,'Courier New',monospace\"><span style=\"color: #7fbfbf; text-decoration-color: #7fbfbf\">                    </span><span style=\"color: #000080; text-decoration-color: #000080\">INFO    </span> Iteration <span style=\"color: #008080; text-decoration-color: #008080; font-weight: bold\">8</span>, Permutation P_1: <span style=\"color: #008080; text-decoration-color: #008080; font-weight: bold\">0.0557861328125</span>        <a href=\"file:///media/donato/Extra-storage/Code/model-merging/cycle-consistent-model-merging/src/ccmm/matching/weight_matching.py\" target=\"_blank\"><span style=\"color: #7f7f7f; text-decoration-color: #7f7f7f\">ccmm.matching.weight_matching</span></a><span style=\"color: #7f7f7f; text-decoration-color: #7f7f7f\">:</span><a href=\"file:///media/donato/Extra-storage/Code/model-merging/cycle-consistent-model-merging/src/ccmm/matching/weight_matching.py#176\" target=\"_blank\"><span style=\"color: #7f7f7f; text-decoration-color: #7f7f7f\">176</span></a>\n",
       "</pre>\n"
      ],
      "text/plain": [
       "\u001b[2;36m                   \u001b[0m\u001b[2;36m \u001b[0m\u001b[34mINFO    \u001b[0m Iteration \u001b[1;36m8\u001b[0m, Permutation P_1: \u001b[1;36m0.0557861328125\u001b[0m        \u001b]8;id=399065;file:///media/donato/Extra-storage/Code/model-merging/cycle-consistent-model-merging/src/ccmm/matching/weight_matching.py\u001b\\\u001b[2mccmm.matching.weight_matching\u001b[0m\u001b]8;;\u001b\\\u001b[2m:\u001b[0m\u001b]8;id=946848;file:///media/donato/Extra-storage/Code/model-merging/cycle-consistent-model-merging/src/ccmm/matching/weight_matching.py#176\u001b\\\u001b[2m176\u001b[0m\u001b]8;;\u001b\\\n"
      ]
     },
     "metadata": {},
     "output_type": "display_data"
    },
    {
     "data": {
      "text/html": [
       "<pre style=\"white-space:pre;overflow-x:auto;line-height:normal;font-family:Menlo,'DejaVu Sans Mono',consolas,'Courier New',monospace\"><span style=\"color: #7fbfbf; text-decoration-color: #7fbfbf\">                    </span><span style=\"color: #000080; text-decoration-color: #000080\">INFO    </span> Iteration <span style=\"color: #008080; text-decoration-color: #008080; font-weight: bold\">9</span>, Permutation P_0: <span style=\"color: #008080; text-decoration-color: #008080; font-weight: bold\">0.0</span>                    <a href=\"file:///media/donato/Extra-storage/Code/model-merging/cycle-consistent-model-merging/src/ccmm/matching/weight_matching.py\" target=\"_blank\"><span style=\"color: #7f7f7f; text-decoration-color: #7f7f7f\">ccmm.matching.weight_matching</span></a><span style=\"color: #7f7f7f; text-decoration-color: #7f7f7f\">:</span><a href=\"file:///media/donato/Extra-storage/Code/model-merging/cycle-consistent-model-merging/src/ccmm/matching/weight_matching.py#176\" target=\"_blank\"><span style=\"color: #7f7f7f; text-decoration-color: #7f7f7f\">176</span></a>\n",
       "</pre>\n"
      ],
      "text/plain": [
       "\u001b[2;36m                   \u001b[0m\u001b[2;36m \u001b[0m\u001b[34mINFO    \u001b[0m Iteration \u001b[1;36m9\u001b[0m, Permutation P_0: \u001b[1;36m0.0\u001b[0m                    \u001b]8;id=90162;file:///media/donato/Extra-storage/Code/model-merging/cycle-consistent-model-merging/src/ccmm/matching/weight_matching.py\u001b\\\u001b[2mccmm.matching.weight_matching\u001b[0m\u001b]8;;\u001b\\\u001b[2m:\u001b[0m\u001b]8;id=253286;file:///media/donato/Extra-storage/Code/model-merging/cycle-consistent-model-merging/src/ccmm/matching/weight_matching.py#176\u001b\\\u001b[2m176\u001b[0m\u001b]8;;\u001b\\\n"
      ]
     },
     "metadata": {},
     "output_type": "display_data"
    },
    {
     "data": {
      "text/html": [
       "<pre style=\"white-space:pre;overflow-x:auto;line-height:normal;font-family:Menlo,'DejaVu Sans Mono',consolas,'Courier New',monospace\"><span style=\"color: #7fbfbf; text-decoration-color: #7fbfbf\">                    </span><span style=\"color: #000080; text-decoration-color: #000080\">INFO    </span> Iteration <span style=\"color: #008080; text-decoration-color: #008080; font-weight: bold\">9</span>, Permutation P_3: <span style=\"color: #008080; text-decoration-color: #008080; font-weight: bold\">0.0</span>                    <a href=\"file:///media/donato/Extra-storage/Code/model-merging/cycle-consistent-model-merging/src/ccmm/matching/weight_matching.py\" target=\"_blank\"><span style=\"color: #7f7f7f; text-decoration-color: #7f7f7f\">ccmm.matching.weight_matching</span></a><span style=\"color: #7f7f7f; text-decoration-color: #7f7f7f\">:</span><a href=\"file:///media/donato/Extra-storage/Code/model-merging/cycle-consistent-model-merging/src/ccmm/matching/weight_matching.py#176\" target=\"_blank\"><span style=\"color: #7f7f7f; text-decoration-color: #7f7f7f\">176</span></a>\n",
       "</pre>\n"
      ],
      "text/plain": [
       "\u001b[2;36m                   \u001b[0m\u001b[2;36m \u001b[0m\u001b[34mINFO    \u001b[0m Iteration \u001b[1;36m9\u001b[0m, Permutation P_3: \u001b[1;36m0.0\u001b[0m                    \u001b]8;id=311763;file:///media/donato/Extra-storage/Code/model-merging/cycle-consistent-model-merging/src/ccmm/matching/weight_matching.py\u001b\\\u001b[2mccmm.matching.weight_matching\u001b[0m\u001b]8;;\u001b\\\u001b[2m:\u001b[0m\u001b]8;id=968495;file:///media/donato/Extra-storage/Code/model-merging/cycle-consistent-model-merging/src/ccmm/matching/weight_matching.py#176\u001b\\\u001b[2m176\u001b[0m\u001b]8;;\u001b\\\n"
      ]
     },
     "metadata": {},
     "output_type": "display_data"
    },
    {
     "data": {
      "text/html": [
       "<pre style=\"white-space:pre;overflow-x:auto;line-height:normal;font-family:Menlo,'DejaVu Sans Mono',consolas,'Courier New',monospace\"><span style=\"color: #7fbfbf; text-decoration-color: #7fbfbf\">                    </span><span style=\"color: #000080; text-decoration-color: #000080\">INFO    </span> Iteration <span style=\"color: #008080; text-decoration-color: #008080; font-weight: bold\">9</span>, Permutation P_2: <span style=\"color: #008080; text-decoration-color: #008080; font-weight: bold\">0.359222412109375</span>      <a href=\"file:///media/donato/Extra-storage/Code/model-merging/cycle-consistent-model-merging/src/ccmm/matching/weight_matching.py\" target=\"_blank\"><span style=\"color: #7f7f7f; text-decoration-color: #7f7f7f\">ccmm.matching.weight_matching</span></a><span style=\"color: #7f7f7f; text-decoration-color: #7f7f7f\">:</span><a href=\"file:///media/donato/Extra-storage/Code/model-merging/cycle-consistent-model-merging/src/ccmm/matching/weight_matching.py#176\" target=\"_blank\"><span style=\"color: #7f7f7f; text-decoration-color: #7f7f7f\">176</span></a>\n",
       "</pre>\n"
      ],
      "text/plain": [
       "\u001b[2;36m                   \u001b[0m\u001b[2;36m \u001b[0m\u001b[34mINFO    \u001b[0m Iteration \u001b[1;36m9\u001b[0m, Permutation P_2: \u001b[1;36m0.359222412109375\u001b[0m      \u001b]8;id=137973;file:///media/donato/Extra-storage/Code/model-merging/cycle-consistent-model-merging/src/ccmm/matching/weight_matching.py\u001b\\\u001b[2mccmm.matching.weight_matching\u001b[0m\u001b]8;;\u001b\\\u001b[2m:\u001b[0m\u001b]8;id=956250;file:///media/donato/Extra-storage/Code/model-merging/cycle-consistent-model-merging/src/ccmm/matching/weight_matching.py#176\u001b\\\u001b[2m176\u001b[0m\u001b]8;;\u001b\\\n"
      ]
     },
     "metadata": {},
     "output_type": "display_data"
    },
    {
     "data": {
      "text/html": [
       "<pre style=\"white-space:pre;overflow-x:auto;line-height:normal;font-family:Menlo,'DejaVu Sans Mono',consolas,'Courier New',monospace\"><span style=\"color: #7fbfbf; text-decoration-color: #7fbfbf\">                    </span><span style=\"color: #000080; text-decoration-color: #000080\">INFO    </span> Iteration <span style=\"color: #008080; text-decoration-color: #008080; font-weight: bold\">9</span>, Permutation P_1: <span style=\"color: #008080; text-decoration-color: #008080; font-weight: bold\">0.3785400390625</span>        <a href=\"file:///media/donato/Extra-storage/Code/model-merging/cycle-consistent-model-merging/src/ccmm/matching/weight_matching.py\" target=\"_blank\"><span style=\"color: #7f7f7f; text-decoration-color: #7f7f7f\">ccmm.matching.weight_matching</span></a><span style=\"color: #7f7f7f; text-decoration-color: #7f7f7f\">:</span><a href=\"file:///media/donato/Extra-storage/Code/model-merging/cycle-consistent-model-merging/src/ccmm/matching/weight_matching.py#176\" target=\"_blank\"><span style=\"color: #7f7f7f; text-decoration-color: #7f7f7f\">176</span></a>\n",
       "</pre>\n"
      ],
      "text/plain": [
       "\u001b[2;36m                   \u001b[0m\u001b[2;36m \u001b[0m\u001b[34mINFO    \u001b[0m Iteration \u001b[1;36m9\u001b[0m, Permutation P_1: \u001b[1;36m0.3785400390625\u001b[0m        \u001b]8;id=625152;file:///media/donato/Extra-storage/Code/model-merging/cycle-consistent-model-merging/src/ccmm/matching/weight_matching.py\u001b\\\u001b[2mccmm.matching.weight_matching\u001b[0m\u001b]8;;\u001b\\\u001b[2m:\u001b[0m\u001b]8;id=179501;file:///media/donato/Extra-storage/Code/model-merging/cycle-consistent-model-merging/src/ccmm/matching/weight_matching.py#176\u001b\\\u001b[2m176\u001b[0m\u001b]8;;\u001b\\\n"
      ]
     },
     "metadata": {},
     "output_type": "display_data"
    },
    {
     "name": "stderr",
     "output_type": "stream",
     "text": [
      "Weight matching:  10%|█         | 10/100 [00:01<00:09,  9.68it/s]"
     ]
    },
    {
     "data": {
      "text/html": [
       "<pre style=\"white-space:pre;overflow-x:auto;line-height:normal;font-family:Menlo,'DejaVu Sans Mono',consolas,'Courier New',monospace\"><span style=\"color: #7fbfbf; text-decoration-color: #7fbfbf\">                    </span><span style=\"color: #000080; text-decoration-color: #000080\">INFO    </span> Iteration <span style=\"color: #008080; text-decoration-color: #008080; font-weight: bold\">10</span>, Permutation P_3: <span style=\"color: #008080; text-decoration-color: #008080; font-weight: bold\">0.2421417236328125</span>    <a href=\"file:///media/donato/Extra-storage/Code/model-merging/cycle-consistent-model-merging/src/ccmm/matching/weight_matching.py\" target=\"_blank\"><span style=\"color: #7f7f7f; text-decoration-color: #7f7f7f\">ccmm.matching.weight_matching</span></a><span style=\"color: #7f7f7f; text-decoration-color: #7f7f7f\">:</span><a href=\"file:///media/donato/Extra-storage/Code/model-merging/cycle-consistent-model-merging/src/ccmm/matching/weight_matching.py#176\" target=\"_blank\"><span style=\"color: #7f7f7f; text-decoration-color: #7f7f7f\">176</span></a>\n",
       "</pre>\n"
      ],
      "text/plain": [
       "\u001b[2;36m                   \u001b[0m\u001b[2;36m \u001b[0m\u001b[34mINFO    \u001b[0m Iteration \u001b[1;36m10\u001b[0m, Permutation P_3: \u001b[1;36m0.2421417236328125\u001b[0m    \u001b]8;id=689194;file:///media/donato/Extra-storage/Code/model-merging/cycle-consistent-model-merging/src/ccmm/matching/weight_matching.py\u001b\\\u001b[2mccmm.matching.weight_matching\u001b[0m\u001b]8;;\u001b\\\u001b[2m:\u001b[0m\u001b]8;id=773737;file:///media/donato/Extra-storage/Code/model-merging/cycle-consistent-model-merging/src/ccmm/matching/weight_matching.py#176\u001b\\\u001b[2m176\u001b[0m\u001b]8;;\u001b\\\n"
      ]
     },
     "metadata": {},
     "output_type": "display_data"
    },
    {
     "data": {
      "text/html": [
       "<pre style=\"white-space:pre;overflow-x:auto;line-height:normal;font-family:Menlo,'DejaVu Sans Mono',consolas,'Courier New',monospace\"><span style=\"color: #7fbfbf; text-decoration-color: #7fbfbf\">                    </span><span style=\"color: #000080; text-decoration-color: #000080\">INFO    </span> Iteration <span style=\"color: #008080; text-decoration-color: #008080; font-weight: bold\">10</span>, Permutation P_0: <span style=\"color: #008080; text-decoration-color: #008080; font-weight: bold\">0.17333984375</span>         <a href=\"file:///media/donato/Extra-storage/Code/model-merging/cycle-consistent-model-merging/src/ccmm/matching/weight_matching.py\" target=\"_blank\"><span style=\"color: #7f7f7f; text-decoration-color: #7f7f7f\">ccmm.matching.weight_matching</span></a><span style=\"color: #7f7f7f; text-decoration-color: #7f7f7f\">:</span><a href=\"file:///media/donato/Extra-storage/Code/model-merging/cycle-consistent-model-merging/src/ccmm/matching/weight_matching.py#176\" target=\"_blank\"><span style=\"color: #7f7f7f; text-decoration-color: #7f7f7f\">176</span></a>\n",
       "</pre>\n"
      ],
      "text/plain": [
       "\u001b[2;36m                   \u001b[0m\u001b[2;36m \u001b[0m\u001b[34mINFO    \u001b[0m Iteration \u001b[1;36m10\u001b[0m, Permutation P_0: \u001b[1;36m0.17333984375\u001b[0m         \u001b]8;id=863115;file:///media/donato/Extra-storage/Code/model-merging/cycle-consistent-model-merging/src/ccmm/matching/weight_matching.py\u001b\\\u001b[2mccmm.matching.weight_matching\u001b[0m\u001b]8;;\u001b\\\u001b[2m:\u001b[0m\u001b]8;id=419172;file:///media/donato/Extra-storage/Code/model-merging/cycle-consistent-model-merging/src/ccmm/matching/weight_matching.py#176\u001b\\\u001b[2m176\u001b[0m\u001b]8;;\u001b\\\n"
      ]
     },
     "metadata": {},
     "output_type": "display_data"
    },
    {
     "data": {
      "text/html": [
       "<pre style=\"white-space:pre;overflow-x:auto;line-height:normal;font-family:Menlo,'DejaVu Sans Mono',consolas,'Courier New',monospace\"><span style=\"color: #7fbfbf; text-decoration-color: #7fbfbf\">                    </span><span style=\"color: #000080; text-decoration-color: #000080\">INFO    </span> Iteration <span style=\"color: #008080; text-decoration-color: #008080; font-weight: bold\">10</span>, Permutation P_1: <span style=\"color: #008080; text-decoration-color: #008080; font-weight: bold\">0.034912109375</span>        <a href=\"file:///media/donato/Extra-storage/Code/model-merging/cycle-consistent-model-merging/src/ccmm/matching/weight_matching.py\" target=\"_blank\"><span style=\"color: #7f7f7f; text-decoration-color: #7f7f7f\">ccmm.matching.weight_matching</span></a><span style=\"color: #7f7f7f; text-decoration-color: #7f7f7f\">:</span><a href=\"file:///media/donato/Extra-storage/Code/model-merging/cycle-consistent-model-merging/src/ccmm/matching/weight_matching.py#176\" target=\"_blank\"><span style=\"color: #7f7f7f; text-decoration-color: #7f7f7f\">176</span></a>\n",
       "</pre>\n"
      ],
      "text/plain": [
       "\u001b[2;36m                   \u001b[0m\u001b[2;36m \u001b[0m\u001b[34mINFO    \u001b[0m Iteration \u001b[1;36m10\u001b[0m, Permutation P_1: \u001b[1;36m0.034912109375\u001b[0m        \u001b]8;id=905500;file:///media/donato/Extra-storage/Code/model-merging/cycle-consistent-model-merging/src/ccmm/matching/weight_matching.py\u001b\\\u001b[2mccmm.matching.weight_matching\u001b[0m\u001b]8;;\u001b\\\u001b[2m:\u001b[0m\u001b]8;id=783644;file:///media/donato/Extra-storage/Code/model-merging/cycle-consistent-model-merging/src/ccmm/matching/weight_matching.py#176\u001b\\\u001b[2m176\u001b[0m\u001b]8;;\u001b\\\n"
      ]
     },
     "metadata": {},
     "output_type": "display_data"
    },
    {
     "data": {
      "text/html": [
       "<pre style=\"white-space:pre;overflow-x:auto;line-height:normal;font-family:Menlo,'DejaVu Sans Mono',consolas,'Courier New',monospace\"><span style=\"color: #7fbfbf; text-decoration-color: #7fbfbf\">                    </span><span style=\"color: #000080; text-decoration-color: #000080\">INFO    </span> Iteration <span style=\"color: #008080; text-decoration-color: #008080; font-weight: bold\">10</span>, Permutation P_2: <span style=\"color: #008080; text-decoration-color: #008080; font-weight: bold\">0.64410400390625</span>      <a href=\"file:///media/donato/Extra-storage/Code/model-merging/cycle-consistent-model-merging/src/ccmm/matching/weight_matching.py\" target=\"_blank\"><span style=\"color: #7f7f7f; text-decoration-color: #7f7f7f\">ccmm.matching.weight_matching</span></a><span style=\"color: #7f7f7f; text-decoration-color: #7f7f7f\">:</span><a href=\"file:///media/donato/Extra-storage/Code/model-merging/cycle-consistent-model-merging/src/ccmm/matching/weight_matching.py#176\" target=\"_blank\"><span style=\"color: #7f7f7f; text-decoration-color: #7f7f7f\">176</span></a>\n",
       "</pre>\n"
      ],
      "text/plain": [
       "\u001b[2;36m                   \u001b[0m\u001b[2;36m \u001b[0m\u001b[34mINFO    \u001b[0m Iteration \u001b[1;36m10\u001b[0m, Permutation P_2: \u001b[1;36m0.64410400390625\u001b[0m      \u001b]8;id=238066;file:///media/donato/Extra-storage/Code/model-merging/cycle-consistent-model-merging/src/ccmm/matching/weight_matching.py\u001b\\\u001b[2mccmm.matching.weight_matching\u001b[0m\u001b]8;;\u001b\\\u001b[2m:\u001b[0m\u001b]8;id=586155;file:///media/donato/Extra-storage/Code/model-merging/cycle-consistent-model-merging/src/ccmm/matching/weight_matching.py#176\u001b\\\u001b[2m176\u001b[0m\u001b]8;;\u001b\\\n"
      ]
     },
     "metadata": {},
     "output_type": "display_data"
    },
    {
     "data": {
      "text/html": [
       "<pre style=\"white-space:pre;overflow-x:auto;line-height:normal;font-family:Menlo,'DejaVu Sans Mono',consolas,'Courier New',monospace\"><span style=\"color: #7fbfbf; text-decoration-color: #7fbfbf\">                    </span><span style=\"color: #000080; text-decoration-color: #000080\">INFO    </span> Iteration <span style=\"color: #008080; text-decoration-color: #008080; font-weight: bold\">11</span>, Permutation P_2: <span style=\"color: #008080; text-decoration-color: #008080; font-weight: bold\">0.0</span>                   <a href=\"file:///media/donato/Extra-storage/Code/model-merging/cycle-consistent-model-merging/src/ccmm/matching/weight_matching.py\" target=\"_blank\"><span style=\"color: #7f7f7f; text-decoration-color: #7f7f7f\">ccmm.matching.weight_matching</span></a><span style=\"color: #7f7f7f; text-decoration-color: #7f7f7f\">:</span><a href=\"file:///media/donato/Extra-storage/Code/model-merging/cycle-consistent-model-merging/src/ccmm/matching/weight_matching.py#176\" target=\"_blank\"><span style=\"color: #7f7f7f; text-decoration-color: #7f7f7f\">176</span></a>\n",
       "</pre>\n"
      ],
      "text/plain": [
       "\u001b[2;36m                   \u001b[0m\u001b[2;36m \u001b[0m\u001b[34mINFO    \u001b[0m Iteration \u001b[1;36m11\u001b[0m, Permutation P_2: \u001b[1;36m0.0\u001b[0m                   \u001b]8;id=345238;file:///media/donato/Extra-storage/Code/model-merging/cycle-consistent-model-merging/src/ccmm/matching/weight_matching.py\u001b\\\u001b[2mccmm.matching.weight_matching\u001b[0m\u001b]8;;\u001b\\\u001b[2m:\u001b[0m\u001b]8;id=850008;file:///media/donato/Extra-storage/Code/model-merging/cycle-consistent-model-merging/src/ccmm/matching/weight_matching.py#176\u001b\\\u001b[2m176\u001b[0m\u001b]8;;\u001b\\\n"
      ]
     },
     "metadata": {},
     "output_type": "display_data"
    },
    {
     "data": {
      "text/html": [
       "<pre style=\"white-space:pre;overflow-x:auto;line-height:normal;font-family:Menlo,'DejaVu Sans Mono',consolas,'Courier New',monospace\"><span style=\"color: #7fbfbf; text-decoration-color: #7fbfbf\">                    </span><span style=\"color: #000080; text-decoration-color: #000080\">INFO    </span> Iteration <span style=\"color: #008080; text-decoration-color: #008080; font-weight: bold\">11</span>, Permutation P_0: <span style=\"color: #008080; text-decoration-color: #008080; font-weight: bold\">0.0</span>                   <a href=\"file:///media/donato/Extra-storage/Code/model-merging/cycle-consistent-model-merging/src/ccmm/matching/weight_matching.py\" target=\"_blank\"><span style=\"color: #7f7f7f; text-decoration-color: #7f7f7f\">ccmm.matching.weight_matching</span></a><span style=\"color: #7f7f7f; text-decoration-color: #7f7f7f\">:</span><a href=\"file:///media/donato/Extra-storage/Code/model-merging/cycle-consistent-model-merging/src/ccmm/matching/weight_matching.py#176\" target=\"_blank\"><span style=\"color: #7f7f7f; text-decoration-color: #7f7f7f\">176</span></a>\n",
       "</pre>\n"
      ],
      "text/plain": [
       "\u001b[2;36m                   \u001b[0m\u001b[2;36m \u001b[0m\u001b[34mINFO    \u001b[0m Iteration \u001b[1;36m11\u001b[0m, Permutation P_0: \u001b[1;36m0.0\u001b[0m                   \u001b]8;id=998056;file:///media/donato/Extra-storage/Code/model-merging/cycle-consistent-model-merging/src/ccmm/matching/weight_matching.py\u001b\\\u001b[2mccmm.matching.weight_matching\u001b[0m\u001b]8;;\u001b\\\u001b[2m:\u001b[0m\u001b]8;id=243661;file:///media/donato/Extra-storage/Code/model-merging/cycle-consistent-model-merging/src/ccmm/matching/weight_matching.py#176\u001b\\\u001b[2m176\u001b[0m\u001b]8;;\u001b\\\n"
      ]
     },
     "metadata": {},
     "output_type": "display_data"
    },
    {
     "data": {
      "text/html": [
       "<pre style=\"white-space:pre;overflow-x:auto;line-height:normal;font-family:Menlo,'DejaVu Sans Mono',consolas,'Courier New',monospace\"><span style=\"color: #7fbfbf; text-decoration-color: #7fbfbf\">                    </span><span style=\"color: #000080; text-decoration-color: #000080\">INFO    </span> Iteration <span style=\"color: #008080; text-decoration-color: #008080; font-weight: bold\">11</span>, Permutation P_3: <span style=\"color: #008080; text-decoration-color: #008080; font-weight: bold\">0.2398834228515625</span>    <a href=\"file:///media/donato/Extra-storage/Code/model-merging/cycle-consistent-model-merging/src/ccmm/matching/weight_matching.py\" target=\"_blank\"><span style=\"color: #7f7f7f; text-decoration-color: #7f7f7f\">ccmm.matching.weight_matching</span></a><span style=\"color: #7f7f7f; text-decoration-color: #7f7f7f\">:</span><a href=\"file:///media/donato/Extra-storage/Code/model-merging/cycle-consistent-model-merging/src/ccmm/matching/weight_matching.py#176\" target=\"_blank\"><span style=\"color: #7f7f7f; text-decoration-color: #7f7f7f\">176</span></a>\n",
       "</pre>\n"
      ],
      "text/plain": [
       "\u001b[2;36m                   \u001b[0m\u001b[2;36m \u001b[0m\u001b[34mINFO    \u001b[0m Iteration \u001b[1;36m11\u001b[0m, Permutation P_3: \u001b[1;36m0.2398834228515625\u001b[0m    \u001b]8;id=481339;file:///media/donato/Extra-storage/Code/model-merging/cycle-consistent-model-merging/src/ccmm/matching/weight_matching.py\u001b\\\u001b[2mccmm.matching.weight_matching\u001b[0m\u001b]8;;\u001b\\\u001b[2m:\u001b[0m\u001b]8;id=880152;file:///media/donato/Extra-storage/Code/model-merging/cycle-consistent-model-merging/src/ccmm/matching/weight_matching.py#176\u001b\\\u001b[2m176\u001b[0m\u001b]8;;\u001b\\\n"
      ]
     },
     "metadata": {},
     "output_type": "display_data"
    },
    {
     "data": {
      "text/html": [
       "<pre style=\"white-space:pre;overflow-x:auto;line-height:normal;font-family:Menlo,'DejaVu Sans Mono',consolas,'Courier New',monospace\"><span style=\"color: #7fbfbf; text-decoration-color: #7fbfbf\">                    </span><span style=\"color: #000080; text-decoration-color: #000080\">INFO    </span> Iteration <span style=\"color: #008080; text-decoration-color: #008080; font-weight: bold\">11</span>, Permutation P_1: <span style=\"color: #008080; text-decoration-color: #008080; font-weight: bold\">0.25042724609375</span>      <a href=\"file:///media/donato/Extra-storage/Code/model-merging/cycle-consistent-model-merging/src/ccmm/matching/weight_matching.py\" target=\"_blank\"><span style=\"color: #7f7f7f; text-decoration-color: #7f7f7f\">ccmm.matching.weight_matching</span></a><span style=\"color: #7f7f7f; text-decoration-color: #7f7f7f\">:</span><a href=\"file:///media/donato/Extra-storage/Code/model-merging/cycle-consistent-model-merging/src/ccmm/matching/weight_matching.py#176\" target=\"_blank\"><span style=\"color: #7f7f7f; text-decoration-color: #7f7f7f\">176</span></a>\n",
       "</pre>\n"
      ],
      "text/plain": [
       "\u001b[2;36m                   \u001b[0m\u001b[2;36m \u001b[0m\u001b[34mINFO    \u001b[0m Iteration \u001b[1;36m11\u001b[0m, Permutation P_1: \u001b[1;36m0.25042724609375\u001b[0m      \u001b]8;id=635177;file:///media/donato/Extra-storage/Code/model-merging/cycle-consistent-model-merging/src/ccmm/matching/weight_matching.py\u001b\\\u001b[2mccmm.matching.weight_matching\u001b[0m\u001b]8;;\u001b\\\u001b[2m:\u001b[0m\u001b]8;id=365968;file:///media/donato/Extra-storage/Code/model-merging/cycle-consistent-model-merging/src/ccmm/matching/weight_matching.py#176\u001b\\\u001b[2m176\u001b[0m\u001b]8;;\u001b\\\n"
      ]
     },
     "metadata": {},
     "output_type": "display_data"
    },
    {
     "name": "stderr",
     "output_type": "stream",
     "text": [
      "Weight matching:  12%|█▏        | 12/100 [00:01<00:08, 10.19it/s]"
     ]
    },
    {
     "data": {
      "text/html": [
       "<pre style=\"white-space:pre;overflow-x:auto;line-height:normal;font-family:Menlo,'DejaVu Sans Mono',consolas,'Courier New',monospace\"><span style=\"color: #7fbfbf; text-decoration-color: #7fbfbf\">                    </span><span style=\"color: #000080; text-decoration-color: #000080\">INFO    </span> Iteration <span style=\"color: #008080; text-decoration-color: #008080; font-weight: bold\">12</span>, Permutation P_0: <span style=\"color: #008080; text-decoration-color: #008080; font-weight: bold\">0.0078125</span>             <a href=\"file:///media/donato/Extra-storage/Code/model-merging/cycle-consistent-model-merging/src/ccmm/matching/weight_matching.py\" target=\"_blank\"><span style=\"color: #7f7f7f; text-decoration-color: #7f7f7f\">ccmm.matching.weight_matching</span></a><span style=\"color: #7f7f7f; text-decoration-color: #7f7f7f\">:</span><a href=\"file:///media/donato/Extra-storage/Code/model-merging/cycle-consistent-model-merging/src/ccmm/matching/weight_matching.py#176\" target=\"_blank\"><span style=\"color: #7f7f7f; text-decoration-color: #7f7f7f\">176</span></a>\n",
       "</pre>\n"
      ],
      "text/plain": [
       "\u001b[2;36m                   \u001b[0m\u001b[2;36m \u001b[0m\u001b[34mINFO    \u001b[0m Iteration \u001b[1;36m12\u001b[0m, Permutation P_0: \u001b[1;36m0.0078125\u001b[0m             \u001b]8;id=125019;file:///media/donato/Extra-storage/Code/model-merging/cycle-consistent-model-merging/src/ccmm/matching/weight_matching.py\u001b\\\u001b[2mccmm.matching.weight_matching\u001b[0m\u001b]8;;\u001b\\\u001b[2m:\u001b[0m\u001b]8;id=147705;file:///media/donato/Extra-storage/Code/model-merging/cycle-consistent-model-merging/src/ccmm/matching/weight_matching.py#176\u001b\\\u001b[2m176\u001b[0m\u001b]8;;\u001b\\\n"
      ]
     },
     "metadata": {},
     "output_type": "display_data"
    },
    {
     "data": {
      "text/html": [
       "<pre style=\"white-space:pre;overflow-x:auto;line-height:normal;font-family:Menlo,'DejaVu Sans Mono',consolas,'Courier New',monospace\"><span style=\"color: #7fbfbf; text-decoration-color: #7fbfbf\">                    </span><span style=\"color: #000080; text-decoration-color: #000080\">INFO    </span> Iteration <span style=\"color: #008080; text-decoration-color: #008080; font-weight: bold\">12</span>, Permutation P_2: <span style=\"color: #008080; text-decoration-color: #008080; font-weight: bold\">0.415069580078125</span>     <a href=\"file:///media/donato/Extra-storage/Code/model-merging/cycle-consistent-model-merging/src/ccmm/matching/weight_matching.py\" target=\"_blank\"><span style=\"color: #7f7f7f; text-decoration-color: #7f7f7f\">ccmm.matching.weight_matching</span></a><span style=\"color: #7f7f7f; text-decoration-color: #7f7f7f\">:</span><a href=\"file:///media/donato/Extra-storage/Code/model-merging/cycle-consistent-model-merging/src/ccmm/matching/weight_matching.py#176\" target=\"_blank\"><span style=\"color: #7f7f7f; text-decoration-color: #7f7f7f\">176</span></a>\n",
       "</pre>\n"
      ],
      "text/plain": [
       "\u001b[2;36m                   \u001b[0m\u001b[2;36m \u001b[0m\u001b[34mINFO    \u001b[0m Iteration \u001b[1;36m12\u001b[0m, Permutation P_2: \u001b[1;36m0.415069580078125\u001b[0m     \u001b]8;id=521599;file:///media/donato/Extra-storage/Code/model-merging/cycle-consistent-model-merging/src/ccmm/matching/weight_matching.py\u001b\\\u001b[2mccmm.matching.weight_matching\u001b[0m\u001b]8;;\u001b\\\u001b[2m:\u001b[0m\u001b]8;id=319630;file:///media/donato/Extra-storage/Code/model-merging/cycle-consistent-model-merging/src/ccmm/matching/weight_matching.py#176\u001b\\\u001b[2m176\u001b[0m\u001b]8;;\u001b\\\n"
      ]
     },
     "metadata": {},
     "output_type": "display_data"
    },
    {
     "data": {
      "text/html": [
       "<pre style=\"white-space:pre;overflow-x:auto;line-height:normal;font-family:Menlo,'DejaVu Sans Mono',consolas,'Courier New',monospace\"><span style=\"color: #7fbfbf; text-decoration-color: #7fbfbf\">                    </span><span style=\"color: #000080; text-decoration-color: #000080\">INFO    </span> Iteration <span style=\"color: #008080; text-decoration-color: #008080; font-weight: bold\">12</span>, Permutation P_1: <span style=\"color: #008080; text-decoration-color: #008080; font-weight: bold\">0.14422607421875</span>      <a href=\"file:///media/donato/Extra-storage/Code/model-merging/cycle-consistent-model-merging/src/ccmm/matching/weight_matching.py\" target=\"_blank\"><span style=\"color: #7f7f7f; text-decoration-color: #7f7f7f\">ccmm.matching.weight_matching</span></a><span style=\"color: #7f7f7f; text-decoration-color: #7f7f7f\">:</span><a href=\"file:///media/donato/Extra-storage/Code/model-merging/cycle-consistent-model-merging/src/ccmm/matching/weight_matching.py#176\" target=\"_blank\"><span style=\"color: #7f7f7f; text-decoration-color: #7f7f7f\">176</span></a>\n",
       "</pre>\n"
      ],
      "text/plain": [
       "\u001b[2;36m                   \u001b[0m\u001b[2;36m \u001b[0m\u001b[34mINFO    \u001b[0m Iteration \u001b[1;36m12\u001b[0m, Permutation P_1: \u001b[1;36m0.14422607421875\u001b[0m      \u001b]8;id=569319;file:///media/donato/Extra-storage/Code/model-merging/cycle-consistent-model-merging/src/ccmm/matching/weight_matching.py\u001b\\\u001b[2mccmm.matching.weight_matching\u001b[0m\u001b]8;;\u001b\\\u001b[2m:\u001b[0m\u001b]8;id=818072;file:///media/donato/Extra-storage/Code/model-merging/cycle-consistent-model-merging/src/ccmm/matching/weight_matching.py#176\u001b\\\u001b[2m176\u001b[0m\u001b]8;;\u001b\\\n"
      ]
     },
     "metadata": {},
     "output_type": "display_data"
    },
    {
     "data": {
      "text/html": [
       "<pre style=\"white-space:pre;overflow-x:auto;line-height:normal;font-family:Menlo,'DejaVu Sans Mono',consolas,'Courier New',monospace\"><span style=\"color: #7fbfbf; text-decoration-color: #7fbfbf\">                    </span><span style=\"color: #000080; text-decoration-color: #000080\">INFO    </span> Iteration <span style=\"color: #008080; text-decoration-color: #008080; font-weight: bold\">12</span>, Permutation P_3: <span style=\"color: #008080; text-decoration-color: #008080; font-weight: bold\">0.26568603515625</span>      <a href=\"file:///media/donato/Extra-storage/Code/model-merging/cycle-consistent-model-merging/src/ccmm/matching/weight_matching.py\" target=\"_blank\"><span style=\"color: #7f7f7f; text-decoration-color: #7f7f7f\">ccmm.matching.weight_matching</span></a><span style=\"color: #7f7f7f; text-decoration-color: #7f7f7f\">:</span><a href=\"file:///media/donato/Extra-storage/Code/model-merging/cycle-consistent-model-merging/src/ccmm/matching/weight_matching.py#176\" target=\"_blank\"><span style=\"color: #7f7f7f; text-decoration-color: #7f7f7f\">176</span></a>\n",
       "</pre>\n"
      ],
      "text/plain": [
       "\u001b[2;36m                   \u001b[0m\u001b[2;36m \u001b[0m\u001b[34mINFO    \u001b[0m Iteration \u001b[1;36m12\u001b[0m, Permutation P_3: \u001b[1;36m0.26568603515625\u001b[0m      \u001b]8;id=615088;file:///media/donato/Extra-storage/Code/model-merging/cycle-consistent-model-merging/src/ccmm/matching/weight_matching.py\u001b\\\u001b[2mccmm.matching.weight_matching\u001b[0m\u001b]8;;\u001b\\\u001b[2m:\u001b[0m\u001b]8;id=156341;file:///media/donato/Extra-storage/Code/model-merging/cycle-consistent-model-merging/src/ccmm/matching/weight_matching.py#176\u001b\\\u001b[2m176\u001b[0m\u001b]8;;\u001b\\\n"
      ]
     },
     "metadata": {},
     "output_type": "display_data"
    },
    {
     "data": {
      "text/html": [
       "<pre style=\"white-space:pre;overflow-x:auto;line-height:normal;font-family:Menlo,'DejaVu Sans Mono',consolas,'Courier New',monospace\"><span style=\"color: #7fbfbf; text-decoration-color: #7fbfbf\">                    </span><span style=\"color: #000080; text-decoration-color: #000080\">INFO    </span> Iteration <span style=\"color: #008080; text-decoration-color: #008080; font-weight: bold\">13</span>, Permutation P_3: <span style=\"color: #008080; text-decoration-color: #008080; font-weight: bold\">0.0</span>                   <a href=\"file:///media/donato/Extra-storage/Code/model-merging/cycle-consistent-model-merging/src/ccmm/matching/weight_matching.py\" target=\"_blank\"><span style=\"color: #7f7f7f; text-decoration-color: #7f7f7f\">ccmm.matching.weight_matching</span></a><span style=\"color: #7f7f7f; text-decoration-color: #7f7f7f\">:</span><a href=\"file:///media/donato/Extra-storage/Code/model-merging/cycle-consistent-model-merging/src/ccmm/matching/weight_matching.py#176\" target=\"_blank\"><span style=\"color: #7f7f7f; text-decoration-color: #7f7f7f\">176</span></a>\n",
       "</pre>\n"
      ],
      "text/plain": [
       "\u001b[2;36m                   \u001b[0m\u001b[2;36m \u001b[0m\u001b[34mINFO    \u001b[0m Iteration \u001b[1;36m13\u001b[0m, Permutation P_3: \u001b[1;36m0.0\u001b[0m                   \u001b]8;id=76853;file:///media/donato/Extra-storage/Code/model-merging/cycle-consistent-model-merging/src/ccmm/matching/weight_matching.py\u001b\\\u001b[2mccmm.matching.weight_matching\u001b[0m\u001b]8;;\u001b\\\u001b[2m:\u001b[0m\u001b]8;id=91602;file:///media/donato/Extra-storage/Code/model-merging/cycle-consistent-model-merging/src/ccmm/matching/weight_matching.py#176\u001b\\\u001b[2m176\u001b[0m\u001b]8;;\u001b\\\n"
      ]
     },
     "metadata": {},
     "output_type": "display_data"
    },
    {
     "data": {
      "text/html": [
       "<pre style=\"white-space:pre;overflow-x:auto;line-height:normal;font-family:Menlo,'DejaVu Sans Mono',consolas,'Courier New',monospace\"><span style=\"color: #7fbfbf; text-decoration-color: #7fbfbf\">                    </span><span style=\"color: #000080; text-decoration-color: #000080\">INFO    </span> Iteration <span style=\"color: #008080; text-decoration-color: #008080; font-weight: bold\">13</span>, Permutation P_0: <span style=\"color: #008080; text-decoration-color: #008080; font-weight: bold\">0.0078125</span>             <a href=\"file:///media/donato/Extra-storage/Code/model-merging/cycle-consistent-model-merging/src/ccmm/matching/weight_matching.py\" target=\"_blank\"><span style=\"color: #7f7f7f; text-decoration-color: #7f7f7f\">ccmm.matching.weight_matching</span></a><span style=\"color: #7f7f7f; text-decoration-color: #7f7f7f\">:</span><a href=\"file:///media/donato/Extra-storage/Code/model-merging/cycle-consistent-model-merging/src/ccmm/matching/weight_matching.py#176\" target=\"_blank\"><span style=\"color: #7f7f7f; text-decoration-color: #7f7f7f\">176</span></a>\n",
       "</pre>\n"
      ],
      "text/plain": [
       "\u001b[2;36m                   \u001b[0m\u001b[2;36m \u001b[0m\u001b[34mINFO    \u001b[0m Iteration \u001b[1;36m13\u001b[0m, Permutation P_0: \u001b[1;36m0.0078125\u001b[0m             \u001b]8;id=9818;file:///media/donato/Extra-storage/Code/model-merging/cycle-consistent-model-merging/src/ccmm/matching/weight_matching.py\u001b\\\u001b[2mccmm.matching.weight_matching\u001b[0m\u001b]8;;\u001b\\\u001b[2m:\u001b[0m\u001b]8;id=754996;file:///media/donato/Extra-storage/Code/model-merging/cycle-consistent-model-merging/src/ccmm/matching/weight_matching.py#176\u001b\\\u001b[2m176\u001b[0m\u001b]8;;\u001b\\\n"
      ]
     },
     "metadata": {},
     "output_type": "display_data"
    },
    {
     "data": {
      "text/html": [
       "<pre style=\"white-space:pre;overflow-x:auto;line-height:normal;font-family:Menlo,'DejaVu Sans Mono',consolas,'Courier New',monospace\"><span style=\"color: #7fbfbf; text-decoration-color: #7fbfbf\">                    </span><span style=\"color: #000080; text-decoration-color: #000080\">INFO    </span> Iteration <span style=\"color: #008080; text-decoration-color: #008080; font-weight: bold\">13</span>, Permutation P_1: <span style=\"color: #008080; text-decoration-color: #008080; font-weight: bold\">0.00177001953125</span>      <a href=\"file:///media/donato/Extra-storage/Code/model-merging/cycle-consistent-model-merging/src/ccmm/matching/weight_matching.py\" target=\"_blank\"><span style=\"color: #7f7f7f; text-decoration-color: #7f7f7f\">ccmm.matching.weight_matching</span></a><span style=\"color: #7f7f7f; text-decoration-color: #7f7f7f\">:</span><a href=\"file:///media/donato/Extra-storage/Code/model-merging/cycle-consistent-model-merging/src/ccmm/matching/weight_matching.py#176\" target=\"_blank\"><span style=\"color: #7f7f7f; text-decoration-color: #7f7f7f\">176</span></a>\n",
       "</pre>\n"
      ],
      "text/plain": [
       "\u001b[2;36m                   \u001b[0m\u001b[2;36m \u001b[0m\u001b[34mINFO    \u001b[0m Iteration \u001b[1;36m13\u001b[0m, Permutation P_1: \u001b[1;36m0.00177001953125\u001b[0m      \u001b]8;id=460383;file:///media/donato/Extra-storage/Code/model-merging/cycle-consistent-model-merging/src/ccmm/matching/weight_matching.py\u001b\\\u001b[2mccmm.matching.weight_matching\u001b[0m\u001b]8;;\u001b\\\u001b[2m:\u001b[0m\u001b]8;id=644239;file:///media/donato/Extra-storage/Code/model-merging/cycle-consistent-model-merging/src/ccmm/matching/weight_matching.py#176\u001b\\\u001b[2m176\u001b[0m\u001b]8;;\u001b\\\n"
      ]
     },
     "metadata": {},
     "output_type": "display_data"
    },
    {
     "data": {
      "text/html": [
       "<pre style=\"white-space:pre;overflow-x:auto;line-height:normal;font-family:Menlo,'DejaVu Sans Mono',consolas,'Courier New',monospace\"><span style=\"color: #7fbfbf; text-decoration-color: #7fbfbf\">                    </span><span style=\"color: #000080; text-decoration-color: #000080\">INFO    </span> Iteration <span style=\"color: #008080; text-decoration-color: #008080; font-weight: bold\">13</span>, Permutation P_2: <span style=\"color: #008080; text-decoration-color: #008080; font-weight: bold\">0.2989501953125</span>       <a href=\"file:///media/donato/Extra-storage/Code/model-merging/cycle-consistent-model-merging/src/ccmm/matching/weight_matching.py\" target=\"_blank\"><span style=\"color: #7f7f7f; text-decoration-color: #7f7f7f\">ccmm.matching.weight_matching</span></a><span style=\"color: #7f7f7f; text-decoration-color: #7f7f7f\">:</span><a href=\"file:///media/donato/Extra-storage/Code/model-merging/cycle-consistent-model-merging/src/ccmm/matching/weight_matching.py#176\" target=\"_blank\"><span style=\"color: #7f7f7f; text-decoration-color: #7f7f7f\">176</span></a>\n",
       "</pre>\n"
      ],
      "text/plain": [
       "\u001b[2;36m                   \u001b[0m\u001b[2;36m \u001b[0m\u001b[34mINFO    \u001b[0m Iteration \u001b[1;36m13\u001b[0m, Permutation P_2: \u001b[1;36m0.2989501953125\u001b[0m       \u001b]8;id=154493;file:///media/donato/Extra-storage/Code/model-merging/cycle-consistent-model-merging/src/ccmm/matching/weight_matching.py\u001b\\\u001b[2mccmm.matching.weight_matching\u001b[0m\u001b]8;;\u001b\\\u001b[2m:\u001b[0m\u001b]8;id=735826;file:///media/donato/Extra-storage/Code/model-merging/cycle-consistent-model-merging/src/ccmm/matching/weight_matching.py#176\u001b\\\u001b[2m176\u001b[0m\u001b]8;;\u001b\\\n"
      ]
     },
     "metadata": {},
     "output_type": "display_data"
    },
    {
     "name": "stderr",
     "output_type": "stream",
     "text": [
      "Weight matching:  14%|█▍        | 14/100 [00:01<00:08, 10.30it/s]"
     ]
    },
    {
     "data": {
      "text/html": [
       "<pre style=\"white-space:pre;overflow-x:auto;line-height:normal;font-family:Menlo,'DejaVu Sans Mono',consolas,'Courier New',monospace\"><span style=\"color: #7fbfbf; text-decoration-color: #7fbfbf\">                    </span><span style=\"color: #000080; text-decoration-color: #000080\">INFO    </span> Iteration <span style=\"color: #008080; text-decoration-color: #008080; font-weight: bold\">14</span>, Permutation P_0: <span style=\"color: #008080; text-decoration-color: #008080; font-weight: bold\">0.0</span>                   <a href=\"file:///media/donato/Extra-storage/Code/model-merging/cycle-consistent-model-merging/src/ccmm/matching/weight_matching.py\" target=\"_blank\"><span style=\"color: #7f7f7f; text-decoration-color: #7f7f7f\">ccmm.matching.weight_matching</span></a><span style=\"color: #7f7f7f; text-decoration-color: #7f7f7f\">:</span><a href=\"file:///media/donato/Extra-storage/Code/model-merging/cycle-consistent-model-merging/src/ccmm/matching/weight_matching.py#176\" target=\"_blank\"><span style=\"color: #7f7f7f; text-decoration-color: #7f7f7f\">176</span></a>\n",
       "</pre>\n"
      ],
      "text/plain": [
       "\u001b[2;36m                   \u001b[0m\u001b[2;36m \u001b[0m\u001b[34mINFO    \u001b[0m Iteration \u001b[1;36m14\u001b[0m, Permutation P_0: \u001b[1;36m0.0\u001b[0m                   \u001b]8;id=314043;file:///media/donato/Extra-storage/Code/model-merging/cycle-consistent-model-merging/src/ccmm/matching/weight_matching.py\u001b\\\u001b[2mccmm.matching.weight_matching\u001b[0m\u001b]8;;\u001b\\\u001b[2m:\u001b[0m\u001b]8;id=715042;file:///media/donato/Extra-storage/Code/model-merging/cycle-consistent-model-merging/src/ccmm/matching/weight_matching.py#176\u001b\\\u001b[2m176\u001b[0m\u001b]8;;\u001b\\\n"
      ]
     },
     "metadata": {},
     "output_type": "display_data"
    },
    {
     "data": {
      "text/html": [
       "<pre style=\"white-space:pre;overflow-x:auto;line-height:normal;font-family:Menlo,'DejaVu Sans Mono',consolas,'Courier New',monospace\"><span style=\"color: #7fbfbf; text-decoration-color: #7fbfbf\">                    </span><span style=\"color: #000080; text-decoration-color: #000080\">INFO    </span> Iteration <span style=\"color: #008080; text-decoration-color: #008080; font-weight: bold\">14</span>, Permutation P_3: <span style=\"color: #008080; text-decoration-color: #008080; font-weight: bold\">0.3186492919921875</span>    <a href=\"file:///media/donato/Extra-storage/Code/model-merging/cycle-consistent-model-merging/src/ccmm/matching/weight_matching.py\" target=\"_blank\"><span style=\"color: #7f7f7f; text-decoration-color: #7f7f7f\">ccmm.matching.weight_matching</span></a><span style=\"color: #7f7f7f; text-decoration-color: #7f7f7f\">:</span><a href=\"file:///media/donato/Extra-storage/Code/model-merging/cycle-consistent-model-merging/src/ccmm/matching/weight_matching.py#176\" target=\"_blank\"><span style=\"color: #7f7f7f; text-decoration-color: #7f7f7f\">176</span></a>\n",
       "</pre>\n"
      ],
      "text/plain": [
       "\u001b[2;36m                   \u001b[0m\u001b[2;36m \u001b[0m\u001b[34mINFO    \u001b[0m Iteration \u001b[1;36m14\u001b[0m, Permutation P_3: \u001b[1;36m0.3186492919921875\u001b[0m    \u001b]8;id=339246;file:///media/donato/Extra-storage/Code/model-merging/cycle-consistent-model-merging/src/ccmm/matching/weight_matching.py\u001b\\\u001b[2mccmm.matching.weight_matching\u001b[0m\u001b]8;;\u001b\\\u001b[2m:\u001b[0m\u001b]8;id=640823;file:///media/donato/Extra-storage/Code/model-merging/cycle-consistent-model-merging/src/ccmm/matching/weight_matching.py#176\u001b\\\u001b[2m176\u001b[0m\u001b]8;;\u001b\\\n"
      ]
     },
     "metadata": {},
     "output_type": "display_data"
    },
    {
     "data": {
      "text/html": [
       "<pre style=\"white-space:pre;overflow-x:auto;line-height:normal;font-family:Menlo,'DejaVu Sans Mono',consolas,'Courier New',monospace\"><span style=\"color: #7fbfbf; text-decoration-color: #7fbfbf\">                    </span><span style=\"color: #000080; text-decoration-color: #000080\">INFO    </span> Iteration <span style=\"color: #008080; text-decoration-color: #008080; font-weight: bold\">14</span>, Permutation P_2: <span style=\"color: #008080; text-decoration-color: #008080; font-weight: bold\">0.05523681640625</span>      <a href=\"file:///media/donato/Extra-storage/Code/model-merging/cycle-consistent-model-merging/src/ccmm/matching/weight_matching.py\" target=\"_blank\"><span style=\"color: #7f7f7f; text-decoration-color: #7f7f7f\">ccmm.matching.weight_matching</span></a><span style=\"color: #7f7f7f; text-decoration-color: #7f7f7f\">:</span><a href=\"file:///media/donato/Extra-storage/Code/model-merging/cycle-consistent-model-merging/src/ccmm/matching/weight_matching.py#176\" target=\"_blank\"><span style=\"color: #7f7f7f; text-decoration-color: #7f7f7f\">176</span></a>\n",
       "</pre>\n"
      ],
      "text/plain": [
       "\u001b[2;36m                   \u001b[0m\u001b[2;36m \u001b[0m\u001b[34mINFO    \u001b[0m Iteration \u001b[1;36m14\u001b[0m, Permutation P_2: \u001b[1;36m0.05523681640625\u001b[0m      \u001b]8;id=900220;file:///media/donato/Extra-storage/Code/model-merging/cycle-consistent-model-merging/src/ccmm/matching/weight_matching.py\u001b\\\u001b[2mccmm.matching.weight_matching\u001b[0m\u001b]8;;\u001b\\\u001b[2m:\u001b[0m\u001b]8;id=110543;file:///media/donato/Extra-storage/Code/model-merging/cycle-consistent-model-merging/src/ccmm/matching/weight_matching.py#176\u001b\\\u001b[2m176\u001b[0m\u001b]8;;\u001b\\\n"
      ]
     },
     "metadata": {},
     "output_type": "display_data"
    },
    {
     "data": {
      "text/html": [
       "<pre style=\"white-space:pre;overflow-x:auto;line-height:normal;font-family:Menlo,'DejaVu Sans Mono',consolas,'Courier New',monospace\"><span style=\"color: #7fbfbf; text-decoration-color: #7fbfbf\">                    </span><span style=\"color: #000080; text-decoration-color: #000080\">INFO    </span> Iteration <span style=\"color: #008080; text-decoration-color: #008080; font-weight: bold\">14</span>, Permutation P_1: <span style=\"color: #008080; text-decoration-color: #008080; font-weight: bold\">0.0001220703125</span>       <a href=\"file:///media/donato/Extra-storage/Code/model-merging/cycle-consistent-model-merging/src/ccmm/matching/weight_matching.py\" target=\"_blank\"><span style=\"color: #7f7f7f; text-decoration-color: #7f7f7f\">ccmm.matching.weight_matching</span></a><span style=\"color: #7f7f7f; text-decoration-color: #7f7f7f\">:</span><a href=\"file:///media/donato/Extra-storage/Code/model-merging/cycle-consistent-model-merging/src/ccmm/matching/weight_matching.py#176\" target=\"_blank\"><span style=\"color: #7f7f7f; text-decoration-color: #7f7f7f\">176</span></a>\n",
       "</pre>\n"
      ],
      "text/plain": [
       "\u001b[2;36m                   \u001b[0m\u001b[2;36m \u001b[0m\u001b[34mINFO    \u001b[0m Iteration \u001b[1;36m14\u001b[0m, Permutation P_1: \u001b[1;36m0.0001220703125\u001b[0m       \u001b]8;id=104370;file:///media/donato/Extra-storage/Code/model-merging/cycle-consistent-model-merging/src/ccmm/matching/weight_matching.py\u001b\\\u001b[2mccmm.matching.weight_matching\u001b[0m\u001b]8;;\u001b\\\u001b[2m:\u001b[0m\u001b]8;id=329319;file:///media/donato/Extra-storage/Code/model-merging/cycle-consistent-model-merging/src/ccmm/matching/weight_matching.py#176\u001b\\\u001b[2m176\u001b[0m\u001b]8;;\u001b\\\n"
      ]
     },
     "metadata": {},
     "output_type": "display_data"
    },
    {
     "data": {
      "text/html": [
       "<pre style=\"white-space:pre;overflow-x:auto;line-height:normal;font-family:Menlo,'DejaVu Sans Mono',consolas,'Courier New',monospace\"><span style=\"color: #7fbfbf; text-decoration-color: #7fbfbf\">                    </span><span style=\"color: #000080; text-decoration-color: #000080\">INFO    </span> Iteration <span style=\"color: #008080; text-decoration-color: #008080; font-weight: bold\">15</span>, Permutation P_2: <span style=\"color: #008080; text-decoration-color: #008080; font-weight: bold\">0.003936767578125</span>     <a href=\"file:///media/donato/Extra-storage/Code/model-merging/cycle-consistent-model-merging/src/ccmm/matching/weight_matching.py\" target=\"_blank\"><span style=\"color: #7f7f7f; text-decoration-color: #7f7f7f\">ccmm.matching.weight_matching</span></a><span style=\"color: #7f7f7f; text-decoration-color: #7f7f7f\">:</span><a href=\"file:///media/donato/Extra-storage/Code/model-merging/cycle-consistent-model-merging/src/ccmm/matching/weight_matching.py#176\" target=\"_blank\"><span style=\"color: #7f7f7f; text-decoration-color: #7f7f7f\">176</span></a>\n",
       "</pre>\n"
      ],
      "text/plain": [
       "\u001b[2;36m                   \u001b[0m\u001b[2;36m \u001b[0m\u001b[34mINFO    \u001b[0m Iteration \u001b[1;36m15\u001b[0m, Permutation P_2: \u001b[1;36m0.003936767578125\u001b[0m     \u001b]8;id=932801;file:///media/donato/Extra-storage/Code/model-merging/cycle-consistent-model-merging/src/ccmm/matching/weight_matching.py\u001b\\\u001b[2mccmm.matching.weight_matching\u001b[0m\u001b]8;;\u001b\\\u001b[2m:\u001b[0m\u001b]8;id=200779;file:///media/donato/Extra-storage/Code/model-merging/cycle-consistent-model-merging/src/ccmm/matching/weight_matching.py#176\u001b\\\u001b[2m176\u001b[0m\u001b]8;;\u001b\\\n"
      ]
     },
     "metadata": {},
     "output_type": "display_data"
    },
    {
     "data": {
      "text/html": [
       "<pre style=\"white-space:pre;overflow-x:auto;line-height:normal;font-family:Menlo,'DejaVu Sans Mono',consolas,'Courier New',monospace\"><span style=\"color: #7fbfbf; text-decoration-color: #7fbfbf\">                    </span><span style=\"color: #000080; text-decoration-color: #000080\">INFO    </span> Iteration <span style=\"color: #008080; text-decoration-color: #008080; font-weight: bold\">15</span>, Permutation P_0: <span style=\"color: #008080; text-decoration-color: #008080; font-weight: bold\">0.005126953125</span>        <a href=\"file:///media/donato/Extra-storage/Code/model-merging/cycle-consistent-model-merging/src/ccmm/matching/weight_matching.py\" target=\"_blank\"><span style=\"color: #7f7f7f; text-decoration-color: #7f7f7f\">ccmm.matching.weight_matching</span></a><span style=\"color: #7f7f7f; text-decoration-color: #7f7f7f\">:</span><a href=\"file:///media/donato/Extra-storage/Code/model-merging/cycle-consistent-model-merging/src/ccmm/matching/weight_matching.py#176\" target=\"_blank\"><span style=\"color: #7f7f7f; text-decoration-color: #7f7f7f\">176</span></a>\n",
       "</pre>\n"
      ],
      "text/plain": [
       "\u001b[2;36m                   \u001b[0m\u001b[2;36m \u001b[0m\u001b[34mINFO    \u001b[0m Iteration \u001b[1;36m15\u001b[0m, Permutation P_0: \u001b[1;36m0.005126953125\u001b[0m        \u001b]8;id=694922;file:///media/donato/Extra-storage/Code/model-merging/cycle-consistent-model-merging/src/ccmm/matching/weight_matching.py\u001b\\\u001b[2mccmm.matching.weight_matching\u001b[0m\u001b]8;;\u001b\\\u001b[2m:\u001b[0m\u001b]8;id=996508;file:///media/donato/Extra-storage/Code/model-merging/cycle-consistent-model-merging/src/ccmm/matching/weight_matching.py#176\u001b\\\u001b[2m176\u001b[0m\u001b]8;;\u001b\\\n"
      ]
     },
     "metadata": {},
     "output_type": "display_data"
    },
    {
     "data": {
      "text/html": [
       "<pre style=\"white-space:pre;overflow-x:auto;line-height:normal;font-family:Menlo,'DejaVu Sans Mono',consolas,'Courier New',monospace\"><span style=\"color: #7fbfbf; text-decoration-color: #7fbfbf\">                    </span><span style=\"color: #000080; text-decoration-color: #000080\">INFO    </span> Iteration <span style=\"color: #008080; text-decoration-color: #008080; font-weight: bold\">15</span>, Permutation P_3: <span style=\"color: #008080; text-decoration-color: #008080; font-weight: bold\">0.03594970703125</span>      <a href=\"file:///media/donato/Extra-storage/Code/model-merging/cycle-consistent-model-merging/src/ccmm/matching/weight_matching.py\" target=\"_blank\"><span style=\"color: #7f7f7f; text-decoration-color: #7f7f7f\">ccmm.matching.weight_matching</span></a><span style=\"color: #7f7f7f; text-decoration-color: #7f7f7f\">:</span><a href=\"file:///media/donato/Extra-storage/Code/model-merging/cycle-consistent-model-merging/src/ccmm/matching/weight_matching.py#176\" target=\"_blank\"><span style=\"color: #7f7f7f; text-decoration-color: #7f7f7f\">176</span></a>\n",
       "</pre>\n"
      ],
      "text/plain": [
       "\u001b[2;36m                   \u001b[0m\u001b[2;36m \u001b[0m\u001b[34mINFO    \u001b[0m Iteration \u001b[1;36m15\u001b[0m, Permutation P_3: \u001b[1;36m0.03594970703125\u001b[0m      \u001b]8;id=102946;file:///media/donato/Extra-storage/Code/model-merging/cycle-consistent-model-merging/src/ccmm/matching/weight_matching.py\u001b\\\u001b[2mccmm.matching.weight_matching\u001b[0m\u001b]8;;\u001b\\\u001b[2m:\u001b[0m\u001b]8;id=998101;file:///media/donato/Extra-storage/Code/model-merging/cycle-consistent-model-merging/src/ccmm/matching/weight_matching.py#176\u001b\\\u001b[2m176\u001b[0m\u001b]8;;\u001b\\\n"
      ]
     },
     "metadata": {},
     "output_type": "display_data"
    },
    {
     "data": {
      "text/html": [
       "<pre style=\"white-space:pre;overflow-x:auto;line-height:normal;font-family:Menlo,'DejaVu Sans Mono',consolas,'Courier New',monospace\"><span style=\"color: #7fbfbf; text-decoration-color: #7fbfbf\">                    </span><span style=\"color: #000080; text-decoration-color: #000080\">INFO    </span> Iteration <span style=\"color: #008080; text-decoration-color: #008080; font-weight: bold\">15</span>, Permutation P_1: <span style=\"color: #008080; text-decoration-color: #008080; font-weight: bold\">0.00872802734375</span>      <a href=\"file:///media/donato/Extra-storage/Code/model-merging/cycle-consistent-model-merging/src/ccmm/matching/weight_matching.py\" target=\"_blank\"><span style=\"color: #7f7f7f; text-decoration-color: #7f7f7f\">ccmm.matching.weight_matching</span></a><span style=\"color: #7f7f7f; text-decoration-color: #7f7f7f\">:</span><a href=\"file:///media/donato/Extra-storage/Code/model-merging/cycle-consistent-model-merging/src/ccmm/matching/weight_matching.py#176\" target=\"_blank\"><span style=\"color: #7f7f7f; text-decoration-color: #7f7f7f\">176</span></a>\n",
       "</pre>\n"
      ],
      "text/plain": [
       "\u001b[2;36m                   \u001b[0m\u001b[2;36m \u001b[0m\u001b[34mINFO    \u001b[0m Iteration \u001b[1;36m15\u001b[0m, Permutation P_1: \u001b[1;36m0.00872802734375\u001b[0m      \u001b]8;id=18096;file:///media/donato/Extra-storage/Code/model-merging/cycle-consistent-model-merging/src/ccmm/matching/weight_matching.py\u001b\\\u001b[2mccmm.matching.weight_matching\u001b[0m\u001b]8;;\u001b\\\u001b[2m:\u001b[0m\u001b]8;id=934108;file:///media/donato/Extra-storage/Code/model-merging/cycle-consistent-model-merging/src/ccmm/matching/weight_matching.py#176\u001b\\\u001b[2m176\u001b[0m\u001b]8;;\u001b\\\n"
      ]
     },
     "metadata": {},
     "output_type": "display_data"
    },
    {
     "name": "stderr",
     "output_type": "stream",
     "text": [
      "Weight matching:  16%|█▌        | 16/100 [00:01<00:07, 10.55it/s]"
     ]
    },
    {
     "data": {
      "text/html": [
       "<pre style=\"white-space:pre;overflow-x:auto;line-height:normal;font-family:Menlo,'DejaVu Sans Mono',consolas,'Courier New',monospace\"><span style=\"color: #7fbfbf; text-decoration-color: #7fbfbf\">                    </span><span style=\"color: #000080; text-decoration-color: #000080\">INFO    </span> Iteration <span style=\"color: #008080; text-decoration-color: #008080; font-weight: bold\">16</span>, Permutation P_3: <span style=\"color: #008080; text-decoration-color: #008080; font-weight: bold\">0.0</span>                   <a href=\"file:///media/donato/Extra-storage/Code/model-merging/cycle-consistent-model-merging/src/ccmm/matching/weight_matching.py\" target=\"_blank\"><span style=\"color: #7f7f7f; text-decoration-color: #7f7f7f\">ccmm.matching.weight_matching</span></a><span style=\"color: #7f7f7f; text-decoration-color: #7f7f7f\">:</span><a href=\"file:///media/donato/Extra-storage/Code/model-merging/cycle-consistent-model-merging/src/ccmm/matching/weight_matching.py#176\" target=\"_blank\"><span style=\"color: #7f7f7f; text-decoration-color: #7f7f7f\">176</span></a>\n",
       "</pre>\n"
      ],
      "text/plain": [
       "\u001b[2;36m                   \u001b[0m\u001b[2;36m \u001b[0m\u001b[34mINFO    \u001b[0m Iteration \u001b[1;36m16\u001b[0m, Permutation P_3: \u001b[1;36m0.0\u001b[0m                   \u001b]8;id=328170;file:///media/donato/Extra-storage/Code/model-merging/cycle-consistent-model-merging/src/ccmm/matching/weight_matching.py\u001b\\\u001b[2mccmm.matching.weight_matching\u001b[0m\u001b]8;;\u001b\\\u001b[2m:\u001b[0m\u001b]8;id=263823;file:///media/donato/Extra-storage/Code/model-merging/cycle-consistent-model-merging/src/ccmm/matching/weight_matching.py#176\u001b\\\u001b[2m176\u001b[0m\u001b]8;;\u001b\\\n"
      ]
     },
     "metadata": {},
     "output_type": "display_data"
    },
    {
     "data": {
      "text/html": [
       "<pre style=\"white-space:pre;overflow-x:auto;line-height:normal;font-family:Menlo,'DejaVu Sans Mono',consolas,'Courier New',monospace\"><span style=\"color: #7fbfbf; text-decoration-color: #7fbfbf\">                    </span><span style=\"color: #000080; text-decoration-color: #000080\">INFO    </span> Iteration <span style=\"color: #008080; text-decoration-color: #008080; font-weight: bold\">16</span>, Permutation P_2: <span style=\"color: #008080; text-decoration-color: #008080; font-weight: bold\">0.0706787109375</span>       <a href=\"file:///media/donato/Extra-storage/Code/model-merging/cycle-consistent-model-merging/src/ccmm/matching/weight_matching.py\" target=\"_blank\"><span style=\"color: #7f7f7f; text-decoration-color: #7f7f7f\">ccmm.matching.weight_matching</span></a><span style=\"color: #7f7f7f; text-decoration-color: #7f7f7f\">:</span><a href=\"file:///media/donato/Extra-storage/Code/model-merging/cycle-consistent-model-merging/src/ccmm/matching/weight_matching.py#176\" target=\"_blank\"><span style=\"color: #7f7f7f; text-decoration-color: #7f7f7f\">176</span></a>\n",
       "</pre>\n"
      ],
      "text/plain": [
       "\u001b[2;36m                   \u001b[0m\u001b[2;36m \u001b[0m\u001b[34mINFO    \u001b[0m Iteration \u001b[1;36m16\u001b[0m, Permutation P_2: \u001b[1;36m0.0706787109375\u001b[0m       \u001b]8;id=425876;file:///media/donato/Extra-storage/Code/model-merging/cycle-consistent-model-merging/src/ccmm/matching/weight_matching.py\u001b\\\u001b[2mccmm.matching.weight_matching\u001b[0m\u001b]8;;\u001b\\\u001b[2m:\u001b[0m\u001b]8;id=327604;file:///media/donato/Extra-storage/Code/model-merging/cycle-consistent-model-merging/src/ccmm/matching/weight_matching.py#176\u001b\\\u001b[2m176\u001b[0m\u001b]8;;\u001b\\\n"
      ]
     },
     "metadata": {},
     "output_type": "display_data"
    },
    {
     "data": {
      "text/html": [
       "<pre style=\"white-space:pre;overflow-x:auto;line-height:normal;font-family:Menlo,'DejaVu Sans Mono',consolas,'Courier New',monospace\"><span style=\"color: #7fbfbf; text-decoration-color: #7fbfbf\">                    </span><span style=\"color: #000080; text-decoration-color: #000080\">INFO    </span> Iteration <span style=\"color: #008080; text-decoration-color: #008080; font-weight: bold\">16</span>, Permutation P_1: <span style=\"color: #008080; text-decoration-color: #008080; font-weight: bold\">0.0609130859375</span>       <a href=\"file:///media/donato/Extra-storage/Code/model-merging/cycle-consistent-model-merging/src/ccmm/matching/weight_matching.py\" target=\"_blank\"><span style=\"color: #7f7f7f; text-decoration-color: #7f7f7f\">ccmm.matching.weight_matching</span></a><span style=\"color: #7f7f7f; text-decoration-color: #7f7f7f\">:</span><a href=\"file:///media/donato/Extra-storage/Code/model-merging/cycle-consistent-model-merging/src/ccmm/matching/weight_matching.py#176\" target=\"_blank\"><span style=\"color: #7f7f7f; text-decoration-color: #7f7f7f\">176</span></a>\n",
       "</pre>\n"
      ],
      "text/plain": [
       "\u001b[2;36m                   \u001b[0m\u001b[2;36m \u001b[0m\u001b[34mINFO    \u001b[0m Iteration \u001b[1;36m16\u001b[0m, Permutation P_1: \u001b[1;36m0.0609130859375\u001b[0m       \u001b]8;id=329158;file:///media/donato/Extra-storage/Code/model-merging/cycle-consistent-model-merging/src/ccmm/matching/weight_matching.py\u001b\\\u001b[2mccmm.matching.weight_matching\u001b[0m\u001b]8;;\u001b\\\u001b[2m:\u001b[0m\u001b]8;id=780366;file:///media/donato/Extra-storage/Code/model-merging/cycle-consistent-model-merging/src/ccmm/matching/weight_matching.py#176\u001b\\\u001b[2m176\u001b[0m\u001b]8;;\u001b\\\n"
      ]
     },
     "metadata": {},
     "output_type": "display_data"
    },
    {
     "data": {
      "text/html": [
       "<pre style=\"white-space:pre;overflow-x:auto;line-height:normal;font-family:Menlo,'DejaVu Sans Mono',consolas,'Courier New',monospace\"><span style=\"color: #7fbfbf; text-decoration-color: #7fbfbf\">                    </span><span style=\"color: #000080; text-decoration-color: #000080\">INFO    </span> Iteration <span style=\"color: #008080; text-decoration-color: #008080; font-weight: bold\">16</span>, Permutation P_0: <span style=\"color: #008080; text-decoration-color: #008080; font-weight: bold\">0.040283203125</span>        <a href=\"file:///media/donato/Extra-storage/Code/model-merging/cycle-consistent-model-merging/src/ccmm/matching/weight_matching.py\" target=\"_blank\"><span style=\"color: #7f7f7f; text-decoration-color: #7f7f7f\">ccmm.matching.weight_matching</span></a><span style=\"color: #7f7f7f; text-decoration-color: #7f7f7f\">:</span><a href=\"file:///media/donato/Extra-storage/Code/model-merging/cycle-consistent-model-merging/src/ccmm/matching/weight_matching.py#176\" target=\"_blank\"><span style=\"color: #7f7f7f; text-decoration-color: #7f7f7f\">176</span></a>\n",
       "</pre>\n"
      ],
      "text/plain": [
       "\u001b[2;36m                   \u001b[0m\u001b[2;36m \u001b[0m\u001b[34mINFO    \u001b[0m Iteration \u001b[1;36m16\u001b[0m, Permutation P_0: \u001b[1;36m0.040283203125\u001b[0m        \u001b]8;id=730059;file:///media/donato/Extra-storage/Code/model-merging/cycle-consistent-model-merging/src/ccmm/matching/weight_matching.py\u001b\\\u001b[2mccmm.matching.weight_matching\u001b[0m\u001b]8;;\u001b\\\u001b[2m:\u001b[0m\u001b]8;id=124123;file:///media/donato/Extra-storage/Code/model-merging/cycle-consistent-model-merging/src/ccmm/matching/weight_matching.py#176\u001b\\\u001b[2m176\u001b[0m\u001b]8;;\u001b\\\n"
      ]
     },
     "metadata": {},
     "output_type": "display_data"
    },
    {
     "data": {
      "text/html": [
       "<pre style=\"white-space:pre;overflow-x:auto;line-height:normal;font-family:Menlo,'DejaVu Sans Mono',consolas,'Courier New',monospace\"><span style=\"color: #7fbfbf; text-decoration-color: #7fbfbf\">                    </span><span style=\"color: #000080; text-decoration-color: #000080\">INFO    </span> Iteration <span style=\"color: #008080; text-decoration-color: #008080; font-weight: bold\">17</span>, Permutation P_1: <span style=\"color: #008080; text-decoration-color: #008080; font-weight: bold\">0.0</span>                   <a href=\"file:///media/donato/Extra-storage/Code/model-merging/cycle-consistent-model-merging/src/ccmm/matching/weight_matching.py\" target=\"_blank\"><span style=\"color: #7f7f7f; text-decoration-color: #7f7f7f\">ccmm.matching.weight_matching</span></a><span style=\"color: #7f7f7f; text-decoration-color: #7f7f7f\">:</span><a href=\"file:///media/donato/Extra-storage/Code/model-merging/cycle-consistent-model-merging/src/ccmm/matching/weight_matching.py#176\" target=\"_blank\"><span style=\"color: #7f7f7f; text-decoration-color: #7f7f7f\">176</span></a>\n",
       "</pre>\n"
      ],
      "text/plain": [
       "\u001b[2;36m                   \u001b[0m\u001b[2;36m \u001b[0m\u001b[34mINFO    \u001b[0m Iteration \u001b[1;36m17\u001b[0m, Permutation P_1: \u001b[1;36m0.0\u001b[0m                   \u001b]8;id=574771;file:///media/donato/Extra-storage/Code/model-merging/cycle-consistent-model-merging/src/ccmm/matching/weight_matching.py\u001b\\\u001b[2mccmm.matching.weight_matching\u001b[0m\u001b]8;;\u001b\\\u001b[2m:\u001b[0m\u001b]8;id=930654;file:///media/donato/Extra-storage/Code/model-merging/cycle-consistent-model-merging/src/ccmm/matching/weight_matching.py#176\u001b\\\u001b[2m176\u001b[0m\u001b]8;;\u001b\\\n"
      ]
     },
     "metadata": {},
     "output_type": "display_data"
    },
    {
     "data": {
      "text/html": [
       "<pre style=\"white-space:pre;overflow-x:auto;line-height:normal;font-family:Menlo,'DejaVu Sans Mono',consolas,'Courier New',monospace\"><span style=\"color: #7fbfbf; text-decoration-color: #7fbfbf\">2025-01-03 08:29:06 </span><span style=\"color: #000080; text-decoration-color: #000080\">INFO    </span> Iteration <span style=\"color: #008080; text-decoration-color: #008080; font-weight: bold\">17</span>, Permutation P_3: <span style=\"color: #008080; text-decoration-color: #008080; font-weight: bold\">0.0075225830078125</span>    <a href=\"file:///media/donato/Extra-storage/Code/model-merging/cycle-consistent-model-merging/src/ccmm/matching/weight_matching.py\" target=\"_blank\"><span style=\"color: #7f7f7f; text-decoration-color: #7f7f7f\">ccmm.matching.weight_matching</span></a><span style=\"color: #7f7f7f; text-decoration-color: #7f7f7f\">:</span><a href=\"file:///media/donato/Extra-storage/Code/model-merging/cycle-consistent-model-merging/src/ccmm/matching/weight_matching.py#176\" target=\"_blank\"><span style=\"color: #7f7f7f; text-decoration-color: #7f7f7f\">176</span></a>\n",
       "</pre>\n"
      ],
      "text/plain": [
       "\u001b[2;36m2025-01-03 08:29:06\u001b[0m\u001b[2;36m \u001b[0m\u001b[34mINFO    \u001b[0m Iteration \u001b[1;36m17\u001b[0m, Permutation P_3: \u001b[1;36m0.0075225830078125\u001b[0m    \u001b]8;id=522990;file:///media/donato/Extra-storage/Code/model-merging/cycle-consistent-model-merging/src/ccmm/matching/weight_matching.py\u001b\\\u001b[2mccmm.matching.weight_matching\u001b[0m\u001b]8;;\u001b\\\u001b[2m:\u001b[0m\u001b]8;id=758081;file:///media/donato/Extra-storage/Code/model-merging/cycle-consistent-model-merging/src/ccmm/matching/weight_matching.py#176\u001b\\\u001b[2m176\u001b[0m\u001b]8;;\u001b\\\n"
      ]
     },
     "metadata": {},
     "output_type": "display_data"
    },
    {
     "data": {
      "text/html": [
       "<pre style=\"white-space:pre;overflow-x:auto;line-height:normal;font-family:Menlo,'DejaVu Sans Mono',consolas,'Courier New',monospace\"><span style=\"color: #7fbfbf; text-decoration-color: #7fbfbf\">                    </span><span style=\"color: #000080; text-decoration-color: #000080\">INFO    </span> Iteration <span style=\"color: #008080; text-decoration-color: #008080; font-weight: bold\">17</span>, Permutation P_0: <span style=\"color: #008080; text-decoration-color: #008080; font-weight: bold\">0.0</span>                   <a href=\"file:///media/donato/Extra-storage/Code/model-merging/cycle-consistent-model-merging/src/ccmm/matching/weight_matching.py\" target=\"_blank\"><span style=\"color: #7f7f7f; text-decoration-color: #7f7f7f\">ccmm.matching.weight_matching</span></a><span style=\"color: #7f7f7f; text-decoration-color: #7f7f7f\">:</span><a href=\"file:///media/donato/Extra-storage/Code/model-merging/cycle-consistent-model-merging/src/ccmm/matching/weight_matching.py#176\" target=\"_blank\"><span style=\"color: #7f7f7f; text-decoration-color: #7f7f7f\">176</span></a>\n",
       "</pre>\n"
      ],
      "text/plain": [
       "\u001b[2;36m                   \u001b[0m\u001b[2;36m \u001b[0m\u001b[34mINFO    \u001b[0m Iteration \u001b[1;36m17\u001b[0m, Permutation P_0: \u001b[1;36m0.0\u001b[0m                   \u001b]8;id=55239;file:///media/donato/Extra-storage/Code/model-merging/cycle-consistent-model-merging/src/ccmm/matching/weight_matching.py\u001b\\\u001b[2mccmm.matching.weight_matching\u001b[0m\u001b]8;;\u001b\\\u001b[2m:\u001b[0m\u001b]8;id=679994;file:///media/donato/Extra-storage/Code/model-merging/cycle-consistent-model-merging/src/ccmm/matching/weight_matching.py#176\u001b\\\u001b[2m176\u001b[0m\u001b]8;;\u001b\\\n"
      ]
     },
     "metadata": {},
     "output_type": "display_data"
    },
    {
     "data": {
      "text/html": [
       "<pre style=\"white-space:pre;overflow-x:auto;line-height:normal;font-family:Menlo,'DejaVu Sans Mono',consolas,'Courier New',monospace\"><span style=\"color: #7fbfbf; text-decoration-color: #7fbfbf\">                    </span><span style=\"color: #000080; text-decoration-color: #000080\">INFO    </span> Iteration <span style=\"color: #008080; text-decoration-color: #008080; font-weight: bold\">17</span>, Permutation P_2: <span style=\"color: #008080; text-decoration-color: #008080; font-weight: bold\">0.06536865234375</span>      <a href=\"file:///media/donato/Extra-storage/Code/model-merging/cycle-consistent-model-merging/src/ccmm/matching/weight_matching.py\" target=\"_blank\"><span style=\"color: #7f7f7f; text-decoration-color: #7f7f7f\">ccmm.matching.weight_matching</span></a><span style=\"color: #7f7f7f; text-decoration-color: #7f7f7f\">:</span><a href=\"file:///media/donato/Extra-storage/Code/model-merging/cycle-consistent-model-merging/src/ccmm/matching/weight_matching.py#176\" target=\"_blank\"><span style=\"color: #7f7f7f; text-decoration-color: #7f7f7f\">176</span></a>\n",
       "</pre>\n"
      ],
      "text/plain": [
       "\u001b[2;36m                   \u001b[0m\u001b[2;36m \u001b[0m\u001b[34mINFO    \u001b[0m Iteration \u001b[1;36m17\u001b[0m, Permutation P_2: \u001b[1;36m0.06536865234375\u001b[0m      \u001b]8;id=97839;file:///media/donato/Extra-storage/Code/model-merging/cycle-consistent-model-merging/src/ccmm/matching/weight_matching.py\u001b\\\u001b[2mccmm.matching.weight_matching\u001b[0m\u001b]8;;\u001b\\\u001b[2m:\u001b[0m\u001b]8;id=719968;file:///media/donato/Extra-storage/Code/model-merging/cycle-consistent-model-merging/src/ccmm/matching/weight_matching.py#176\u001b\\\u001b[2m176\u001b[0m\u001b]8;;\u001b\\\n"
      ]
     },
     "metadata": {},
     "output_type": "display_data"
    },
    {
     "name": "stderr",
     "output_type": "stream",
     "text": [
      "Weight matching:  18%|█▊        | 18/100 [00:01<00:07, 10.63it/s]"
     ]
    },
    {
     "data": {
      "text/html": [
       "<pre style=\"white-space:pre;overflow-x:auto;line-height:normal;font-family:Menlo,'DejaVu Sans Mono',consolas,'Courier New',monospace\"><span style=\"color: #7fbfbf; text-decoration-color: #7fbfbf\">                    </span><span style=\"color: #000080; text-decoration-color: #000080\">INFO    </span> Iteration <span style=\"color: #008080; text-decoration-color: #008080; font-weight: bold\">18</span>, Permutation P_2: <span style=\"color: #008080; text-decoration-color: #008080; font-weight: bold\">0.0</span>                   <a href=\"file:///media/donato/Extra-storage/Code/model-merging/cycle-consistent-model-merging/src/ccmm/matching/weight_matching.py\" target=\"_blank\"><span style=\"color: #7f7f7f; text-decoration-color: #7f7f7f\">ccmm.matching.weight_matching</span></a><span style=\"color: #7f7f7f; text-decoration-color: #7f7f7f\">:</span><a href=\"file:///media/donato/Extra-storage/Code/model-merging/cycle-consistent-model-merging/src/ccmm/matching/weight_matching.py#176\" target=\"_blank\"><span style=\"color: #7f7f7f; text-decoration-color: #7f7f7f\">176</span></a>\n",
       "</pre>\n"
      ],
      "text/plain": [
       "\u001b[2;36m                   \u001b[0m\u001b[2;36m \u001b[0m\u001b[34mINFO    \u001b[0m Iteration \u001b[1;36m18\u001b[0m, Permutation P_2: \u001b[1;36m0.0\u001b[0m                   \u001b]8;id=579482;file:///media/donato/Extra-storage/Code/model-merging/cycle-consistent-model-merging/src/ccmm/matching/weight_matching.py\u001b\\\u001b[2mccmm.matching.weight_matching\u001b[0m\u001b]8;;\u001b\\\u001b[2m:\u001b[0m\u001b]8;id=465827;file:///media/donato/Extra-storage/Code/model-merging/cycle-consistent-model-merging/src/ccmm/matching/weight_matching.py#176\u001b\\\u001b[2m176\u001b[0m\u001b]8;;\u001b\\\n"
      ]
     },
     "metadata": {},
     "output_type": "display_data"
    },
    {
     "data": {
      "text/html": [
       "<pre style=\"white-space:pre;overflow-x:auto;line-height:normal;font-family:Menlo,'DejaVu Sans Mono',consolas,'Courier New',monospace\"><span style=\"color: #7fbfbf; text-decoration-color: #7fbfbf\">                    </span><span style=\"color: #000080; text-decoration-color: #000080\">INFO    </span> Iteration <span style=\"color: #008080; text-decoration-color: #008080; font-weight: bold\">18</span>, Permutation P_0: <span style=\"color: #008080; text-decoration-color: #008080; font-weight: bold\">0.0</span>                   <a href=\"file:///media/donato/Extra-storage/Code/model-merging/cycle-consistent-model-merging/src/ccmm/matching/weight_matching.py\" target=\"_blank\"><span style=\"color: #7f7f7f; text-decoration-color: #7f7f7f\">ccmm.matching.weight_matching</span></a><span style=\"color: #7f7f7f; text-decoration-color: #7f7f7f\">:</span><a href=\"file:///media/donato/Extra-storage/Code/model-merging/cycle-consistent-model-merging/src/ccmm/matching/weight_matching.py#176\" target=\"_blank\"><span style=\"color: #7f7f7f; text-decoration-color: #7f7f7f\">176</span></a>\n",
       "</pre>\n"
      ],
      "text/plain": [
       "\u001b[2;36m                   \u001b[0m\u001b[2;36m \u001b[0m\u001b[34mINFO    \u001b[0m Iteration \u001b[1;36m18\u001b[0m, Permutation P_0: \u001b[1;36m0.0\u001b[0m                   \u001b]8;id=536598;file:///media/donato/Extra-storage/Code/model-merging/cycle-consistent-model-merging/src/ccmm/matching/weight_matching.py\u001b\\\u001b[2mccmm.matching.weight_matching\u001b[0m\u001b]8;;\u001b\\\u001b[2m:\u001b[0m\u001b]8;id=693320;file:///media/donato/Extra-storage/Code/model-merging/cycle-consistent-model-merging/src/ccmm/matching/weight_matching.py#176\u001b\\\u001b[2m176\u001b[0m\u001b]8;;\u001b\\\n"
      ]
     },
     "metadata": {},
     "output_type": "display_data"
    },
    {
     "data": {
      "text/html": [
       "<pre style=\"white-space:pre;overflow-x:auto;line-height:normal;font-family:Menlo,'DejaVu Sans Mono',consolas,'Courier New',monospace\"><span style=\"color: #7fbfbf; text-decoration-color: #7fbfbf\">                    </span><span style=\"color: #000080; text-decoration-color: #000080\">INFO    </span> Iteration <span style=\"color: #008080; text-decoration-color: #008080; font-weight: bold\">18</span>, Permutation P_1: <span style=\"color: #008080; text-decoration-color: #008080; font-weight: bold\">0.0068359375</span>          <a href=\"file:///media/donato/Extra-storage/Code/model-merging/cycle-consistent-model-merging/src/ccmm/matching/weight_matching.py\" target=\"_blank\"><span style=\"color: #7f7f7f; text-decoration-color: #7f7f7f\">ccmm.matching.weight_matching</span></a><span style=\"color: #7f7f7f; text-decoration-color: #7f7f7f\">:</span><a href=\"file:///media/donato/Extra-storage/Code/model-merging/cycle-consistent-model-merging/src/ccmm/matching/weight_matching.py#176\" target=\"_blank\"><span style=\"color: #7f7f7f; text-decoration-color: #7f7f7f\">176</span></a>\n",
       "</pre>\n"
      ],
      "text/plain": [
       "\u001b[2;36m                   \u001b[0m\u001b[2;36m \u001b[0m\u001b[34mINFO    \u001b[0m Iteration \u001b[1;36m18\u001b[0m, Permutation P_1: \u001b[1;36m0.0068359375\u001b[0m          \u001b]8;id=236678;file:///media/donato/Extra-storage/Code/model-merging/cycle-consistent-model-merging/src/ccmm/matching/weight_matching.py\u001b\\\u001b[2mccmm.matching.weight_matching\u001b[0m\u001b]8;;\u001b\\\u001b[2m:\u001b[0m\u001b]8;id=965487;file:///media/donato/Extra-storage/Code/model-merging/cycle-consistent-model-merging/src/ccmm/matching/weight_matching.py#176\u001b\\\u001b[2m176\u001b[0m\u001b]8;;\u001b\\\n"
      ]
     },
     "metadata": {},
     "output_type": "display_data"
    },
    {
     "data": {
      "text/html": [
       "<pre style=\"white-space:pre;overflow-x:auto;line-height:normal;font-family:Menlo,'DejaVu Sans Mono',consolas,'Courier New',monospace\"><span style=\"color: #7fbfbf; text-decoration-color: #7fbfbf\">                    </span><span style=\"color: #000080; text-decoration-color: #000080\">INFO    </span> Iteration <span style=\"color: #008080; text-decoration-color: #008080; font-weight: bold\">18</span>, Permutation P_3: <span style=\"color: #008080; text-decoration-color: #008080; font-weight: bold\">0.0</span>                   <a href=\"file:///media/donato/Extra-storage/Code/model-merging/cycle-consistent-model-merging/src/ccmm/matching/weight_matching.py\" target=\"_blank\"><span style=\"color: #7f7f7f; text-decoration-color: #7f7f7f\">ccmm.matching.weight_matching</span></a><span style=\"color: #7f7f7f; text-decoration-color: #7f7f7f\">:</span><a href=\"file:///media/donato/Extra-storage/Code/model-merging/cycle-consistent-model-merging/src/ccmm/matching/weight_matching.py#176\" target=\"_blank\"><span style=\"color: #7f7f7f; text-decoration-color: #7f7f7f\">176</span></a>\n",
       "</pre>\n"
      ],
      "text/plain": [
       "\u001b[2;36m                   \u001b[0m\u001b[2;36m \u001b[0m\u001b[34mINFO    \u001b[0m Iteration \u001b[1;36m18\u001b[0m, Permutation P_3: \u001b[1;36m0.0\u001b[0m                   \u001b]8;id=380919;file:///media/donato/Extra-storage/Code/model-merging/cycle-consistent-model-merging/src/ccmm/matching/weight_matching.py\u001b\\\u001b[2mccmm.matching.weight_matching\u001b[0m\u001b]8;;\u001b\\\u001b[2m:\u001b[0m\u001b]8;id=404842;file:///media/donato/Extra-storage/Code/model-merging/cycle-consistent-model-merging/src/ccmm/matching/weight_matching.py#176\u001b\\\u001b[2m176\u001b[0m\u001b]8;;\u001b\\\n"
      ]
     },
     "metadata": {},
     "output_type": "display_data"
    },
    {
     "data": {
      "text/html": [
       "<pre style=\"white-space:pre;overflow-x:auto;line-height:normal;font-family:Menlo,'DejaVu Sans Mono',consolas,'Courier New',monospace\"><span style=\"color: #7fbfbf; text-decoration-color: #7fbfbf\">                    </span><span style=\"color: #000080; text-decoration-color: #000080\">INFO    </span> Iteration <span style=\"color: #008080; text-decoration-color: #008080; font-weight: bold\">19</span>, Permutation P_3: <span style=\"color: #008080; text-decoration-color: #008080; font-weight: bold\">0.0</span>                   <a href=\"file:///media/donato/Extra-storage/Code/model-merging/cycle-consistent-model-merging/src/ccmm/matching/weight_matching.py\" target=\"_blank\"><span style=\"color: #7f7f7f; text-decoration-color: #7f7f7f\">ccmm.matching.weight_matching</span></a><span style=\"color: #7f7f7f; text-decoration-color: #7f7f7f\">:</span><a href=\"file:///media/donato/Extra-storage/Code/model-merging/cycle-consistent-model-merging/src/ccmm/matching/weight_matching.py#176\" target=\"_blank\"><span style=\"color: #7f7f7f; text-decoration-color: #7f7f7f\">176</span></a>\n",
       "</pre>\n"
      ],
      "text/plain": [
       "\u001b[2;36m                   \u001b[0m\u001b[2;36m \u001b[0m\u001b[34mINFO    \u001b[0m Iteration \u001b[1;36m19\u001b[0m, Permutation P_3: \u001b[1;36m0.0\u001b[0m                   \u001b]8;id=163735;file:///media/donato/Extra-storage/Code/model-merging/cycle-consistent-model-merging/src/ccmm/matching/weight_matching.py\u001b\\\u001b[2mccmm.matching.weight_matching\u001b[0m\u001b]8;;\u001b\\\u001b[2m:\u001b[0m\u001b]8;id=822731;file:///media/donato/Extra-storage/Code/model-merging/cycle-consistent-model-merging/src/ccmm/matching/weight_matching.py#176\u001b\\\u001b[2m176\u001b[0m\u001b]8;;\u001b\\\n"
      ]
     },
     "metadata": {},
     "output_type": "display_data"
    },
    {
     "data": {
      "text/html": [
       "<pre style=\"white-space:pre;overflow-x:auto;line-height:normal;font-family:Menlo,'DejaVu Sans Mono',consolas,'Courier New',monospace\"><span style=\"color: #7fbfbf; text-decoration-color: #7fbfbf\">                    </span><span style=\"color: #000080; text-decoration-color: #000080\">INFO    </span> Iteration <span style=\"color: #008080; text-decoration-color: #008080; font-weight: bold\">19</span>, Permutation P_0: <span style=\"color: #008080; text-decoration-color: #008080; font-weight: bold\">0.0</span>                   <a href=\"file:///media/donato/Extra-storage/Code/model-merging/cycle-consistent-model-merging/src/ccmm/matching/weight_matching.py\" target=\"_blank\"><span style=\"color: #7f7f7f; text-decoration-color: #7f7f7f\">ccmm.matching.weight_matching</span></a><span style=\"color: #7f7f7f; text-decoration-color: #7f7f7f\">:</span><a href=\"file:///media/donato/Extra-storage/Code/model-merging/cycle-consistent-model-merging/src/ccmm/matching/weight_matching.py#176\" target=\"_blank\"><span style=\"color: #7f7f7f; text-decoration-color: #7f7f7f\">176</span></a>\n",
       "</pre>\n"
      ],
      "text/plain": [
       "\u001b[2;36m                   \u001b[0m\u001b[2;36m \u001b[0m\u001b[34mINFO    \u001b[0m Iteration \u001b[1;36m19\u001b[0m, Permutation P_0: \u001b[1;36m0.0\u001b[0m                   \u001b]8;id=374477;file:///media/donato/Extra-storage/Code/model-merging/cycle-consistent-model-merging/src/ccmm/matching/weight_matching.py\u001b\\\u001b[2mccmm.matching.weight_matching\u001b[0m\u001b]8;;\u001b\\\u001b[2m:\u001b[0m\u001b]8;id=832402;file:///media/donato/Extra-storage/Code/model-merging/cycle-consistent-model-merging/src/ccmm/matching/weight_matching.py#176\u001b\\\u001b[2m176\u001b[0m\u001b]8;;\u001b\\\n"
      ]
     },
     "metadata": {},
     "output_type": "display_data"
    },
    {
     "data": {
      "text/html": [
       "<pre style=\"white-space:pre;overflow-x:auto;line-height:normal;font-family:Menlo,'DejaVu Sans Mono',consolas,'Courier New',monospace\"><span style=\"color: #7fbfbf; text-decoration-color: #7fbfbf\">                    </span><span style=\"color: #000080; text-decoration-color: #000080\">INFO    </span> Iteration <span style=\"color: #008080; text-decoration-color: #008080; font-weight: bold\">19</span>, Permutation P_2: <span style=\"color: #008080; text-decoration-color: #008080; font-weight: bold\">0.00579833984375</span>      <a href=\"file:///media/donato/Extra-storage/Code/model-merging/cycle-consistent-model-merging/src/ccmm/matching/weight_matching.py\" target=\"_blank\"><span style=\"color: #7f7f7f; text-decoration-color: #7f7f7f\">ccmm.matching.weight_matching</span></a><span style=\"color: #7f7f7f; text-decoration-color: #7f7f7f\">:</span><a href=\"file:///media/donato/Extra-storage/Code/model-merging/cycle-consistent-model-merging/src/ccmm/matching/weight_matching.py#176\" target=\"_blank\"><span style=\"color: #7f7f7f; text-decoration-color: #7f7f7f\">176</span></a>\n",
       "</pre>\n"
      ],
      "text/plain": [
       "\u001b[2;36m                   \u001b[0m\u001b[2;36m \u001b[0m\u001b[34mINFO    \u001b[0m Iteration \u001b[1;36m19\u001b[0m, Permutation P_2: \u001b[1;36m0.00579833984375\u001b[0m      \u001b]8;id=709655;file:///media/donato/Extra-storage/Code/model-merging/cycle-consistent-model-merging/src/ccmm/matching/weight_matching.py\u001b\\\u001b[2mccmm.matching.weight_matching\u001b[0m\u001b]8;;\u001b\\\u001b[2m:\u001b[0m\u001b]8;id=338605;file:///media/donato/Extra-storage/Code/model-merging/cycle-consistent-model-merging/src/ccmm/matching/weight_matching.py#176\u001b\\\u001b[2m176\u001b[0m\u001b]8;;\u001b\\\n"
      ]
     },
     "metadata": {},
     "output_type": "display_data"
    },
    {
     "data": {
      "text/html": [
       "<pre style=\"white-space:pre;overflow-x:auto;line-height:normal;font-family:Menlo,'DejaVu Sans Mono',consolas,'Courier New',monospace\"><span style=\"color: #7fbfbf; text-decoration-color: #7fbfbf\">                    </span><span style=\"color: #000080; text-decoration-color: #000080\">INFO    </span> Iteration <span style=\"color: #008080; text-decoration-color: #008080; font-weight: bold\">19</span>, Permutation P_1: <span style=\"color: #008080; text-decoration-color: #008080; font-weight: bold\">0.0</span>                   <a href=\"file:///media/donato/Extra-storage/Code/model-merging/cycle-consistent-model-merging/src/ccmm/matching/weight_matching.py\" target=\"_blank\"><span style=\"color: #7f7f7f; text-decoration-color: #7f7f7f\">ccmm.matching.weight_matching</span></a><span style=\"color: #7f7f7f; text-decoration-color: #7f7f7f\">:</span><a href=\"file:///media/donato/Extra-storage/Code/model-merging/cycle-consistent-model-merging/src/ccmm/matching/weight_matching.py#176\" target=\"_blank\"><span style=\"color: #7f7f7f; text-decoration-color: #7f7f7f\">176</span></a>\n",
       "</pre>\n"
      ],
      "text/plain": [
       "\u001b[2;36m                   \u001b[0m\u001b[2;36m \u001b[0m\u001b[34mINFO    \u001b[0m Iteration \u001b[1;36m19\u001b[0m, Permutation P_1: \u001b[1;36m0.0\u001b[0m                   \u001b]8;id=80075;file:///media/donato/Extra-storage/Code/model-merging/cycle-consistent-model-merging/src/ccmm/matching/weight_matching.py\u001b\\\u001b[2mccmm.matching.weight_matching\u001b[0m\u001b]8;;\u001b\\\u001b[2m:\u001b[0m\u001b]8;id=989961;file:///media/donato/Extra-storage/Code/model-merging/cycle-consistent-model-merging/src/ccmm/matching/weight_matching.py#176\u001b\\\u001b[2m176\u001b[0m\u001b]8;;\u001b\\\n"
      ]
     },
     "metadata": {},
     "output_type": "display_data"
    },
    {
     "name": "stderr",
     "output_type": "stream",
     "text": [
      "Weight matching:  20%|██        | 20/100 [00:01<00:07, 10.94it/s]"
     ]
    },
    {
     "data": {
      "text/html": [
       "<pre style=\"white-space:pre;overflow-x:auto;line-height:normal;font-family:Menlo,'DejaVu Sans Mono',consolas,'Courier New',monospace\"><span style=\"color: #7fbfbf; text-decoration-color: #7fbfbf\">                    </span><span style=\"color: #000080; text-decoration-color: #000080\">INFO    </span> Iteration <span style=\"color: #008080; text-decoration-color: #008080; font-weight: bold\">20</span>, Permutation P_1: <span style=\"color: #008080; text-decoration-color: #008080; font-weight: bold\">0.0</span>                   <a href=\"file:///media/donato/Extra-storage/Code/model-merging/cycle-consistent-model-merging/src/ccmm/matching/weight_matching.py\" target=\"_blank\"><span style=\"color: #7f7f7f; text-decoration-color: #7f7f7f\">ccmm.matching.weight_matching</span></a><span style=\"color: #7f7f7f; text-decoration-color: #7f7f7f\">:</span><a href=\"file:///media/donato/Extra-storage/Code/model-merging/cycle-consistent-model-merging/src/ccmm/matching/weight_matching.py#176\" target=\"_blank\"><span style=\"color: #7f7f7f; text-decoration-color: #7f7f7f\">176</span></a>\n",
       "</pre>\n"
      ],
      "text/plain": [
       "\u001b[2;36m                   \u001b[0m\u001b[2;36m \u001b[0m\u001b[34mINFO    \u001b[0m Iteration \u001b[1;36m20\u001b[0m, Permutation P_1: \u001b[1;36m0.0\u001b[0m                   \u001b]8;id=854124;file:///media/donato/Extra-storage/Code/model-merging/cycle-consistent-model-merging/src/ccmm/matching/weight_matching.py\u001b\\\u001b[2mccmm.matching.weight_matching\u001b[0m\u001b]8;;\u001b\\\u001b[2m:\u001b[0m\u001b]8;id=43278;file:///media/donato/Extra-storage/Code/model-merging/cycle-consistent-model-merging/src/ccmm/matching/weight_matching.py#176\u001b\\\u001b[2m176\u001b[0m\u001b]8;;\u001b\\\n"
      ]
     },
     "metadata": {},
     "output_type": "display_data"
    },
    {
     "data": {
      "text/html": [
       "<pre style=\"white-space:pre;overflow-x:auto;line-height:normal;font-family:Menlo,'DejaVu Sans Mono',consolas,'Courier New',monospace\"><span style=\"color: #7fbfbf; text-decoration-color: #7fbfbf\">                    </span><span style=\"color: #000080; text-decoration-color: #000080\">INFO    </span> Iteration <span style=\"color: #008080; text-decoration-color: #008080; font-weight: bold\">20</span>, Permutation P_0: <span style=\"color: #008080; text-decoration-color: #008080; font-weight: bold\">0.0</span>                   <a href=\"file:///media/donato/Extra-storage/Code/model-merging/cycle-consistent-model-merging/src/ccmm/matching/weight_matching.py\" target=\"_blank\"><span style=\"color: #7f7f7f; text-decoration-color: #7f7f7f\">ccmm.matching.weight_matching</span></a><span style=\"color: #7f7f7f; text-decoration-color: #7f7f7f\">:</span><a href=\"file:///media/donato/Extra-storage/Code/model-merging/cycle-consistent-model-merging/src/ccmm/matching/weight_matching.py#176\" target=\"_blank\"><span style=\"color: #7f7f7f; text-decoration-color: #7f7f7f\">176</span></a>\n",
       "</pre>\n"
      ],
      "text/plain": [
       "\u001b[2;36m                   \u001b[0m\u001b[2;36m \u001b[0m\u001b[34mINFO    \u001b[0m Iteration \u001b[1;36m20\u001b[0m, Permutation P_0: \u001b[1;36m0.0\u001b[0m                   \u001b]8;id=923171;file:///media/donato/Extra-storage/Code/model-merging/cycle-consistent-model-merging/src/ccmm/matching/weight_matching.py\u001b\\\u001b[2mccmm.matching.weight_matching\u001b[0m\u001b]8;;\u001b\\\u001b[2m:\u001b[0m\u001b]8;id=55004;file:///media/donato/Extra-storage/Code/model-merging/cycle-consistent-model-merging/src/ccmm/matching/weight_matching.py#176\u001b\\\u001b[2m176\u001b[0m\u001b]8;;\u001b\\\n"
      ]
     },
     "metadata": {},
     "output_type": "display_data"
    },
    {
     "data": {
      "text/html": [
       "<pre style=\"white-space:pre;overflow-x:auto;line-height:normal;font-family:Menlo,'DejaVu Sans Mono',consolas,'Courier New',monospace\"><span style=\"color: #7fbfbf; text-decoration-color: #7fbfbf\">                    </span><span style=\"color: #000080; text-decoration-color: #000080\">INFO    </span> Iteration <span style=\"color: #008080; text-decoration-color: #008080; font-weight: bold\">20</span>, Permutation P_3: <span style=\"color: #008080; text-decoration-color: #008080; font-weight: bold\">0.0010223388671875</span>    <a href=\"file:///media/donato/Extra-storage/Code/model-merging/cycle-consistent-model-merging/src/ccmm/matching/weight_matching.py\" target=\"_blank\"><span style=\"color: #7f7f7f; text-decoration-color: #7f7f7f\">ccmm.matching.weight_matching</span></a><span style=\"color: #7f7f7f; text-decoration-color: #7f7f7f\">:</span><a href=\"file:///media/donato/Extra-storage/Code/model-merging/cycle-consistent-model-merging/src/ccmm/matching/weight_matching.py#176\" target=\"_blank\"><span style=\"color: #7f7f7f; text-decoration-color: #7f7f7f\">176</span></a>\n",
       "</pre>\n"
      ],
      "text/plain": [
       "\u001b[2;36m                   \u001b[0m\u001b[2;36m \u001b[0m\u001b[34mINFO    \u001b[0m Iteration \u001b[1;36m20\u001b[0m, Permutation P_3: \u001b[1;36m0.0010223388671875\u001b[0m    \u001b]8;id=52921;file:///media/donato/Extra-storage/Code/model-merging/cycle-consistent-model-merging/src/ccmm/matching/weight_matching.py\u001b\\\u001b[2mccmm.matching.weight_matching\u001b[0m\u001b]8;;\u001b\\\u001b[2m:\u001b[0m\u001b]8;id=598332;file:///media/donato/Extra-storage/Code/model-merging/cycle-consistent-model-merging/src/ccmm/matching/weight_matching.py#176\u001b\\\u001b[2m176\u001b[0m\u001b]8;;\u001b\\\n"
      ]
     },
     "metadata": {},
     "output_type": "display_data"
    },
    {
     "data": {
      "text/html": [
       "<pre style=\"white-space:pre;overflow-x:auto;line-height:normal;font-family:Menlo,'DejaVu Sans Mono',consolas,'Courier New',monospace\"><span style=\"color: #7fbfbf; text-decoration-color: #7fbfbf\">                    </span><span style=\"color: #000080; text-decoration-color: #000080\">INFO    </span> Iteration <span style=\"color: #008080; text-decoration-color: #008080; font-weight: bold\">20</span>, Permutation P_2: <span style=\"color: #008080; text-decoration-color: #008080; font-weight: bold\">0.00213623046875</span>      <a href=\"file:///media/donato/Extra-storage/Code/model-merging/cycle-consistent-model-merging/src/ccmm/matching/weight_matching.py\" target=\"_blank\"><span style=\"color: #7f7f7f; text-decoration-color: #7f7f7f\">ccmm.matching.weight_matching</span></a><span style=\"color: #7f7f7f; text-decoration-color: #7f7f7f\">:</span><a href=\"file:///media/donato/Extra-storage/Code/model-merging/cycle-consistent-model-merging/src/ccmm/matching/weight_matching.py#176\" target=\"_blank\"><span style=\"color: #7f7f7f; text-decoration-color: #7f7f7f\">176</span></a>\n",
       "</pre>\n"
      ],
      "text/plain": [
       "\u001b[2;36m                   \u001b[0m\u001b[2;36m \u001b[0m\u001b[34mINFO    \u001b[0m Iteration \u001b[1;36m20\u001b[0m, Permutation P_2: \u001b[1;36m0.00213623046875\u001b[0m      \u001b]8;id=705423;file:///media/donato/Extra-storage/Code/model-merging/cycle-consistent-model-merging/src/ccmm/matching/weight_matching.py\u001b\\\u001b[2mccmm.matching.weight_matching\u001b[0m\u001b]8;;\u001b\\\u001b[2m:\u001b[0m\u001b]8;id=813804;file:///media/donato/Extra-storage/Code/model-merging/cycle-consistent-model-merging/src/ccmm/matching/weight_matching.py#176\u001b\\\u001b[2m176\u001b[0m\u001b]8;;\u001b\\\n"
      ]
     },
     "metadata": {},
     "output_type": "display_data"
    },
    {
     "data": {
      "text/html": [
       "<pre style=\"white-space:pre;overflow-x:auto;line-height:normal;font-family:Menlo,'DejaVu Sans Mono',consolas,'Courier New',monospace\"><span style=\"color: #7fbfbf; text-decoration-color: #7fbfbf\">                    </span><span style=\"color: #000080; text-decoration-color: #000080\">INFO    </span> Iteration <span style=\"color: #008080; text-decoration-color: #008080; font-weight: bold\">21</span>, Permutation P_3: <span style=\"color: #008080; text-decoration-color: #008080; font-weight: bold\">0.0</span>                   <a href=\"file:///media/donato/Extra-storage/Code/model-merging/cycle-consistent-model-merging/src/ccmm/matching/weight_matching.py\" target=\"_blank\"><span style=\"color: #7f7f7f; text-decoration-color: #7f7f7f\">ccmm.matching.weight_matching</span></a><span style=\"color: #7f7f7f; text-decoration-color: #7f7f7f\">:</span><a href=\"file:///media/donato/Extra-storage/Code/model-merging/cycle-consistent-model-merging/src/ccmm/matching/weight_matching.py#176\" target=\"_blank\"><span style=\"color: #7f7f7f; text-decoration-color: #7f7f7f\">176</span></a>\n",
       "</pre>\n"
      ],
      "text/plain": [
       "\u001b[2;36m                   \u001b[0m\u001b[2;36m \u001b[0m\u001b[34mINFO    \u001b[0m Iteration \u001b[1;36m21\u001b[0m, Permutation P_3: \u001b[1;36m0.0\u001b[0m                   \u001b]8;id=916718;file:///media/donato/Extra-storage/Code/model-merging/cycle-consistent-model-merging/src/ccmm/matching/weight_matching.py\u001b\\\u001b[2mccmm.matching.weight_matching\u001b[0m\u001b]8;;\u001b\\\u001b[2m:\u001b[0m\u001b]8;id=943231;file:///media/donato/Extra-storage/Code/model-merging/cycle-consistent-model-merging/src/ccmm/matching/weight_matching.py#176\u001b\\\u001b[2m176\u001b[0m\u001b]8;;\u001b\\\n"
      ]
     },
     "metadata": {},
     "output_type": "display_data"
    },
    {
     "data": {
      "text/html": [
       "<pre style=\"white-space:pre;overflow-x:auto;line-height:normal;font-family:Menlo,'DejaVu Sans Mono',consolas,'Courier New',monospace\"><span style=\"color: #7fbfbf; text-decoration-color: #7fbfbf\">                    </span><span style=\"color: #000080; text-decoration-color: #000080\">INFO    </span> Iteration <span style=\"color: #008080; text-decoration-color: #008080; font-weight: bold\">21</span>, Permutation P_0: <span style=\"color: #008080; text-decoration-color: #008080; font-weight: bold\">0.0</span>                   <a href=\"file:///media/donato/Extra-storage/Code/model-merging/cycle-consistent-model-merging/src/ccmm/matching/weight_matching.py\" target=\"_blank\"><span style=\"color: #7f7f7f; text-decoration-color: #7f7f7f\">ccmm.matching.weight_matching</span></a><span style=\"color: #7f7f7f; text-decoration-color: #7f7f7f\">:</span><a href=\"file:///media/donato/Extra-storage/Code/model-merging/cycle-consistent-model-merging/src/ccmm/matching/weight_matching.py#176\" target=\"_blank\"><span style=\"color: #7f7f7f; text-decoration-color: #7f7f7f\">176</span></a>\n",
       "</pre>\n"
      ],
      "text/plain": [
       "\u001b[2;36m                   \u001b[0m\u001b[2;36m \u001b[0m\u001b[34mINFO    \u001b[0m Iteration \u001b[1;36m21\u001b[0m, Permutation P_0: \u001b[1;36m0.0\u001b[0m                   \u001b]8;id=498666;file:///media/donato/Extra-storage/Code/model-merging/cycle-consistent-model-merging/src/ccmm/matching/weight_matching.py\u001b\\\u001b[2mccmm.matching.weight_matching\u001b[0m\u001b]8;;\u001b\\\u001b[2m:\u001b[0m\u001b]8;id=252915;file:///media/donato/Extra-storage/Code/model-merging/cycle-consistent-model-merging/src/ccmm/matching/weight_matching.py#176\u001b\\\u001b[2m176\u001b[0m\u001b]8;;\u001b\\\n"
      ]
     },
     "metadata": {},
     "output_type": "display_data"
    },
    {
     "data": {
      "text/html": [
       "<pre style=\"white-space:pre;overflow-x:auto;line-height:normal;font-family:Menlo,'DejaVu Sans Mono',consolas,'Courier New',monospace\"><span style=\"color: #7fbfbf; text-decoration-color: #7fbfbf\">                    </span><span style=\"color: #000080; text-decoration-color: #000080\">INFO    </span> Iteration <span style=\"color: #008080; text-decoration-color: #008080; font-weight: bold\">21</span>, Permutation P_2: <span style=\"color: #008080; text-decoration-color: #008080; font-weight: bold\">0.0</span>                   <a href=\"file:///media/donato/Extra-storage/Code/model-merging/cycle-consistent-model-merging/src/ccmm/matching/weight_matching.py\" target=\"_blank\"><span style=\"color: #7f7f7f; text-decoration-color: #7f7f7f\">ccmm.matching.weight_matching</span></a><span style=\"color: #7f7f7f; text-decoration-color: #7f7f7f\">:</span><a href=\"file:///media/donato/Extra-storage/Code/model-merging/cycle-consistent-model-merging/src/ccmm/matching/weight_matching.py#176\" target=\"_blank\"><span style=\"color: #7f7f7f; text-decoration-color: #7f7f7f\">176</span></a>\n",
       "</pre>\n"
      ],
      "text/plain": [
       "\u001b[2;36m                   \u001b[0m\u001b[2;36m \u001b[0m\u001b[34mINFO    \u001b[0m Iteration \u001b[1;36m21\u001b[0m, Permutation P_2: \u001b[1;36m0.0\u001b[0m                   \u001b]8;id=76738;file:///media/donato/Extra-storage/Code/model-merging/cycle-consistent-model-merging/src/ccmm/matching/weight_matching.py\u001b\\\u001b[2mccmm.matching.weight_matching\u001b[0m\u001b]8;;\u001b\\\u001b[2m:\u001b[0m\u001b]8;id=363439;file:///media/donato/Extra-storage/Code/model-merging/cycle-consistent-model-merging/src/ccmm/matching/weight_matching.py#176\u001b\\\u001b[2m176\u001b[0m\u001b]8;;\u001b\\\n"
      ]
     },
     "metadata": {},
     "output_type": "display_data"
    },
    {
     "data": {
      "text/html": [
       "<pre style=\"white-space:pre;overflow-x:auto;line-height:normal;font-family:Menlo,'DejaVu Sans Mono',consolas,'Courier New',monospace\"><span style=\"color: #7fbfbf; text-decoration-color: #7fbfbf\">                    </span><span style=\"color: #000080; text-decoration-color: #000080\">INFO    </span> Iteration <span style=\"color: #008080; text-decoration-color: #008080; font-weight: bold\">21</span>, Permutation P_1: <span style=\"color: #008080; text-decoration-color: #008080; font-weight: bold\">0.0</span>                   <a href=\"file:///media/donato/Extra-storage/Code/model-merging/cycle-consistent-model-merging/src/ccmm/matching/weight_matching.py\" target=\"_blank\"><span style=\"color: #7f7f7f; text-decoration-color: #7f7f7f\">ccmm.matching.weight_matching</span></a><span style=\"color: #7f7f7f; text-decoration-color: #7f7f7f\">:</span><a href=\"file:///media/donato/Extra-storage/Code/model-merging/cycle-consistent-model-merging/src/ccmm/matching/weight_matching.py#176\" target=\"_blank\"><span style=\"color: #7f7f7f; text-decoration-color: #7f7f7f\">176</span></a>\n",
       "</pre>\n"
      ],
      "text/plain": [
       "\u001b[2;36m                   \u001b[0m\u001b[2;36m \u001b[0m\u001b[34mINFO    \u001b[0m Iteration \u001b[1;36m21\u001b[0m, Permutation P_1: \u001b[1;36m0.0\u001b[0m                   \u001b]8;id=63351;file:///media/donato/Extra-storage/Code/model-merging/cycle-consistent-model-merging/src/ccmm/matching/weight_matching.py\u001b\\\u001b[2mccmm.matching.weight_matching\u001b[0m\u001b]8;;\u001b\\\u001b[2m:\u001b[0m\u001b]8;id=150495;file:///media/donato/Extra-storage/Code/model-merging/cycle-consistent-model-merging/src/ccmm/matching/weight_matching.py#176\u001b\\\u001b[2m176\u001b[0m\u001b]8;;\u001b\\\n"
      ]
     },
     "metadata": {},
     "output_type": "display_data"
    },
    {
     "name": "stderr",
     "output_type": "stream",
     "text": [
      "Weight matching:  21%|██        | 21/100 [00:02<00:08,  9.66it/s]"
     ]
    },
    {
     "name": "stdout",
     "output_type": "stream",
     "text": [
      "Function __call__ Took 2.1750 seconds\n"
     ]
    },
    {
     "name": "stderr",
     "output_type": "stream",
     "text": [
      "\n"
     ]
    }
   ],
   "source": [
    "# dicts for permutations and permuted params, D[a][b] refers to the permutation/params to map b -> a\n",
    "gitrebasin_permutations = {symb: {other_symb: None for other_symb in symbols.difference(symb)} for symb in symbols}\n",
    "\n",
    "matcher = GitRebasinMatcher(name=\"git_rebasin\", permutation_spec=permutation_spec)\n",
    "gitrebasin_permutations[fixed_symbol][permutee_symbol], perm_history = matcher(\n",
    "    fixed=fixed_model.model.cpu(), permutee=permutee_model.model.cpu()\n",
    ")\n",
    "\n",
    "gitrebasin_permutations[permutee_symbol][fixed_symbol] = get_inverse_permutations(\n",
    "    gitrebasin_permutations[fixed_symbol][permutee_symbol]\n",
    ")"
   ]
  },
  {
   "cell_type": "code",
   "execution_count": 62,
   "metadata": {},
   "outputs": [
    {
     "data": {
      "text/html": [
       "<pre style=\"white-space:pre;overflow-x:auto;line-height:normal;font-family:Menlo,'DejaVu Sans Mono',consolas,'Courier New',monospace\"><span style=\"color: #7fbfbf; text-decoration-color: #7fbfbf\">                    </span><span style=\"color: #000080; text-decoration-color: #000080\">INFO    </span> Permuting model b into a.                                                   <a href=\"file:///tmp/ipykernel_11089/290635983.py\" target=\"_blank\"><span style=\"color: #7f7f7f; text-decoration-color: #7f7f7f\">__main__</span></a><span style=\"color: #7f7f7f; text-decoration-color: #7f7f7f\">:</span><a href=\"file:///tmp/ipykernel_11089/290635983.py#7\" target=\"_blank\"><span style=\"color: #7f7f7f; text-decoration-color: #7f7f7f\">7</span></a>\n",
       "</pre>\n"
      ],
      "text/plain": [
       "\u001b[2;36m                   \u001b[0m\u001b[2;36m \u001b[0m\u001b[34mINFO    \u001b[0m Permuting model b into a.                                                   \u001b]8;id=137991;file:///tmp/ipykernel_11089/290635983.py\u001b\\\u001b[2m__main__\u001b[0m\u001b]8;;\u001b\\\u001b[2m:\u001b[0m\u001b]8;id=842570;file:///tmp/ipykernel_11089/290635983.py#7\u001b\\\u001b[2m7\u001b[0m\u001b]8;;\u001b\\\n"
      ]
     },
     "metadata": {},
     "output_type": "display_data"
    },
    {
     "name": "stderr",
     "output_type": "stream",
     "text": [
      "/home/donato/miniconda3/envs/ccmm/lib/python3.9/site-packages/pytorch_lightning/trainer/connectors/accelerator_connector.py:447: LightningDeprecationWarning: Setting `Trainer(gpus=1)` is deprecated in v1.7 and will be removed in v2.0. Please use `Trainer(accelerator='gpu', devices=1)` instead.\n",
      "  rank_zero_deprecation(\n"
     ]
    },
    {
     "data": {
      "text/html": [
       "<pre style=\"white-space:pre;overflow-x:auto;line-height:normal;font-family:Menlo,'DejaVu Sans Mono',consolas,'Courier New',monospace\"><span style=\"color: #7fbfbf; text-decoration-color: #7fbfbf\">                    </span><span style=\"color: #000080; text-decoration-color: #000080\">INFO    </span> GPU available: <span style=\"color: #00ff00; text-decoration-color: #00ff00; font-style: italic\">True</span> <span style=\"font-weight: bold\">(</span>cuda<span style=\"font-weight: bold\">)</span>, used: <span style=\"color: #00ff00; text-decoration-color: #00ff00; font-style: italic\">True</span>      <a href=\"file:///home/donato/miniconda3/envs/ccmm/lib/python3.9/site-packages/pytorch_lightning/trainer/trainer.py\" target=\"_blank\"><span style=\"color: #7f7f7f; text-decoration-color: #7f7f7f\">pytorch_lightning.utilities.rank_zero</span></a><span style=\"color: #7f7f7f; text-decoration-color: #7f7f7f\">:</span><a href=\"file:///home/donato/miniconda3/envs/ccmm/lib/python3.9/site-packages/pytorch_lightning/trainer/trainer.py#1751\" target=\"_blank\"><span style=\"color: #7f7f7f; text-decoration-color: #7f7f7f\">1751</span></a>\n",
       "</pre>\n"
      ],
      "text/plain": [
       "\u001b[2;36m                   \u001b[0m\u001b[2;36m \u001b[0m\u001b[34mINFO    \u001b[0m GPU available: \u001b[3;92mTrue\u001b[0m \u001b[1m(\u001b[0mcuda\u001b[1m)\u001b[0m, used: \u001b[3;92mTrue\u001b[0m      \u001b]8;id=758468;file:///home/donato/miniconda3/envs/ccmm/lib/python3.9/site-packages/pytorch_lightning/trainer/trainer.py\u001b\\\u001b[2mpytorch_lightning.utilities.rank_zero\u001b[0m\u001b]8;;\u001b\\\u001b[2m:\u001b[0m\u001b]8;id=539365;file:///home/donato/miniconda3/envs/ccmm/lib/python3.9/site-packages/pytorch_lightning/trainer/trainer.py#1751\u001b\\\u001b[2m1751\u001b[0m\u001b]8;;\u001b\\\n"
      ]
     },
     "metadata": {},
     "output_type": "display_data"
    },
    {
     "data": {
      "text/html": [
       "<pre style=\"white-space:pre;overflow-x:auto;line-height:normal;font-family:Menlo,'DejaVu Sans Mono',consolas,'Courier New',monospace\"><span style=\"color: #7fbfbf; text-decoration-color: #7fbfbf\">                    </span><span style=\"color: #000080; text-decoration-color: #000080\">INFO    </span> TPU available: <span style=\"color: #ff0000; text-decoration-color: #ff0000; font-style: italic\">False</span>, using: <span style=\"color: #008080; text-decoration-color: #008080; font-weight: bold\">0</span> TPU cores    <a href=\"file:///home/donato/miniconda3/envs/ccmm/lib/python3.9/site-packages/pytorch_lightning/trainer/trainer.py\" target=\"_blank\"><span style=\"color: #7f7f7f; text-decoration-color: #7f7f7f\">pytorch_lightning.utilities.rank_zero</span></a><span style=\"color: #7f7f7f; text-decoration-color: #7f7f7f\">:</span><a href=\"file:///home/donato/miniconda3/envs/ccmm/lib/python3.9/site-packages/pytorch_lightning/trainer/trainer.py#1754\" target=\"_blank\"><span style=\"color: #7f7f7f; text-decoration-color: #7f7f7f\">1754</span></a>\n",
       "</pre>\n"
      ],
      "text/plain": [
       "\u001b[2;36m                   \u001b[0m\u001b[2;36m \u001b[0m\u001b[34mINFO    \u001b[0m TPU available: \u001b[3;91mFalse\u001b[0m, using: \u001b[1;36m0\u001b[0m TPU cores    \u001b]8;id=363952;file:///home/donato/miniconda3/envs/ccmm/lib/python3.9/site-packages/pytorch_lightning/trainer/trainer.py\u001b\\\u001b[2mpytorch_lightning.utilities.rank_zero\u001b[0m\u001b]8;;\u001b\\\u001b[2m:\u001b[0m\u001b]8;id=556335;file:///home/donato/miniconda3/envs/ccmm/lib/python3.9/site-packages/pytorch_lightning/trainer/trainer.py#1754\u001b\\\u001b[2m1754\u001b[0m\u001b]8;;\u001b\\\n"
      ]
     },
     "metadata": {},
     "output_type": "display_data"
    },
    {
     "data": {
      "text/html": [
       "<pre style=\"white-space:pre;overflow-x:auto;line-height:normal;font-family:Menlo,'DejaVu Sans Mono',consolas,'Courier New',monospace\"><span style=\"color: #7fbfbf; text-decoration-color: #7fbfbf\">                    </span><span style=\"color: #000080; text-decoration-color: #000080\">INFO    </span> IPU available: <span style=\"color: #ff0000; text-decoration-color: #ff0000; font-style: italic\">False</span>, using: <span style=\"color: #008080; text-decoration-color: #008080; font-weight: bold\">0</span> IPUs         <a href=\"file:///home/donato/miniconda3/envs/ccmm/lib/python3.9/site-packages/pytorch_lightning/trainer/trainer.py\" target=\"_blank\"><span style=\"color: #7f7f7f; text-decoration-color: #7f7f7f\">pytorch_lightning.utilities.rank_zero</span></a><span style=\"color: #7f7f7f; text-decoration-color: #7f7f7f\">:</span><a href=\"file:///home/donato/miniconda3/envs/ccmm/lib/python3.9/site-packages/pytorch_lightning/trainer/trainer.py#1757\" target=\"_blank\"><span style=\"color: #7f7f7f; text-decoration-color: #7f7f7f\">1757</span></a>\n",
       "</pre>\n"
      ],
      "text/plain": [
       "\u001b[2;36m                   \u001b[0m\u001b[2;36m \u001b[0m\u001b[34mINFO    \u001b[0m IPU available: \u001b[3;91mFalse\u001b[0m, using: \u001b[1;36m0\u001b[0m IPUs         \u001b]8;id=820550;file:///home/donato/miniconda3/envs/ccmm/lib/python3.9/site-packages/pytorch_lightning/trainer/trainer.py\u001b\\\u001b[2mpytorch_lightning.utilities.rank_zero\u001b[0m\u001b]8;;\u001b\\\u001b[2m:\u001b[0m\u001b]8;id=33189;file:///home/donato/miniconda3/envs/ccmm/lib/python3.9/site-packages/pytorch_lightning/trainer/trainer.py#1757\u001b\\\u001b[2m1757\u001b[0m\u001b]8;;\u001b\\\n"
      ]
     },
     "metadata": {},
     "output_type": "display_data"
    },
    {
     "data": {
      "text/html": [
       "<pre style=\"white-space:pre;overflow-x:auto;line-height:normal;font-family:Menlo,'DejaVu Sans Mono',consolas,'Courier New',monospace\"><span style=\"color: #7fbfbf; text-decoration-color: #7fbfbf\">                    </span><span style=\"color: #000080; text-decoration-color: #000080\">INFO    </span> HPU available: <span style=\"color: #ff0000; text-decoration-color: #ff0000; font-style: italic\">False</span>, using: <span style=\"color: #008080; text-decoration-color: #008080; font-weight: bold\">0</span> HPUs         <a href=\"file:///home/donato/miniconda3/envs/ccmm/lib/python3.9/site-packages/pytorch_lightning/trainer/trainer.py\" target=\"_blank\"><span style=\"color: #7f7f7f; text-decoration-color: #7f7f7f\">pytorch_lightning.utilities.rank_zero</span></a><span style=\"color: #7f7f7f; text-decoration-color: #7f7f7f\">:</span><a href=\"file:///home/donato/miniconda3/envs/ccmm/lib/python3.9/site-packages/pytorch_lightning/trainer/trainer.py#1760\" target=\"_blank\"><span style=\"color: #7f7f7f; text-decoration-color: #7f7f7f\">1760</span></a>\n",
       "</pre>\n"
      ],
      "text/plain": [
       "\u001b[2;36m                   \u001b[0m\u001b[2;36m \u001b[0m\u001b[34mINFO    \u001b[0m HPU available: \u001b[3;91mFalse\u001b[0m, using: \u001b[1;36m0\u001b[0m HPUs         \u001b]8;id=253750;file:///home/donato/miniconda3/envs/ccmm/lib/python3.9/site-packages/pytorch_lightning/trainer/trainer.py\u001b\\\u001b[2mpytorch_lightning.utilities.rank_zero\u001b[0m\u001b]8;;\u001b\\\u001b[2m:\u001b[0m\u001b]8;id=243295;file:///home/donato/miniconda3/envs/ccmm/lib/python3.9/site-packages/pytorch_lightning/trainer/trainer.py#1760\u001b\\\u001b[2m1760\u001b[0m\u001b]8;;\u001b\\\n"
      ]
     },
     "metadata": {},
     "output_type": "display_data"
    },
    {
     "name": "stderr",
     "output_type": "stream",
     "text": [
      "  0%|          | 0/3 [00:00<?, ?it/s]"
     ]
    },
    {
     "data": {
      "text/html": [
       "<pre style=\"white-space:pre;overflow-x:auto;line-height:normal;font-family:Menlo,'DejaVu Sans Mono',consolas,'Courier New',monospace\"><span style=\"color: #7fbfbf; text-decoration-color: #7fbfbf\">                    </span><span style=\"color: #000080; text-decoration-color: #000080\">INFO    </span> Evaluating interpolated model with lambda: <span style=\"color: #008080; text-decoration-color: #008080; font-weight: bold\">0.0</span>                    <a href=\"file:///media/donato/Extra-storage/Code/model-merging/cycle-consistent-model-merging/src/ccmm/utils/utils.py\" target=\"_blank\"><span style=\"color: #7f7f7f; text-decoration-color: #7f7f7f\">ccmm.utils.utils</span></a><span style=\"color: #7f7f7f; text-decoration-color: #7f7f7f\">:</span><a href=\"file:///media/donato/Extra-storage/Code/model-merging/cycle-consistent-model-merging/src/ccmm/utils/utils.py#168\" target=\"_blank\"><span style=\"color: #7f7f7f; text-decoration-color: #7f7f7f\">168</span></a>\n",
       "</pre>\n"
      ],
      "text/plain": [
       "\u001b[2;36m                   \u001b[0m\u001b[2;36m \u001b[0m\u001b[34mINFO    \u001b[0m Evaluating interpolated model with lambda: \u001b[1;36m0.0\u001b[0m                    \u001b]8;id=796265;file:///media/donato/Extra-storage/Code/model-merging/cycle-consistent-model-merging/src/ccmm/utils/utils.py\u001b\\\u001b[2mccmm.utils.utils\u001b[0m\u001b]8;;\u001b\\\u001b[2m:\u001b[0m\u001b]8;id=109063;file:///media/donato/Extra-storage/Code/model-merging/cycle-consistent-model-merging/src/ccmm/utils/utils.py#168\u001b\\\u001b[2m168\u001b[0m\u001b]8;;\u001b\\\n"
      ]
     },
     "metadata": {},
     "output_type": "display_data"
    },
    {
     "data": {
      "text/html": [
       "<pre style=\"white-space:pre;overflow-x:auto;line-height:normal;font-family:Menlo,'DejaVu Sans Mono',consolas,'Courier New',monospace\">┏━━━━━━━━━━━━━━━━━━━━━━━━━━━┳━━━━━━━━━━━━━━━━━━━━━━━━━━━┓\n",
       "┃<span style=\"font-weight: bold\">        Test metric        </span>┃<span style=\"font-weight: bold\">       DataLoader 0        </span>┃\n",
       "┡━━━━━━━━━━━━━━━━━━━━━━━━━━━╇━━━━━━━━━━━━━━━━━━━━━━━━━━━┩\n",
       "│<span style=\"color: #008080; text-decoration-color: #008080\">         acc/test          </span>│<span style=\"color: #800080; text-decoration-color: #800080\">    0.9811000227928162     </span>│\n",
       "│<span style=\"color: #008080; text-decoration-color: #008080\">         loss/test         </span>│<span style=\"color: #800080; text-decoration-color: #800080\">    0.04600973054766655    </span>│\n",
       "└───────────────────────────┴───────────────────────────┘\n",
       "</pre>\n"
      ],
      "text/plain": [
       "┏━━━━━━━━━━━━━━━━━━━━━━━━━━━┳━━━━━━━━━━━━━━━━━━━━━━━━━━━┓\n",
       "┃\u001b[1m \u001b[0m\u001b[1m       Test metric       \u001b[0m\u001b[1m \u001b[0m┃\u001b[1m \u001b[0m\u001b[1m      DataLoader 0       \u001b[0m\u001b[1m \u001b[0m┃\n",
       "┡━━━━━━━━━━━━━━━━━━━━━━━━━━━╇━━━━━━━━━━━━━━━━━━━━━━━━━━━┩\n",
       "│\u001b[36m \u001b[0m\u001b[36m        acc/test         \u001b[0m\u001b[36m \u001b[0m│\u001b[35m \u001b[0m\u001b[35m   0.9811000227928162    \u001b[0m\u001b[35m \u001b[0m│\n",
       "│\u001b[36m \u001b[0m\u001b[36m        loss/test        \u001b[0m\u001b[36m \u001b[0m│\u001b[35m \u001b[0m\u001b[35m   0.04600973054766655   \u001b[0m\u001b[35m \u001b[0m│\n",
       "└───────────────────────────┴───────────────────────────┘\n"
      ]
     },
     "metadata": {},
     "output_type": "display_data"
    },
    {
     "data": {
      "text/html": [
       "<pre style=\"white-space:pre;overflow-x:auto;line-height:normal;font-family:Menlo,'DejaVu Sans Mono',consolas,'Courier New',monospace\">┏━━━━━━━━━━━━━━━━━━━━━━━━━━━┳━━━━━━━━━━━━━━━━━━━━━━━━━━━┓\n",
       "┃<span style=\"font-weight: bold\">        Test metric        </span>┃<span style=\"font-weight: bold\">       DataLoader 0        </span>┃\n",
       "┡━━━━━━━━━━━━━━━━━━━━━━━━━━━╇━━━━━━━━━━━━━━━━━━━━━━━━━━━┩\n",
       "│<span style=\"color: #008080; text-decoration-color: #008080\">         acc/test          </span>│<span style=\"color: #800080; text-decoration-color: #800080\">    0.9308000206947327     </span>│\n",
       "│<span style=\"color: #008080; text-decoration-color: #008080\">         loss/test         </span>│<span style=\"color: #800080; text-decoration-color: #800080\">    0.42840489745140076    </span>│\n",
       "└───────────────────────────┴───────────────────────────┘\n",
       "</pre>\n"
      ],
      "text/plain": [
       "┏━━━━━━━━━━━━━━━━━━━━━━━━━━━┳━━━━━━━━━━━━━━━━━━━━━━━━━━━┓\n",
       "┃\u001b[1m \u001b[0m\u001b[1m       Test metric       \u001b[0m\u001b[1m \u001b[0m┃\u001b[1m \u001b[0m\u001b[1m      DataLoader 0       \u001b[0m\u001b[1m \u001b[0m┃\n",
       "┡━━━━━━━━━━━━━━━━━━━━━━━━━━━╇━━━━━━━━━━━━━━━━━━━━━━━━━━━┩\n",
       "│\u001b[36m \u001b[0m\u001b[36m        acc/test         \u001b[0m\u001b[36m \u001b[0m│\u001b[35m \u001b[0m\u001b[35m   0.9308000206947327    \u001b[0m\u001b[35m \u001b[0m│\n",
       "│\u001b[36m \u001b[0m\u001b[36m        loss/test        \u001b[0m\u001b[36m \u001b[0m│\u001b[35m \u001b[0m\u001b[35m   0.42840489745140076   \u001b[0m\u001b[35m \u001b[0m│\n",
       "└───────────────────────────┴───────────────────────────┘\n"
      ]
     },
     "metadata": {},
     "output_type": "display_data"
    },
    {
     "name": "stderr",
     "output_type": "stream",
     "text": [
      " 33%|███▎      | 1/3 [00:01<00:03,  1.89s/it]"
     ]
    },
    {
     "data": {
      "text/html": [
       "<pre style=\"white-space:pre;overflow-x:auto;line-height:normal;font-family:Menlo,'DejaVu Sans Mono',consolas,'Courier New',monospace\"><span style=\"color: #7fbfbf; text-decoration-color: #7fbfbf\">2025-01-03 08:29:08 </span><span style=\"color: #000080; text-decoration-color: #000080\">INFO    </span> Evaluating interpolated model with lambda: <span style=\"color: #008080; text-decoration-color: #008080; font-weight: bold\">0.5</span>                    <a href=\"file:///media/donato/Extra-storage/Code/model-merging/cycle-consistent-model-merging/src/ccmm/utils/utils.py\" target=\"_blank\"><span style=\"color: #7f7f7f; text-decoration-color: #7f7f7f\">ccmm.utils.utils</span></a><span style=\"color: #7f7f7f; text-decoration-color: #7f7f7f\">:</span><a href=\"file:///media/donato/Extra-storage/Code/model-merging/cycle-consistent-model-merging/src/ccmm/utils/utils.py#168\" target=\"_blank\"><span style=\"color: #7f7f7f; text-decoration-color: #7f7f7f\">168</span></a>\n",
       "</pre>\n"
      ],
      "text/plain": [
       "\u001b[2;36m2025-01-03 08:29:08\u001b[0m\u001b[2;36m \u001b[0m\u001b[34mINFO    \u001b[0m Evaluating interpolated model with lambda: \u001b[1;36m0.5\u001b[0m                    \u001b]8;id=740476;file:///media/donato/Extra-storage/Code/model-merging/cycle-consistent-model-merging/src/ccmm/utils/utils.py\u001b\\\u001b[2mccmm.utils.utils\u001b[0m\u001b]8;;\u001b\\\u001b[2m:\u001b[0m\u001b]8;id=904548;file:///media/donato/Extra-storage/Code/model-merging/cycle-consistent-model-merging/src/ccmm/utils/utils.py#168\u001b\\\u001b[2m168\u001b[0m\u001b]8;;\u001b\\\n"
      ]
     },
     "metadata": {},
     "output_type": "display_data"
    },
    {
     "data": {
      "text/html": [
       "<pre style=\"white-space:pre;overflow-x:auto;line-height:normal;font-family:Menlo,'DejaVu Sans Mono',consolas,'Courier New',monospace\">┏━━━━━━━━━━━━━━━━━━━━━━━━━━━┳━━━━━━━━━━━━━━━━━━━━━━━━━━━┓\n",
       "┃<span style=\"font-weight: bold\">        Test metric        </span>┃<span style=\"font-weight: bold\">       DataLoader 0        </span>┃\n",
       "┡━━━━━━━━━━━━━━━━━━━━━━━━━━━╇━━━━━━━━━━━━━━━━━━━━━━━━━━━┩\n",
       "│<span style=\"color: #008080; text-decoration-color: #008080\">         acc/test          </span>│<span style=\"color: #800080; text-decoration-color: #800080\">    0.9419000148773193     </span>│\n",
       "│<span style=\"color: #008080; text-decoration-color: #008080\">         loss/test         </span>│<span style=\"color: #800080; text-decoration-color: #800080\">    0.24336908757686615    </span>│\n",
       "└───────────────────────────┴───────────────────────────┘\n",
       "</pre>\n"
      ],
      "text/plain": [
       "┏━━━━━━━━━━━━━━━━━━━━━━━━━━━┳━━━━━━━━━━━━━━━━━━━━━━━━━━━┓\n",
       "┃\u001b[1m \u001b[0m\u001b[1m       Test metric       \u001b[0m\u001b[1m \u001b[0m┃\u001b[1m \u001b[0m\u001b[1m      DataLoader 0       \u001b[0m\u001b[1m \u001b[0m┃\n",
       "┡━━━━━━━━━━━━━━━━━━━━━━━━━━━╇━━━━━━━━━━━━━━━━━━━━━━━━━━━┩\n",
       "│\u001b[36m \u001b[0m\u001b[36m        acc/test         \u001b[0m\u001b[36m \u001b[0m│\u001b[35m \u001b[0m\u001b[35m   0.9419000148773193    \u001b[0m\u001b[35m \u001b[0m│\n",
       "│\u001b[36m \u001b[0m\u001b[36m        loss/test        \u001b[0m\u001b[36m \u001b[0m│\u001b[35m \u001b[0m\u001b[35m   0.24336908757686615   \u001b[0m\u001b[35m \u001b[0m│\n",
       "└───────────────────────────┴───────────────────────────┘\n"
      ]
     },
     "metadata": {},
     "output_type": "display_data"
    },
    {
     "data": {
      "text/html": [
       "<pre style=\"white-space:pre;overflow-x:auto;line-height:normal;font-family:Menlo,'DejaVu Sans Mono',consolas,'Courier New',monospace\">┏━━━━━━━━━━━━━━━━━━━━━━━━━━━┳━━━━━━━━━━━━━━━━━━━━━━━━━━━┓\n",
       "┃<span style=\"font-weight: bold\">        Test metric        </span>┃<span style=\"font-weight: bold\">       DataLoader 0        </span>┃\n",
       "┡━━━━━━━━━━━━━━━━━━━━━━━━━━━╇━━━━━━━━━━━━━━━━━━━━━━━━━━━┩\n",
       "│<span style=\"color: #008080; text-decoration-color: #008080\">         acc/test          </span>│<span style=\"color: #800080; text-decoration-color: #800080\">    0.9179999828338623     </span>│\n",
       "│<span style=\"color: #008080; text-decoration-color: #008080\">         loss/test         </span>│<span style=\"color: #800080; text-decoration-color: #800080\">    0.30520471930503845    </span>│\n",
       "└───────────────────────────┴───────────────────────────┘\n",
       "</pre>\n"
      ],
      "text/plain": [
       "┏━━━━━━━━━━━━━━━━━━━━━━━━━━━┳━━━━━━━━━━━━━━━━━━━━━━━━━━━┓\n",
       "┃\u001b[1m \u001b[0m\u001b[1m       Test metric       \u001b[0m\u001b[1m \u001b[0m┃\u001b[1m \u001b[0m\u001b[1m      DataLoader 0       \u001b[0m\u001b[1m \u001b[0m┃\n",
       "┡━━━━━━━━━━━━━━━━━━━━━━━━━━━╇━━━━━━━━━━━━━━━━━━━━━━━━━━━┩\n",
       "│\u001b[36m \u001b[0m\u001b[36m        acc/test         \u001b[0m\u001b[36m \u001b[0m│\u001b[35m \u001b[0m\u001b[35m   0.9179999828338623    \u001b[0m\u001b[35m \u001b[0m│\n",
       "│\u001b[36m \u001b[0m\u001b[36m        loss/test        \u001b[0m\u001b[36m \u001b[0m│\u001b[35m \u001b[0m\u001b[35m   0.30520471930503845   \u001b[0m\u001b[35m \u001b[0m│\n",
       "└───────────────────────────┴───────────────────────────┘\n"
      ]
     },
     "metadata": {},
     "output_type": "display_data"
    },
    {
     "name": "stderr",
     "output_type": "stream",
     "text": [
      " 67%|██████▋   | 2/3 [00:03<00:01,  1.91s/it]"
     ]
    },
    {
     "data": {
      "text/html": [
       "<pre style=\"white-space:pre;overflow-x:auto;line-height:normal;font-family:Menlo,'DejaVu Sans Mono',consolas,'Courier New',monospace\"><span style=\"color: #7fbfbf; text-decoration-color: #7fbfbf\">2025-01-03 08:29:10 </span><span style=\"color: #000080; text-decoration-color: #000080\">INFO    </span> Evaluating interpolated model with lambda: <span style=\"color: #008080; text-decoration-color: #008080; font-weight: bold\">1.0</span>                    <a href=\"file:///media/donato/Extra-storage/Code/model-merging/cycle-consistent-model-merging/src/ccmm/utils/utils.py\" target=\"_blank\"><span style=\"color: #7f7f7f; text-decoration-color: #7f7f7f\">ccmm.utils.utils</span></a><span style=\"color: #7f7f7f; text-decoration-color: #7f7f7f\">:</span><a href=\"file:///media/donato/Extra-storage/Code/model-merging/cycle-consistent-model-merging/src/ccmm/utils/utils.py#168\" target=\"_blank\"><span style=\"color: #7f7f7f; text-decoration-color: #7f7f7f\">168</span></a>\n",
       "</pre>\n"
      ],
      "text/plain": [
       "\u001b[2;36m2025-01-03 08:29:10\u001b[0m\u001b[2;36m \u001b[0m\u001b[34mINFO    \u001b[0m Evaluating interpolated model with lambda: \u001b[1;36m1.0\u001b[0m                    \u001b]8;id=279204;file:///media/donato/Extra-storage/Code/model-merging/cycle-consistent-model-merging/src/ccmm/utils/utils.py\u001b\\\u001b[2mccmm.utils.utils\u001b[0m\u001b]8;;\u001b\\\u001b[2m:\u001b[0m\u001b]8;id=119238;file:///media/donato/Extra-storage/Code/model-merging/cycle-consistent-model-merging/src/ccmm/utils/utils.py#168\u001b\\\u001b[2m168\u001b[0m\u001b]8;;\u001b\\\n"
      ]
     },
     "metadata": {},
     "output_type": "display_data"
    },
    {
     "data": {
      "text/html": [
       "<pre style=\"white-space:pre;overflow-x:auto;line-height:normal;font-family:Menlo,'DejaVu Sans Mono',consolas,'Courier New',monospace\">┏━━━━━━━━━━━━━━━━━━━━━━━━━━━┳━━━━━━━━━━━━━━━━━━━━━━━━━━━┓\n",
       "┃<span style=\"font-weight: bold\">        Test metric        </span>┃<span style=\"font-weight: bold\">       DataLoader 0        </span>┃\n",
       "┡━━━━━━━━━━━━━━━━━━━━━━━━━━━╇━━━━━━━━━━━━━━━━━━━━━━━━━━━┩\n",
       "│<span style=\"color: #008080; text-decoration-color: #008080\">         acc/test          </span>│<span style=\"color: #800080; text-decoration-color: #800080\">    0.9769999980926514     </span>│\n",
       "│<span style=\"color: #008080; text-decoration-color: #008080\">         loss/test         </span>│<span style=\"color: #800080; text-decoration-color: #800080\">    0.05489429831504822    </span>│\n",
       "└───────────────────────────┴───────────────────────────┘\n",
       "</pre>\n"
      ],
      "text/plain": [
       "┏━━━━━━━━━━━━━━━━━━━━━━━━━━━┳━━━━━━━━━━━━━━━━━━━━━━━━━━━┓\n",
       "┃\u001b[1m \u001b[0m\u001b[1m       Test metric       \u001b[0m\u001b[1m \u001b[0m┃\u001b[1m \u001b[0m\u001b[1m      DataLoader 0       \u001b[0m\u001b[1m \u001b[0m┃\n",
       "┡━━━━━━━━━━━━━━━━━━━━━━━━━━━╇━━━━━━━━━━━━━━━━━━━━━━━━━━━┩\n",
       "│\u001b[36m \u001b[0m\u001b[36m        acc/test         \u001b[0m\u001b[36m \u001b[0m│\u001b[35m \u001b[0m\u001b[35m   0.9769999980926514    \u001b[0m\u001b[35m \u001b[0m│\n",
       "│\u001b[36m \u001b[0m\u001b[36m        loss/test        \u001b[0m\u001b[36m \u001b[0m│\u001b[35m \u001b[0m\u001b[35m   0.05489429831504822   \u001b[0m\u001b[35m \u001b[0m│\n",
       "└───────────────────────────┴───────────────────────────┘\n"
      ]
     },
     "metadata": {},
     "output_type": "display_data"
    },
    {
     "data": {
      "text/html": [
       "<pre style=\"white-space:pre;overflow-x:auto;line-height:normal;font-family:Menlo,'DejaVu Sans Mono',consolas,'Courier New',monospace\">┏━━━━━━━━━━━━━━━━━━━━━━━━━━━┳━━━━━━━━━━━━━━━━━━━━━━━━━━━┓\n",
       "┃<span style=\"font-weight: bold\">        Test metric        </span>┃<span style=\"font-weight: bold\">       DataLoader 0        </span>┃\n",
       "┡━━━━━━━━━━━━━━━━━━━━━━━━━━━╇━━━━━━━━━━━━━━━━━━━━━━━━━━━┩\n",
       "│<span style=\"color: #008080; text-decoration-color: #008080\">         acc/test          </span>│<span style=\"color: #800080; text-decoration-color: #800080\">    0.9241999983787537     </span>│\n",
       "│<span style=\"color: #008080; text-decoration-color: #008080\">         loss/test         </span>│<span style=\"color: #800080; text-decoration-color: #800080\">    0.49278751015663147    </span>│\n",
       "└───────────────────────────┴───────────────────────────┘\n",
       "</pre>\n"
      ],
      "text/plain": [
       "┏━━━━━━━━━━━━━━━━━━━━━━━━━━━┳━━━━━━━━━━━━━━━━━━━━━━━━━━━┓\n",
       "┃\u001b[1m \u001b[0m\u001b[1m       Test metric       \u001b[0m\u001b[1m \u001b[0m┃\u001b[1m \u001b[0m\u001b[1m      DataLoader 0       \u001b[0m\u001b[1m \u001b[0m┃\n",
       "┡━━━━━━━━━━━━━━━━━━━━━━━━━━━╇━━━━━━━━━━━━━━━━━━━━━━━━━━━┩\n",
       "│\u001b[36m \u001b[0m\u001b[36m        acc/test         \u001b[0m\u001b[36m \u001b[0m│\u001b[35m \u001b[0m\u001b[35m   0.9241999983787537    \u001b[0m\u001b[35m \u001b[0m│\n",
       "│\u001b[36m \u001b[0m\u001b[36m        loss/test        \u001b[0m\u001b[36m \u001b[0m│\u001b[35m \u001b[0m\u001b[35m   0.49278751015663147   \u001b[0m\u001b[35m \u001b[0m│\n",
       "└───────────────────────────┴───────────────────────────┘\n"
      ]
     },
     "metadata": {},
     "output_type": "display_data"
    },
    {
     "name": "stderr",
     "output_type": "stream",
     "text": [
      "100%|██████████| 3/3 [00:05<00:00,  1.92s/it]\n"
     ]
    }
   ],
   "source": [
    "from scripts.evaluate_matched_models import evaluate_pair_of_models\n",
    "\n",
    "restore_original_weights(models, model_orig_weights)\n",
    "\n",
    "updated_params = {fixed_symbol: {permutee_symbol: None}}\n",
    "\n",
    "pylogger.info(f\"Permuting model {permutee_symbol} into {fixed_symbol}.\")\n",
    "\n",
    "# perms[a, b] maps b -> a\n",
    "updated_params[fixed_symbol][permutee_symbol] = apply_permutation_to_statedict(\n",
    "    permutation_spec, gitrebasin_permutations[fixed_symbol][permutee_symbol], models[permutee_symbol].model.state_dict()\n",
    ")\n",
    "restore_original_weights(models, model_orig_weights)\n",
    "\n",
    "lambdas = [0.0, 0.5, 1.0]\n",
    "\n",
    "gitrebasin_results = evaluate_pair_of_models(\n",
    "    models,\n",
    "    fixed_symbol,\n",
    "    permutee_symbol,\n",
    "    updated_params,\n",
    "    train_loader,\n",
    "    test_loader,\n",
    "    lambdas,\n",
    "    core_cfg,\n",
    ")"
   ]
  },
  {
   "cell_type": "markdown",
   "metadata": {},
   "source": [
    "## QAP"
   ]
  },
  {
   "cell_type": "code",
   "execution_count": 63,
   "metadata": {},
   "outputs": [],
   "source": [
    "restore_original_weights(models, model_orig_weights)"
   ]
  },
  {
   "cell_type": "markdown",
   "metadata": {},
   "source": [
    "## Quadratic"
   ]
  },
  {
   "cell_type": "code",
   "execution_count": 76,
   "metadata": {},
   "outputs": [],
   "source": [
    "from enum import auto\n",
    "from backports.strenum import StrEnum\n",
    "\n",
    "\n",
    "class EigenvectorPostprocess(StrEnum):\n",
    "    LEORDEANU = auto()\n",
    "    LAP = auto()\n",
    "\n",
    "\n",
    "class DiagContent(StrEnum):\n",
    "    \"\"\"Enum for diagonal content of affinity matrix\"\"\"\n",
    "\n",
    "    ONES = auto()\n",
    "    SIMILARITIES = auto()\n",
    "\n",
    "\n",
    "def build_affinity_matrix_vectorized(Wa, Wb, diag: DiagContent):\n",
    "    Wa = torch.tensor(Wa)\n",
    "    Wb = torch.tensor(Wb)\n",
    "\n",
    "    num_neurons = Wa.size(0)\n",
    "    num_matchings = num_neurons**2\n",
    "\n",
    "    # Compute all pairwise Euclidean distances for Wa and Wb\n",
    "    Wa_distances = torch.cdist(Wa, Wa, p=2)\n",
    "    Wb_distances = torch.cdist(Wb, Wb, p=2)\n",
    "\n",
    "    # Prepare the distance matrices for broadcasting\n",
    "    Wa_distances = Wa_distances.view(num_neurons, 1, num_neurons, 1).expand(-1, num_neurons, -1, num_neurons)\n",
    "    Wb_distances = Wb_distances.view(1, num_neurons, 1, num_neurons).expand(num_neurons, -1, num_neurons, -1)\n",
    "\n",
    "    S = torch.exp(-torch.abs(Wa_distances - Wb_distances) / 1e-2)\n",
    "\n",
    "    S = S.reshape(num_matchings, num_matchings)\n",
    "\n",
    "    if diag == DiagContent.ONES:\n",
    "        diag_matrix = torch.eye(num_matchings)\n",
    "\n",
    "    elif diag == DiagContent.SIMILARITIES:\n",
    "        Wa_Wb_distances = torch.cdist(Wa, Wb, p=2)\n",
    "        Wa_Wb_sim = torch.exp(-torch.abs(Wa_Wb_distances) / 1e-2)\n",
    "\n",
    "        Wa_Wb_sim = Wa_Wb_sim.reshape(num_matchings, 1)\n",
    "\n",
    "        diag_matrix = torch.diag(Wa_Wb_sim.squeeze())\n",
    "\n",
    "    mask = torch.eye(num_matchings, dtype=torch.bool)\n",
    "    S[mask] = 0\n",
    "\n",
    "    S = S + diag_matrix\n",
    "\n",
    "    return S.numpy()"
   ]
  },
  {
   "cell_type": "code",
   "execution_count": 77,
   "metadata": {},
   "outputs": [],
   "source": [
    "from torch import Tensor\n",
    "\n",
    "\n",
    "def extract_matching_leordeanu(principal_eigenvector: Tensor):\n",
    "    \"\"\"\n",
    "    principal_eigenvector: shape (num_neurons, num_neurons)\n",
    "    \"\"\"\n",
    "\n",
    "    num_neurons = principal_eigenvector.shape[0]\n",
    "\n",
    "    # Initialize the solution vector\n",
    "    x = torch.zeros((num_neurons, num_neurons)).type_as(principal_eigenvector).long()\n",
    "\n",
    "    # Initialize masks for rows and columns\n",
    "    row_mask = torch.ones(num_neurons, dtype=torch.bool)\n",
    "    col_mask = torch.ones(num_neurons, dtype=torch.bool)\n",
    "\n",
    "    while True:\n",
    "        # Apply masks to principal eigenvector\n",
    "        masked_principal_eigenvector = principal_eigenvector.clone()\n",
    "        masked_principal_eigenvector[~row_mask, :] = 0\n",
    "        masked_principal_eigenvector[:, ~col_mask] = 0\n",
    "\n",
    "        # Find the maximum value and its index\n",
    "        flat_index = masked_principal_eigenvector.argmax()\n",
    "\n",
    "        i, j = np.unravel_index(flat_index.item(), (num_neurons, num_neurons))\n",
    "\n",
    "        assignment_value = masked_principal_eigenvector[(i, j)]\n",
    "        if assignment_value == 0:\n",
    "            break\n",
    "\n",
    "        # Update the solution vector\n",
    "        x[i, j] = 1\n",
    "\n",
    "        # Update the masks to exclude row i and column j\n",
    "        row_mask[i] = False\n",
    "        col_mask[j] = False\n",
    "\n",
    "    return x"
   ]
  },
  {
   "cell_type": "code",
   "execution_count": 78,
   "metadata": {},
   "outputs": [],
   "source": [
    "from scipy.optimize import linear_sum_assignment\n",
    "import scipy\n",
    "\n",
    "\n",
    "def extract_matching_lap(principal_eigenvector):\n",
    "    num_neurons = principal_eigenvector.shape[0]\n",
    "\n",
    "    principal_eigenvector = principal_eigenvector.cpu().numpy()\n",
    "\n",
    "    row_ind, col_ind = linear_sum_assignment(principal_eigenvector.max() - principal_eigenvector)\n",
    "    P_AB = scipy.sparse.coo_matrix(\n",
    "        (np.ones(num_neurons), (row_ind, col_ind)), shape=(num_neurons, num_neurons)\n",
    "    ).toarray()\n",
    "\n",
    "    return torch.tensor(P_AB)"
   ]
  },
  {
   "cell_type": "code",
   "execution_count": null,
   "metadata": {},
   "outputs": [],
   "source": [
    "from typing import Tuple\n",
    "from ccmm.matching.func_maps import compute_eigenvectors, fit_func_map\n",
    "from ccmm.matching.permutation_spec import PermutationSpec\n",
    "from ccmm.matching.quadratic_matching import get_principal_eigenvector\n",
    "from ccmm.matching.utils import get_permuted_param, perm_cols, perm_matrix_to_perm_indices, perm_rows\n",
    "from ccmm.matching.weight_matching import (\n",
    "    LayerIterationOrder,\n",
    "    compute_weights_similarity,\n",
    "    get_layer_iteration_order,\n",
    "    solve_linear_assignment_problem,\n",
    ")\n",
    "\n",
    "\n",
    "def quadratic_matching(\n",
    "    ps: PermutationSpec,\n",
    "    fixed,\n",
    "    permutee,\n",
    "    max_iter=100,\n",
    "    init_perm=None,\n",
    "    layer_iteration_order: LayerIterationOrder = LayerIterationOrder.RANDOM,\n",
    "    verbose=False,\n",
    "    method=\"quadratic\",\n",
    "    eigenvec_postprocess: EigenvectorPostprocess = EigenvectorPostprocess.LEORDEANU,\n",
    "):\n",
    "    \"\"\"\n",
    "    Find a permutation of params_b to make them match params_a.\n",
    "\n",
    "    :param ps: PermutationSpec\n",
    "    :param target: the parameters to match\n",
    "    :param to_permute: the parameters to permute\n",
    "    \"\"\"\n",
    "\n",
    "    if not verbose:\n",
    "        pylogger.setLevel(logging.WARNING)\n",
    "\n",
    "    params_a, params_b = fixed, permutee\n",
    "\n",
    "    perm_sizes = {}\n",
    "\n",
    "    for p, params_and_axes in ps.perm_to_layers_and_axes.items():\n",
    "\n",
    "        # p is the permutation matrix name, e.g. P_0, P_1, ..\n",
    "        # params_and_axes is a list of tuples, each tuple contains the name of the parameter and the axis on which the permutation matrix acts\n",
    "\n",
    "        # it is enough to select a single parameter and axis, since all the parameters permuted by the same matrix have the same shape\n",
    "        ref_tuple = params_and_axes[0]\n",
    "        ref_param_name = ref_tuple[0]\n",
    "        ref_axis = ref_tuple[1]\n",
    "\n",
    "        perm_sizes[p] = params_a[ref_param_name].shape[ref_axis]\n",
    "\n",
    "    # initialize with identity permutation if none given\n",
    "    all_perm_indices = {p: torch.arange(n) for p, n in perm_sizes.items()} if init_perm is None else init_perm\n",
    "    # e.g. P0, P1, ..\n",
    "    perm_names = list(all_perm_indices.keys())\n",
    "\n",
    "    num_layers = len(perm_names)\n",
    "\n",
    "    loss = {p: 1e3 for p in perm_names}\n",
    "\n",
    "    for iteration in tqdm(range(max_iter), desc=\"Weight matching\"):\n",
    "        progress = False\n",
    "\n",
    "        perm_order = get_layer_iteration_order(layer_iteration_order, num_layers)\n",
    "\n",
    "        for p_ix in perm_order:\n",
    "            print(f\"Permuting {perm_names[p_ix]}\")\n",
    "\n",
    "            p = perm_names[p_ix]\n",
    "            num_neurons = perm_sizes[p]\n",
    "\n",
    "            # all the params that are permuted by this permutation matrix, together with the axis on which it acts\n",
    "            # e.g. ('layer_0.weight', 0), ('layer_0.bias', 0), ('layer_1.weight', 0)..\n",
    "            params_and_axes: List[Tuple[str, int]] = ps.perm_to_layers_and_axes[p]\n",
    "            # sort by axis, so that we can permute the columns of the weight matrices first\n",
    "            params_and_axes = sorted(params_and_axes, key=lambda x: x[1])\n",
    "            # filter out bias\n",
    "            params_and_axes = [x for x in params_and_axes if \"bias\" not in x[0]]\n",
    "\n",
    "            # TODO: check if this is true in more complex architectures (probably not)\n",
    "            assert len(params_and_axes) == 2, f\"Expected 2 params, got {len(params_and_axes)}: {params_and_axes}\"\n",
    "\n",
    "            # AXES 0, CURRENT LAYER\n",
    "            curr_params_name = params_and_axes[0][0]\n",
    "            assert params_and_axes[0][1] == 0\n",
    "\n",
    "            # (num_neurons, neuron_dim)\n",
    "            w_a = copy.deepcopy(params_a[curr_params_name])\n",
    "            w_b = copy.deepcopy(params_b[curr_params_name])\n",
    "            assert w_a.shape == w_b.shape\n",
    "\n",
    "            perms_to_apply = ps.layer_and_axes_to_perm[curr_params_name]\n",
    "\n",
    "            col_perm_to_apply = perms_to_apply[1]\n",
    "\n",
    "            if col_perm_to_apply is not None:\n",
    "                perm_matrix = perm_indices_to_perm_matrix(all_perm_indices[col_perm_to_apply])\n",
    "                print(\n",
    "                    f\"Permuting the columns of {curr_params_name} with {col_perm_to_apply}, shape: {perm_matrix.shape}\"\n",
    "                )\n",
    "\n",
    "                w_b = perm_cols(w_b, perm_matrix.T)\n",
    "\n",
    "            # AXES 1, NEXT LAYER\n",
    "            next_params_name = params_and_axes[1][0]\n",
    "            w_a_next = copy.deepcopy(params_a[next_params_name])\n",
    "            w_b_next = copy.deepcopy(params_b[next_params_name])\n",
    "\n",
    "            assert w_a_next.shape == w_b_next.shape\n",
    "\n",
    "            perms_to_apply = ps.layer_and_axes_to_perm[next_params_name]\n",
    "            perm_row_next_layer = perms_to_apply[0]\n",
    "\n",
    "            if perm_row_next_layer is not None:\n",
    "                w_b_next = perm_rows(w_b_next, perm_indices_to_perm_matrix(all_perm_indices[perm_row_next_layer]))\n",
    "\n",
    "            w_a_next = torch.moveaxis(w_a_next, 1, 0).reshape((num_neurons, -1))\n",
    "            w_b_next = torch.moveaxis(w_b_next, 1, 0).reshape((num_neurons, -1))\n",
    "\n",
    "            w_a = torch.cat((w_a, w_a_next), dim=1)\n",
    "            w_b = torch.cat((w_b, w_b_next), dim=1)\n",
    "\n",
    "            print(f\"w_a shape: {w_a.shape}, w_b shape: {w_b.shape}\")\n",
    "\n",
    "            sim_matrix = w_a @ w_b.T\n",
    "\n",
    "            if method == \"quadratic\":\n",
    "                affinity = build_affinity_matrix_vectorized(w_a, w_b, diag=DiagContent.ONES)\n",
    "                affinity = torch.tensor(affinity).cuda()\n",
    "\n",
    "                principal_eigenvector = get_principal_eigenvector(affinity)\n",
    "\n",
    "                if eigenvec_postprocess == EigenvectorPostprocess.LEORDEANU:\n",
    "                    perm = extract_matching_leordeanu(principal_eigenvector)\n",
    "                elif eigenvec_postprocess == EigenvectorPostprocess.LAP:\n",
    "                    perm = extract_matching_lap(principal_eigenvector)\n",
    "\n",
    "            elif method == \"lap\":\n",
    "                perm = solve_linear_assignment_problem(sim_matrix, return_matrix=True)\n",
    "\n",
    "            else:\n",
    "                raise ValueError(f\"Unknown method: {method}\")\n",
    "\n",
    "            old_similarity = compute_weights_similarity(sim_matrix, all_perm_indices[p])\n",
    "\n",
    "            all_perm_indices[p] = perm_matrix_to_perm_indices(perm)\n",
    "\n",
    "            new_similarity = compute_weights_similarity(sim_matrix, all_perm_indices[p])\n",
    "\n",
    "            pylogger.info(f\"Iteration {iteration}, Permutation {p}: {new_similarity - old_similarity}\")\n",
    "\n",
    "            progress = progress or new_similarity > old_similarity + 1e-12\n",
    "\n",
    "        if not progress:\n",
    "            break\n",
    "\n",
    "    return all_perm_indices"
   ]
  },
  {
   "cell_type": "code",
   "execution_count": 80,
   "metadata": {},
   "outputs": [],
   "source": [
    "# dicts for permutations and permuted params, D[a][b] refers to the permutation/params to map b -> a\n",
    "qap_permutations = {symb: {other_symb: None for other_symb in symbols.difference(symb)} for symb in symbols}"
   ]
  },
  {
   "cell_type": "code",
   "execution_count": 81,
   "metadata": {},
   "outputs": [
    {
     "name": "stderr",
     "output_type": "stream",
     "text": [
      "Weight matching:   0%|          | 0/100 [00:00<?, ?it/s]/tmp/ipykernel_11089/2081193798.py:15: UserWarning: To copy construct from a tensor, it is recommended to use sourceTensor.clone().detach() or sourceTensor.clone().detach().requires_grad_(True), rather than torch.tensor(sourceTensor).\n",
      "  Wa = torch.tensor(Wa)\n",
      "/tmp/ipykernel_11089/2081193798.py:16: UserWarning: To copy construct from a tensor, it is recommended to use sourceTensor.clone().detach() or sourceTensor.clone().detach().requires_grad_(True), rather than torch.tensor(sourceTensor).\n",
      "  Wb = torch.tensor(Wb)\n",
      "Weight matching:   0%|          | 0/100 [00:00<?, ?it/s]"
     ]
    },
    {
     "name": "stdout",
     "output_type": "stream",
     "text": [
      "Permuting P_1\n",
      "Permuting the columns of layer1.weight with P_0, shape: torch.Size([512, 512])\n",
      "w_a shape: torch.Size([512, 1024]), w_b shape: torch.Size([512, 1024])\n",
      "torch.Size([512, 512, 512, 512]) torch.Size([512, 512, 512, 512])\n"
     ]
    },
    {
     "name": "stderr",
     "output_type": "stream",
     "text": [
      "\n"
     ]
    },
    {
     "ename": "RuntimeError",
     "evalue": "[enforce fail at alloc_cpu.cpp:75] err == 0. DefaultCPUAllocator: can't allocate memory: you tried to allocate 274877906944 bytes. Error code 12 (Cannot allocate memory)",
     "output_type": "error",
     "traceback": [
      "\u001b[0;31m---------------------------------------------------------------------------\u001b[0m",
      "\u001b[0;31mRuntimeError\u001b[0m                              Traceback (most recent call last)",
      "Cell \u001b[0;32mIn[81], line 3\u001b[0m\n\u001b[1;32m      1\u001b[0m restore_original_weights(models, model_orig_weights)\n\u001b[0;32m----> 3\u001b[0m perm_indices \u001b[38;5;241m=\u001b[39m \u001b[43mquadratic_matching\u001b[49m\u001b[43m(\u001b[49m\u001b[43mpermutation_spec\u001b[49m\u001b[43m,\u001b[49m\u001b[43m \u001b[49m\u001b[43mfixed_model\u001b[49m\u001b[38;5;241;43m.\u001b[39;49m\u001b[43mmodel\u001b[49m\u001b[38;5;241;43m.\u001b[39;49m\u001b[43mcpu\u001b[49m\u001b[43m(\u001b[49m\u001b[43m)\u001b[49m\u001b[38;5;241;43m.\u001b[39;49m\u001b[43mstate_dict\u001b[49m\u001b[43m(\u001b[49m\u001b[43m)\u001b[49m\u001b[43m,\u001b[49m\u001b[43m \u001b[49m\u001b[43mpermutee_model\u001b[49m\u001b[38;5;241;43m.\u001b[39;49m\u001b[43mmodel\u001b[49m\u001b[38;5;241;43m.\u001b[39;49m\u001b[43mcpu\u001b[49m\u001b[43m(\u001b[49m\u001b[43m)\u001b[49m\u001b[38;5;241;43m.\u001b[39;49m\u001b[43mstate_dict\u001b[49m\u001b[43m(\u001b[49m\u001b[43m)\u001b[49m\u001b[43m,\u001b[49m\u001b[43m \u001b[49m\u001b[43mmax_iter\u001b[49m\u001b[38;5;241;43m=\u001b[39;49m\u001b[38;5;241;43m100\u001b[39;49m\u001b[43m,\u001b[49m\u001b[43m \u001b[49m\u001b[43mverbose\u001b[49m\u001b[38;5;241;43m=\u001b[39;49m\u001b[38;5;28;43;01mTrue\u001b[39;49;00m\u001b[43m,\u001b[49m\u001b[43m \u001b[49m\u001b[43mmethod\u001b[49m\u001b[38;5;241;43m=\u001b[39;49m\u001b[38;5;124;43m'\u001b[39;49m\u001b[38;5;124;43mquadratic\u001b[39;49m\u001b[38;5;124;43m'\u001b[39;49m\u001b[43m)\u001b[49m\n\u001b[1;32m      5\u001b[0m qap_permutations[fixed_symbol][permutee_symbol] \u001b[38;5;241m=\u001b[39m perm_indices\n\u001b[1;32m      7\u001b[0m qap_permutations[permutee_symbol][fixed_symbol] \u001b[38;5;241m=\u001b[39m get_inverse_permutations(perm_indices)\n",
      "Cell \u001b[0;32mIn[79], line 120\u001b[0m, in \u001b[0;36mquadratic_matching\u001b[0;34m(ps, fixed, permutee, max_iter, init_perm, layer_iteration_order, verbose, method, eigenvec_postprocess)\u001b[0m\n\u001b[1;32m    117\u001b[0m sim_matrix \u001b[38;5;241m=\u001b[39m w_a \u001b[38;5;241m@\u001b[39m w_b\u001b[38;5;241m.\u001b[39mT\n\u001b[1;32m    119\u001b[0m \u001b[38;5;28;01mif\u001b[39;00m method \u001b[38;5;241m==\u001b[39m \u001b[38;5;124m'\u001b[39m\u001b[38;5;124mquadratic\u001b[39m\u001b[38;5;124m'\u001b[39m:\n\u001b[0;32m--> 120\u001b[0m     affinity \u001b[38;5;241m=\u001b[39m \u001b[43mbuild_affinity_matrix_vectorized\u001b[49m\u001b[43m(\u001b[49m\u001b[43mw_a\u001b[49m\u001b[43m,\u001b[49m\u001b[43m \u001b[49m\u001b[43mw_b\u001b[49m\u001b[43m,\u001b[49m\u001b[43m \u001b[49m\u001b[43mdiag\u001b[49m\u001b[38;5;241;43m=\u001b[39;49m\u001b[43mDiagContent\u001b[49m\u001b[38;5;241;43m.\u001b[39;49m\u001b[43mONES\u001b[49m\u001b[43m)\u001b[49m\n\u001b[1;32m    121\u001b[0m     affinity \u001b[38;5;241m=\u001b[39m torch\u001b[38;5;241m.\u001b[39mtensor(affinity)\u001b[38;5;241m.\u001b[39mcuda()\n\u001b[1;32m    123\u001b[0m     principal_eigenvector \u001b[38;5;241m=\u001b[39m get_principal_eigenvector(affinity)\n",
      "Cell \u001b[0;32mIn[76], line 31\u001b[0m, in \u001b[0;36mbuild_affinity_matrix_vectorized\u001b[0;34m(Wa, Wb, diag)\u001b[0m\n\u001b[1;32m     27\u001b[0m Wb_distances \u001b[38;5;241m=\u001b[39m Wb_distances\u001b[38;5;241m.\u001b[39mview(\u001b[38;5;241m1\u001b[39m, num_neurons, \u001b[38;5;241m1\u001b[39m, num_neurons)\u001b[38;5;241m.\u001b[39mexpand(num_neurons, \u001b[38;5;241m-\u001b[39m\u001b[38;5;241m1\u001b[39m, num_neurons, \u001b[38;5;241m-\u001b[39m\u001b[38;5;241m1\u001b[39m)\n\u001b[1;32m     29\u001b[0m \u001b[38;5;28mprint\u001b[39m(Wa_distances\u001b[38;5;241m.\u001b[39mshape, Wb_distances\u001b[38;5;241m.\u001b[39mshape)\n\u001b[0;32m---> 31\u001b[0m S \u001b[38;5;241m=\u001b[39m torch\u001b[38;5;241m.\u001b[39mexp(\u001b[38;5;241m-\u001b[39mtorch\u001b[38;5;241m.\u001b[39mabs(\u001b[43mWa_distances\u001b[49m\u001b[43m \u001b[49m\u001b[38;5;241;43m-\u001b[39;49m\u001b[43m \u001b[49m\u001b[43mWb_distances\u001b[49m) \u001b[38;5;241m/\u001b[39m \u001b[38;5;241m1e-2\u001b[39m)\n\u001b[1;32m     33\u001b[0m S \u001b[38;5;241m=\u001b[39m S\u001b[38;5;241m.\u001b[39mreshape(num_matchings, num_matchings)\n\u001b[1;32m     35\u001b[0m \u001b[38;5;28;01mif\u001b[39;00m diag \u001b[38;5;241m==\u001b[39m DiagContent\u001b[38;5;241m.\u001b[39mONES:\n",
      "\u001b[0;31mRuntimeError\u001b[0m: [enforce fail at alloc_cpu.cpp:75] err == 0. DefaultCPUAllocator: can't allocate memory: you tried to allocate 274877906944 bytes. Error code 12 (Cannot allocate memory)"
     ]
    }
   ],
   "source": [
    "restore_original_weights(models, model_orig_weights)\n",
    "\n",
    "perm_indices = quadratic_matching(\n",
    "    permutation_spec,\n",
    "    fixed_model.model.cpu().state_dict(),\n",
    "    permutee_model.model.cpu().state_dict(),\n",
    "    max_iter=100,\n",
    "    verbose=True,\n",
    "    method=\"quadratic\",\n",
    ")\n",
    "\n",
    "qap_permutations[fixed_symbol][permutee_symbol] = perm_indices\n",
    "\n",
    "qap_permutations[permutee_symbol][fixed_symbol] = get_inverse_permutations(perm_indices)"
   ]
  },
  {
   "cell_type": "code",
   "execution_count": null,
   "metadata": {},
   "outputs": [
    {
     "data": {
      "text/html": [
       "<pre style=\"white-space:pre;overflow-x:auto;line-height:normal;font-family:Menlo,'DejaVu Sans Mono',consolas,'Courier New',monospace\"><span style=\"color: #7fbfbf; text-decoration-color: #7fbfbf\">2025-01-03 08:28:42 </span><span style=\"color: #000080; text-decoration-color: #000080\">INFO    </span> Permuting model b into a.                                                   <a href=\"file:///tmp/ipykernel_11089/2808507962.py\" target=\"_blank\"><span style=\"color: #7f7f7f; text-decoration-color: #7f7f7f\">__main__</span></a><span style=\"color: #7f7f7f; text-decoration-color: #7f7f7f\">:</span><a href=\"file:///tmp/ipykernel_11089/2808507962.py#7\" target=\"_blank\"><span style=\"color: #7f7f7f; text-decoration-color: #7f7f7f\">7</span></a>\n",
       "</pre>\n"
      ],
      "text/plain": [
       "\u001b[2;36m2025-01-03 08:28:42\u001b[0m\u001b[2;36m \u001b[0m\u001b[34mINFO    \u001b[0m Permuting model b into a.                                                   \u001b]8;id=138632;file:///tmp/ipykernel_11089/2808507962.py\u001b\\\u001b[2m__main__\u001b[0m\u001b]8;;\u001b\\\u001b[2m:\u001b[0m\u001b]8;id=420655;file:///tmp/ipykernel_11089/2808507962.py#7\u001b\\\u001b[2m7\u001b[0m\u001b]8;;\u001b\\\n"
      ]
     },
     "metadata": {},
     "output_type": "display_data"
    },
    {
     "ename": "NameError",
     "evalue": "name 'qap_permutations' is not defined",
     "output_type": "error",
     "traceback": [
      "\u001b[0;31m---------------------------------------------------------------------------\u001b[0m",
      "\u001b[0;31mNameError\u001b[0m                                 Traceback (most recent call last)",
      "Cell \u001b[0;32mIn[42], line 11\u001b[0m\n\u001b[1;32m      7\u001b[0m pylogger\u001b[38;5;241m.\u001b[39minfo(\u001b[38;5;124mf\u001b[39m\u001b[38;5;124m\"\u001b[39m\u001b[38;5;124mPermuting model \u001b[39m\u001b[38;5;132;01m{\u001b[39;00mpermutee_symbol\u001b[38;5;132;01m}\u001b[39;00m\u001b[38;5;124m into \u001b[39m\u001b[38;5;132;01m{\u001b[39;00mfixed_symbol\u001b[38;5;132;01m}\u001b[39;00m\u001b[38;5;124m.\u001b[39m\u001b[38;5;124m\"\u001b[39m)\n\u001b[1;32m      9\u001b[0m \u001b[38;5;66;03m# perms[a, b] maps b -> a\u001b[39;00m\n\u001b[1;32m     10\u001b[0m updated_params[fixed_symbol][permutee_symbol] \u001b[38;5;241m=\u001b[39m apply_permutation_to_statedict(\n\u001b[0;32m---> 11\u001b[0m     permutation_spec, \u001b[43mqap_permutations\u001b[49m[fixed_symbol][permutee_symbol], models[permutee_symbol]\u001b[38;5;241m.\u001b[39mmodel\u001b[38;5;241m.\u001b[39mstate_dict()\n\u001b[1;32m     12\u001b[0m )\n\u001b[1;32m     13\u001b[0m restore_original_weights(models, model_orig_weights)\n\u001b[1;32m     15\u001b[0m lambdas \u001b[38;5;241m=\u001b[39m [\u001b[38;5;241m0.0\u001b[39m, \u001b[38;5;241m0.5\u001b[39m, \u001b[38;5;241m1.0\u001b[39m]\n",
      "\u001b[0;31mNameError\u001b[0m: name 'qap_permutations' is not defined"
     ]
    }
   ],
   "source": [
    "from scripts.evaluate_matched_models import evaluate_pair_of_models\n",
    "\n",
    "restore_original_weights(models, model_orig_weights)\n",
    "\n",
    "updated_params = {fixed_symbol: {permutee_symbol: None}}\n",
    "\n",
    "pylogger.info(f\"Permuting model {permutee_symbol} into {fixed_symbol}.\")\n",
    "\n",
    "# perms[a, b] maps b -> a\n",
    "updated_params[fixed_symbol][permutee_symbol] = apply_permutation_to_statedict(\n",
    "    permutation_spec, qap_permutations[fixed_symbol][permutee_symbol], models[permutee_symbol].model.state_dict()\n",
    ")\n",
    "restore_original_weights(models, model_orig_weights)\n",
    "\n",
    "lambdas = [0.0, 0.5, 1.0]\n",
    "\n",
    "qap_results = evaluate_pair_of_models(\n",
    "    models,\n",
    "    fixed_symbol,\n",
    "    permutee_symbol,\n",
    "    updated_params,\n",
    "    train_loader,\n",
    "    test_loader,\n",
    "    lambdas,\n",
    "    core_cfg,\n",
    ")"
   ]
  },
  {
   "cell_type": "markdown",
   "metadata": {},
   "source": [
    "## Evaluation"
   ]
  },
  {
   "cell_type": "code",
   "execution_count": null,
   "metadata": {},
   "outputs": [
    {
     "ename": "NameError",
     "evalue": "name 'func_results' is not defined",
     "output_type": "error",
     "traceback": [
      "\u001b[0;31m---------------------------------------------------------------------------\u001b[0m",
      "\u001b[0;31mNameError\u001b[0m                                 Traceback (most recent call last)",
      "Cell \u001b[0;32mIn[41], line 1\u001b[0m\n\u001b[0;32m----> 1\u001b[0m results \u001b[38;5;241m=\u001b[39m {\u001b[38;5;124m\"\u001b[39m\u001b[38;5;124mgit_rebasin\u001b[39m\u001b[38;5;124m\"\u001b[39m: gitrebasin_results, \u001b[38;5;124m\"\u001b[39m\u001b[38;5;124mnaive\u001b[39m\u001b[38;5;124m\"\u001b[39m: naive_results, \u001b[38;5;124m\"\u001b[39m\u001b[38;5;124mfunc\u001b[39m\u001b[38;5;124m\"\u001b[39m: \u001b[43mfunc_results\u001b[49m}\n\u001b[1;32m      2\u001b[0m \u001b[38;5;66;03m# plot train and test acc\u001b[39;00m\n\u001b[1;32m      4\u001b[0m \u001b[38;5;28;01mfor\u001b[39;00m i, (method, method_results) \u001b[38;5;129;01min\u001b[39;00m \u001b[38;5;28menumerate\u001b[39m(results\u001b[38;5;241m.\u001b[39mitems()):\n",
      "\u001b[0;31mNameError\u001b[0m: name 'func_results' is not defined"
     ]
    }
   ],
   "source": [
    "results = {\"git_rebasin\": gitrebasin_results, \"naive\": naive_results, \"qap\": qap_results}\n",
    "# plot train and test acc\n",
    "\n",
    "for i, (method, method_results) in enumerate(results.items()):\n",
    "\n",
    "    test_acc = method_results[\"test_acc\"]\n",
    "    train_acc = method_results[\"train_acc\"]\n",
    "\n",
    "    plt.plot(lambdas, train_acc, label=f\"{method}\", linestyle=\"solid\", color=palette.get_colors(3)[i])\n",
    "    plt.plot(lambdas, test_acc, label=f\"{method}\", linestyle=\"dashed\", color=palette.get_colors(3)[i])\n",
    "\n",
    "plt.legend()\n",
    "plt.show()"
   ]
  }
 ],
 "metadata": {
  "kernelspec": {
   "display_name": "ccmm",
   "language": "python",
   "name": "python3"
  },
  "language_info": {
   "codemirror_mode": {
    "name": "ipython",
    "version": 3
   },
   "file_extension": ".py",
   "mimetype": "text/x-python",
   "name": "python",
   "nbconvert_exporter": "python",
   "pygments_lexer": "ipython3",
   "version": "3.9.19"
  }
 },
 "nbformat": 4,
 "nbformat_minor": 2
}
